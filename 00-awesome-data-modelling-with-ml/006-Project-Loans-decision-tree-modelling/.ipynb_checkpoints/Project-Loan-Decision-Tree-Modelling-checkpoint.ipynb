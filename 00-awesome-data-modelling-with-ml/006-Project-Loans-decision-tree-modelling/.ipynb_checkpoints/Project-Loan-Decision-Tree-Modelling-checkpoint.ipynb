{
 "cells": [
  {
   "cell_type": "markdown",
   "id": "786c9e6c-3c15-41a8-af79-c7f9d55146c3",
   "metadata": {},
   "source": [
    "# Project Objective: Loan Decision"
   ]
  },
  {
   "cell_type": "markdown",
   "id": "7e997bad-1ec0-43c1-b423-2b23b667c57d",
   "metadata": {},
   "source": [
    "## Module 1: DATA COLLECTION"
   ]
  },
  {
   "cell_type": "markdown",
   "id": "c8cb670b-606c-4a95-843d-836ea0c56b2d",
   "metadata": {},
   "source": [
    "#### Step 1.1 Import the required libraries "
   ]
  },
  {
   "cell_type": "code",
   "execution_count": 15,
   "id": "4da2b1be-a78c-456b-a2b5-e7432eda4ad3",
   "metadata": {},
   "outputs": [],
   "source": [
    "import pandas as pd"
   ]
  },
  {
   "cell_type": "markdown",
   "id": "0d64ab1e-8da3-4631-99c0-4390efaaa46d",
   "metadata": {},
   "source": [
    "#### Step 1.2 Load the Data as a DataFrame"
   ]
  },
  {
   "cell_type": "code",
   "execution_count": 2,
   "id": "2765e2f5-c711-41cf-b3a7-179142155e24",
   "metadata": {},
   "outputs": [],
   "source": [
    "loans = pd.read_csv(\"loan.csv\")"
   ]
  },
  {
   "cell_type": "markdown",
   "id": "70d8f1dc-48a2-41e3-b394-5666435b3a3c",
   "metadata": {},
   "source": [
    "### Step 2.1 Data Inspection - head(), info(), describe() etc."
   ]
  },
  {
   "cell_type": "code",
   "execution_count": 3,
   "id": "0e6ab09b-a544-45ed-9195-6855f9e9c2e6",
   "metadata": {},
   "outputs": [
    {
     "data": {
      "text/html": [
       "<div>\n",
       "<style scoped>\n",
       "    .dataframe tbody tr th:only-of-type {\n",
       "        vertical-align: middle;\n",
       "    }\n",
       "\n",
       "    .dataframe tbody tr th {\n",
       "        vertical-align: top;\n",
       "    }\n",
       "\n",
       "    .dataframe thead th {\n",
       "        text-align: right;\n",
       "    }\n",
       "</style>\n",
       "<table border=\"1\" class=\"dataframe\">\n",
       "  <thead>\n",
       "    <tr style=\"text-align: right;\">\n",
       "      <th></th>\n",
       "      <th>Income</th>\n",
       "      <th>Loan Amount</th>\n",
       "      <th>Default</th>\n",
       "    </tr>\n",
       "  </thead>\n",
       "  <tbody>\n",
       "    <tr>\n",
       "      <th>0</th>\n",
       "      <td>15</td>\n",
       "      <td>8</td>\n",
       "      <td>No</td>\n",
       "    </tr>\n",
       "    <tr>\n",
       "      <th>1</th>\n",
       "      <td>30</td>\n",
       "      <td>8</td>\n",
       "      <td>No</td>\n",
       "    </tr>\n",
       "    <tr>\n",
       "      <th>2</th>\n",
       "      <td>5</td>\n",
       "      <td>9</td>\n",
       "      <td>Yes</td>\n",
       "    </tr>\n",
       "    <tr>\n",
       "      <th>3</th>\n",
       "      <td>22</td>\n",
       "      <td>10</td>\n",
       "      <td>No</td>\n",
       "    </tr>\n",
       "    <tr>\n",
       "      <th>4</th>\n",
       "      <td>33</td>\n",
       "      <td>12</td>\n",
       "      <td>No</td>\n",
       "    </tr>\n",
       "  </tbody>\n",
       "</table>\n",
       "</div>"
      ],
      "text/plain": [
       "   Income  Loan Amount Default\n",
       "0      15            8      No\n",
       "1      30            8      No\n",
       "2       5            9     Yes\n",
       "3      22           10      No\n",
       "4      33           12      No"
      ]
     },
     "execution_count": 3,
     "metadata": {},
     "output_type": "execute_result"
    }
   ],
   "source": [
    "loans.head()"
   ]
  },
  {
   "cell_type": "code",
   "execution_count": 4,
   "id": "3d4b7fa0-1ba8-4aba-a302-5e4e6d5a9d0d",
   "metadata": {},
   "outputs": [
    {
     "name": "stdout",
     "output_type": "stream",
     "text": [
      "<class 'pandas.core.frame.DataFrame'>\n",
      "RangeIndex: 30 entries, 0 to 29\n",
      "Data columns (total 3 columns):\n",
      " #   Column       Non-Null Count  Dtype \n",
      "---  ------       --------------  ----- \n",
      " 0   Income       30 non-null     int64 \n",
      " 1   Loan Amount  30 non-null     int64 \n",
      " 2   Default      30 non-null     object\n",
      "dtypes: int64(2), object(1)\n",
      "memory usage: 852.0+ bytes\n"
     ]
    }
   ],
   "source": [
    "loans.info()"
   ]
  },
  {
   "cell_type": "markdown",
   "id": "7df3db6b-d6cc-4880-96e4-f7b18e93d5cd",
   "metadata": {},
   "source": [
    "## Module 2: DATA EXPLORATION"
   ]
  },
  {
   "cell_type": "markdown",
   "id": "850c38bd-7d16-492e-b396-f0f996cf69d2",
   "metadata": {},
   "source": [
    "**Data Exploration**This is the process of describing, visualizing, and analyzing data to better understand it. It helps answer questions about the structure and nature of the data.\n",
    "\n",
    "**Instances and Features**: An instance (or record/observation) refers to a row of data, while a feature (or variable) refers to a column of data. Features can be categorical (discrete values) or continuous (infinite possible values).\n",
    "\n",
    "**Dimensionality and Sparsity**: Dimensionality refers to the number of features in a dataset, while sparsity and density describe the degree to which data exists for the features in the dataset."
   ]
  },
  {
   "cell_type": "markdown",
   "id": "1aa05aaf-7f41-4a60-89b9-c4395db7792a",
   "metadata": {},
   "source": [
    "### Step 2.1 Describe to explore and understand a specific column"
   ]
  },
  {
   "cell_type": "code",
   "execution_count": 5,
   "id": "ad7d7a81-ceba-45c6-851d-20287f78f8dc",
   "metadata": {},
   "outputs": [
    {
     "data": {
      "text/html": [
       "<div>\n",
       "<style scoped>\n",
       "    .dataframe tbody tr th:only-of-type {\n",
       "        vertical-align: middle;\n",
       "    }\n",
       "\n",
       "    .dataframe tbody tr th {\n",
       "        vertical-align: top;\n",
       "    }\n",
       "\n",
       "    .dataframe thead th {\n",
       "        text-align: right;\n",
       "    }\n",
       "</style>\n",
       "<table border=\"1\" class=\"dataframe\">\n",
       "  <thead>\n",
       "    <tr style=\"text-align: right;\">\n",
       "      <th></th>\n",
       "      <th>Income</th>\n",
       "    </tr>\n",
       "  </thead>\n",
       "  <tbody>\n",
       "    <tr>\n",
       "      <th>count</th>\n",
       "      <td>30.000000</td>\n",
       "    </tr>\n",
       "    <tr>\n",
       "      <th>mean</th>\n",
       "      <td>18.766667</td>\n",
       "    </tr>\n",
       "    <tr>\n",
       "      <th>std</th>\n",
       "      <td>8.572946</td>\n",
       "    </tr>\n",
       "    <tr>\n",
       "      <th>min</th>\n",
       "      <td>5.000000</td>\n",
       "    </tr>\n",
       "    <tr>\n",
       "      <th>25%</th>\n",
       "      <td>13.000000</td>\n",
       "    </tr>\n",
       "    <tr>\n",
       "      <th>50%</th>\n",
       "      <td>18.000000</td>\n",
       "    </tr>\n",
       "    <tr>\n",
       "      <th>75%</th>\n",
       "      <td>25.500000</td>\n",
       "    </tr>\n",
       "    <tr>\n",
       "      <th>max</th>\n",
       "      <td>34.000000</td>\n",
       "    </tr>\n",
       "  </tbody>\n",
       "</table>\n",
       "</div>"
      ],
      "text/plain": [
       "          Income\n",
       "count  30.000000\n",
       "mean   18.766667\n",
       "std     8.572946\n",
       "min     5.000000\n",
       "25%    13.000000\n",
       "50%    18.000000\n",
       "75%    25.500000\n",
       "max    34.000000"
      ]
     },
     "execution_count": 5,
     "metadata": {},
     "output_type": "execute_result"
    }
   ],
   "source": [
    "loans[[\"Income\"]].describe()"
   ]
  },
  {
   "cell_type": "code",
   "execution_count": 6,
   "id": "d3bbee0c-f1cd-4c95-91f3-10359a2adeff",
   "metadata": {},
   "outputs": [
    {
     "data": {
      "text/html": [
       "<div>\n",
       "<style scoped>\n",
       "    .dataframe tbody tr th:only-of-type {\n",
       "        vertical-align: middle;\n",
       "    }\n",
       "\n",
       "    .dataframe tbody tr th {\n",
       "        vertical-align: top;\n",
       "    }\n",
       "\n",
       "    .dataframe thead th {\n",
       "        text-align: right;\n",
       "    }\n",
       "</style>\n",
       "<table border=\"1\" class=\"dataframe\">\n",
       "  <thead>\n",
       "    <tr style=\"text-align: right;\">\n",
       "      <th></th>\n",
       "      <th>Loan Amount</th>\n",
       "    </tr>\n",
       "  </thead>\n",
       "  <tbody>\n",
       "    <tr>\n",
       "      <th>count</th>\n",
       "      <td>30.000000</td>\n",
       "    </tr>\n",
       "    <tr>\n",
       "      <th>mean</th>\n",
       "      <td>51.966667</td>\n",
       "    </tr>\n",
       "    <tr>\n",
       "      <th>std</th>\n",
       "      <td>34.055212</td>\n",
       "    </tr>\n",
       "    <tr>\n",
       "      <th>min</th>\n",
       "      <td>8.000000</td>\n",
       "    </tr>\n",
       "    <tr>\n",
       "      <th>25%</th>\n",
       "      <td>21.250000</td>\n",
       "    </tr>\n",
       "    <tr>\n",
       "      <th>50%</th>\n",
       "      <td>49.000000</td>\n",
       "    </tr>\n",
       "    <tr>\n",
       "      <th>75%</th>\n",
       "      <td>79.500000</td>\n",
       "    </tr>\n",
       "    <tr>\n",
       "      <th>max</th>\n",
       "      <td>110.000000</td>\n",
       "    </tr>\n",
       "  </tbody>\n",
       "</table>\n",
       "</div>"
      ],
      "text/plain": [
       "       Loan Amount\n",
       "count    30.000000\n",
       "mean     51.966667\n",
       "std      34.055212\n",
       "min       8.000000\n",
       "25%      21.250000\n",
       "50%      49.000000\n",
       "75%      79.500000\n",
       "max     110.000000"
      ]
     },
     "execution_count": 6,
     "metadata": {},
     "output_type": "execute_result"
    }
   ],
   "source": [
    "loans[[\"Loan Amount\"]].describe()"
   ]
  },
  {
   "cell_type": "code",
   "execution_count": 7,
   "id": "7bde02eb-add6-4384-9fe4-1539b8b87182",
   "metadata": {},
   "outputs": [
    {
     "data": {
      "text/html": [
       "<div>\n",
       "<style scoped>\n",
       "    .dataframe tbody tr th:only-of-type {\n",
       "        vertical-align: middle;\n",
       "    }\n",
       "\n",
       "    .dataframe tbody tr th {\n",
       "        vertical-align: top;\n",
       "    }\n",
       "\n",
       "    .dataframe thead th {\n",
       "        text-align: right;\n",
       "    }\n",
       "</style>\n",
       "<table border=\"1\" class=\"dataframe\">\n",
       "  <thead>\n",
       "    <tr style=\"text-align: right;\">\n",
       "      <th></th>\n",
       "      <th>Default</th>\n",
       "    </tr>\n",
       "  </thead>\n",
       "  <tbody>\n",
       "    <tr>\n",
       "      <th>count</th>\n",
       "      <td>30</td>\n",
       "    </tr>\n",
       "    <tr>\n",
       "      <th>unique</th>\n",
       "      <td>2</td>\n",
       "    </tr>\n",
       "    <tr>\n",
       "      <th>top</th>\n",
       "      <td>No</td>\n",
       "    </tr>\n",
       "    <tr>\n",
       "      <th>freq</th>\n",
       "      <td>17</td>\n",
       "    </tr>\n",
       "  </tbody>\n",
       "</table>\n",
       "</div>"
      ],
      "text/plain": [
       "       Default\n",
       "count       30\n",
       "unique       2\n",
       "top         No\n",
       "freq        17"
      ]
     },
     "execution_count": 7,
     "metadata": {},
     "output_type": "execute_result"
    }
   ],
   "source": [
    "loans[[\"Default\"]].describe()"
   ]
  },
  {
   "cell_type": "markdown",
   "id": "a759fb39-6b91-4054-8008-cea44118b060",
   "metadata": {},
   "source": [
    "### Step 2.2 Data Aggregation - value_counts(), mean(), groupby(), sort()"
   ]
  },
  {
   "cell_type": "code",
   "execution_count": 8,
   "id": "71b3fc62-9ab1-427e-b3ba-c019afc0c981",
   "metadata": {},
   "outputs": [
    {
     "data": {
      "text/plain": [
       "Income  Loan Amount  Default\n",
       "5       9            Yes        1\n",
       "        72           Yes        1\n",
       "33      12           No         1\n",
       "30      53           No         1\n",
       "        8            No         1\n",
       "28      110          Yes        1\n",
       "        20           No         1\n",
       "26      70           No         1\n",
       "        38           No         1\n",
       "24      89           No         1\n",
       "        22           Yes        1\n",
       "23      80           No         1\n",
       "        50           Yes        1\n",
       "        32           No         1\n",
       "22      10           No         1\n",
       "18      76           No         1\n",
       "        15           No         1\n",
       "16      100          No         1\n",
       "15      85           No         1\n",
       "        8            No         1\n",
       "14      110          Yes        1\n",
       "13      78           Yes        1\n",
       "        51           Yes        1\n",
       "        35           No         1\n",
       "12      21           Yes        1\n",
       "9       30           Yes        1\n",
       "8       90           Yes        1\n",
       "        48           Yes        1\n",
       "7       105          Yes        1\n",
       "34      32           No         1\n",
       "Name: count, dtype: int64"
      ]
     },
     "execution_count": 8,
     "metadata": {},
     "output_type": "execute_result"
    }
   ],
   "source": [
    "loans.value_counts()"
   ]
  },
  {
   "cell_type": "code",
   "execution_count": 11,
   "id": "b30114a5-ed80-4142-a5cc-72af6f597577",
   "metadata": {},
   "outputs": [
    {
     "name": "stdout",
     "output_type": "stream",
     "text": [
      "<pandas.core.groupby.generic.DataFrameGroupBy object at 0x112850b30>\n"
     ]
    }
   ],
   "source": [
    "loans.groupby(\"Default\")"
   ]
  },
  {
   "cell_type": "markdown",
   "id": "71fc5240-03d1-4d19-85ca-89f1a7824ead",
   "metadata": {},
   "source": [
    "### Step 2.3 Data Cleaning - Handle missing values, duplicates, inconsistent formats, etc."
   ]
  },
  {
   "cell_type": "markdown",
   "id": "d4670de9-ac40-483c-9430-0de7b7766938",
   "metadata": {},
   "source": [
    "### Step 2.4 Data Storage - Save the cleaned data for future use."
   ]
  },
  {
   "cell_type": "markdown",
   "id": "68da121f-7d48-4dd0-8abd-41575db18d52",
   "metadata": {},
   "source": [
    "----"
   ]
  },
  {
   "cell_type": "markdown",
   "id": "89a3f435-7bce-4539-b5a0-0ac6083e71c8",
   "metadata": {},
   "source": [
    "## Module 3: DATA VISUALIZATION"
   ]
  },
  {
   "cell_type": "markdown",
   "id": "8ea67b10-1b83-4c67-a34d-80ae62b45c27",
   "metadata": {},
   "source": [
    "### ** *Because certain data patterns are only understood when represented with a visualization*"
   ]
  },
  {
   "cell_type": "code",
   "execution_count": 16,
   "id": "b20ed9e0-8933-4519-87fc-c12d7eda9110",
   "metadata": {},
   "outputs": [],
   "source": [
    "# this command so that all the graphs or plots appear in our jupyter notebook just after the commands\n",
    "%matplotlib inline"
   ]
  },
  {
   "cell_type": "code",
   "execution_count": 17,
   "id": "89349445-77d4-44d8-9eaa-efd392daa79e",
   "metadata": {},
   "outputs": [],
   "source": [
    "from matplotlib import pyplot as plt\n",
    "import seaborn as sns"
   ]
  },
  {
   "cell_type": "code",
   "execution_count": 20,
   "id": "9254fdf9-02cf-4740-b4aa-4192c9c18559",
   "metadata": {},
   "outputs": [],
   "source": [
    "### Statistical analysis"
   ]
  },
  {
   "cell_type": "code",
   "execution_count": 22,
   "id": "5b941898-558a-4f4f-9795-e6bdbb143cf3",
   "metadata": {},
   "outputs": [
    {
     "data": {
      "image/png": "[encoded data removed]",
      "text/plain": [
       "<Figure size 640x480 with 1 Axes>"
      ]
     },
     "metadata": {},
     "output_type": "display_data"
    }
   ],
   "source": [
    "ax = sns.boxplot(data = loans, x = 'Default' , y = 'Income')"
   ]
  },
  {
   "cell_type": "code",
   "execution_count": 24,
   "id": "eb695432-a2b2-44c8-99f4-f2b5518e09eb",
   "metadata": {},
   "outputs": [
    {
     "data": {
      "image/png": "[encoded data removed]",
      "text/plain": [
       "<Figure size 640x480 with 1 Axes>"
      ]
     },
     "metadata": {},
     "output_type": "display_data"
    }
   ],
   "source": [
    "ax = sns.boxplot(data = loans, x = 'Default' , y = 'Loan Amount')"
   ]
  },
  {
   "cell_type": "code",
   "execution_count": null,
   "id": "320d65b2-7885-423d-b526-df40b0a275bd",
   "metadata": {},
   "outputs": [],
   "source": []
  },
  {
   "cell_type": "markdown",
   "id": "061eeddf-368f-4c98-a1e1-35bb3d56fad4",
   "metadata": {},
   "source": [
    "### Step 3.1 Comparision visualization"
   ]
  },
  {
   "cell_type": "markdown",
   "id": "36a2a4d1-a992-4122-bdce-43a4f0f6d60b",
   "metadata": {},
   "source": [
    "#### Scatter Plot"
   ]
  },
  {
   "cell_type": "markdown",
   "id": "5ddf9f8a-891d-4e1e-a606-00412902d687",
   "metadata": {},
   "source": [
    "### Step 3.2 Relationship visualization"
   ]
  },
  {
   "cell_type": "markdown",
   "id": "399a2627-be97-40e3-b9be-44b798532c15",
   "metadata": {},
   "source": [
    "#### Scatter plot"
   ]
  },
  {
   "cell_type": "markdown",
   "id": "52612f4c-f575-4d78-99c9-6dd659fbdbd2",
   "metadata": {},
   "source": [
    "### Step 3.3 Distribution visualization"
   ]
  },
  {
   "cell_type": "markdown",
   "id": "538c941e-296a-44d6-9c2d-71534d2cd33f",
   "metadata": {},
   "source": [
    "#### Histogram"
   ]
  },
  {
   "cell_type": "markdown",
   "id": "505d0750-0c29-4bb8-9ddd-70b5e8a00217",
   "metadata": {},
   "source": [
    "### Step 3.4 Composition visualization"
   ]
  },
  {
   "cell_type": "markdown",
   "id": "024510e2-baea-4dba-98fc-ee28c793314d",
   "metadata": {},
   "source": [
    "----"
   ]
  },
  {
   "cell_type": "markdown",
   "id": "2dcad59d-7dce-4e30-a312-6d2dd9a1a674",
   "metadata": {},
   "source": [
    "## Module 4: DATA MODELLING"
   ]
  },
  {
   "cell_type": "markdown",
   "id": "18eb08f4-8f2f-4218-b0f7-3a287376a4c3",
   "metadata": {},
   "source": [
    "## Module 5: DATA OPTIMIZATION"
   ]
  }
 ],
 "metadata": {
  "kernelspec": {
   "display_name": "Python 3 (ipykernel)",
   "language": "python",
   "name": "python3"
  },
  "language_info": {
   "codemirror_mode": {
    "name": "ipython",
    "version": 3
   },
   "file_extension": ".py",
   "mimetype": "text/x-python",
   "name": "python",
   "nbconvert_exporter": "python",
   "pygments_lexer": "ipython3",
   "version": "3.12.2"
  }
 },
 "nbformat": 4,
 "nbformat_minor": 5
}
