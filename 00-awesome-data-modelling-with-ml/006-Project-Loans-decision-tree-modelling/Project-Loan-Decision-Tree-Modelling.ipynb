{
 "cells": [
  {
   "cell_type": "markdown",
   "id": "786c9e6c-3c15-41a8-af79-c7f9d55146c3",
   "metadata": {},
   "source": [
    "# Project Objective: Loan Decision"
   ]
  },
  {
   "cell_type": "markdown",
   "id": "7e997bad-1ec0-43c1-b423-2b23b667c57d",
   "metadata": {},
   "source": [
    "## Module 1: DATA COLLECTION"
   ]
  },
  {
   "cell_type": "markdown",
   "id": "c8cb670b-606c-4a95-843d-836ea0c56b2d",
   "metadata": {},
   "source": [
    "#### Step 1.1 Import the required libraries "
   ]
  },
  {
   "cell_type": "markdown",
   "id": "0d64ab1e-8da3-4631-99c0-4390efaaa46d",
   "metadata": {},
   "source": [
    "#### Step 1.2 Load the Data as a DataFrame"
   ]
  },
  {
   "cell_type": "markdown",
   "id": "70d8f1dc-48a2-41e3-b394-5666435b3a3c",
   "metadata": {},
   "source": [
    "### Step 2.1 Data Inspection - head(), info(), describe() etc."
   ]
  },
  {
   "cell_type": "markdown",
   "id": "7df3db6b-d6cc-4880-96e4-f7b18e93d5cd",
   "metadata": {},
   "source": [
    "## Module 2: DATA EXPLORATION"
   ]
  },
  {
   "cell_type": "markdown",
   "id": "850c38bd-7d16-492e-b396-f0f996cf69d2",
   "metadata": {},
   "source": [
    "**Data Exploration**This is the process of describing, visualizing, and analyzing data to better understand it. It helps answer questions about the structure and nature of the data.\n",
    "\n",
    "**Instances and Features**: An instance (or record/observation) refers to a row of data, while a feature (or variable) refers to a column of data. Features can be categorical (discrete values) or continuous (infinite possible values).\n",
    "\n",
    "**Dimensionality and Sparsity**: Dimensionality refers to the number of features in a dataset, while sparsity and density describe the degree to which data exists for the features in the dataset."
   ]
  },
  {
   "cell_type": "markdown",
   "id": "1aa05aaf-7f41-4a60-89b9-c4395db7792a",
   "metadata": {},
   "source": [
    "### Step 2.1 Describe to explore and understand a specific column"
   ]
  },
  {
   "cell_type": "markdown",
   "id": "a759fb39-6b91-4054-8008-cea44118b060",
   "metadata": {},
   "source": [
    "### Step 2.2 Data Aggregation - value_counts(), mean(), groupby(), sort()"
   ]
  },
  {
   "cell_type": "markdown",
   "id": "71fc5240-03d1-4d19-85ca-89f1a7824ead",
   "metadata": {},
   "source": [
    "### Step 2.3 Data Cleaning - Handle missing values, duplicates, inconsistent formats, etc."
   ]
  },
  {
   "cell_type": "markdown",
   "id": "d4670de9-ac40-483c-9430-0de7b7766938",
   "metadata": {},
   "source": [
    "### Step 2.4 Data Storage - Save the cleaned data for future use."
   ]
  },
  {
   "cell_type": "markdown",
   "id": "68da121f-7d48-4dd0-8abd-41575db18d52",
   "metadata": {},
   "source": [
    "----"
   ]
  },
  {
   "cell_type": "markdown",
   "id": "89a3f435-7bce-4539-b5a0-0ac6083e71c8",
   "metadata": {},
   "source": [
    "## Module 3: DATA VISUALIZATION"
   ]
  },
  {
   "cell_type": "markdown",
   "id": "8ea67b10-1b83-4c67-a34d-80ae62b45c27",
   "metadata": {},
   "source": [
    "### ** *Because certain data patterns are only understood when represented with a visualization*"
   ]
  },
  {
   "cell_type": "code",
   "execution_count": 1,
   "id": "b20ed9e0-8933-4519-87fc-c12d7eda9110",
   "metadata": {},
   "outputs": [],
   "source": [
    "# this command so that all the graphs or plots appear in our jupyter notebook just after the commands\n",
    "%matplotlib inline"
   ]
  },
  {
   "cell_type": "markdown",
   "id": "061eeddf-368f-4c98-a1e1-35bb3d56fad4",
   "metadata": {},
   "source": [
    "### Step 3.1 Comparision visualization"
   ]
  },
  {
   "cell_type": "markdown",
   "id": "36a2a4d1-a992-4122-bdce-43a4f0f6d60b",
   "metadata": {},
   "source": [
    "#### Scatter Plot"
   ]
  },
  {
   "cell_type": "markdown",
   "id": "5ddf9f8a-891d-4e1e-a606-00412902d687",
   "metadata": {},
   "source": [
    "### Step 3.2 Relationship visualization"
   ]
  },
  {
   "cell_type": "markdown",
   "id": "399a2627-be97-40e3-b9be-44b798532c15",
   "metadata": {},
   "source": [
    "#### Scatter plot"
   ]
  },
  {
   "cell_type": "markdown",
   "id": "52612f4c-f575-4d78-99c9-6dd659fbdbd2",
   "metadata": {},
   "source": [
    "### Step 3.3 Distribution visualization"
   ]
  },
  {
   "cell_type": "markdown",
   "id": "538c941e-296a-44d6-9c2d-71534d2cd33f",
   "metadata": {},
   "source": [
    "#### Histogram"
   ]
  },
  {
   "cell_type": "markdown",
   "id": "505d0750-0c29-4bb8-9ddd-70b5e8a00217",
   "metadata": {},
   "source": [
    "### Step 3.4 Composition visualization"
   ]
  },
  {
   "cell_type": "markdown",
   "id": "024510e2-baea-4dba-98fc-ee28c793314d",
   "metadata": {},
   "source": [
    "----"
   ]
  },
  {
   "cell_type": "markdown",
   "id": "2dcad59d-7dce-4e30-a312-6d2dd9a1a674",
   "metadata": {},
   "source": [
    "## Module 4: DATA MODELLING"
   ]
  },
  {
   "cell_type": "markdown",
   "id": "18eb08f4-8f2f-4218-b0f7-3a287376a4c3",
   "metadata": {},
   "source": [
    "## Module 5: DATA OPTIMIZATION"
   ]
  }
 ],
 "metadata": {
  "kernelspec": {
   "display_name": "Python 3 (ipykernel)",
   "language": "python",
   "name": "python3"
  },
  "language_info": {
   "codemirror_mode": {
    "name": "ipython",
    "version": 3
   },
   "file_extension": ".py",
   "mimetype": "text/x-python",
   "name": "python",
   "nbconvert_exporter": "python",
   "pygments_lexer": "ipython3",
   "version": "3.12.2"
  }
 },
 "nbformat": 4,
 "nbformat_minor": 5
}
