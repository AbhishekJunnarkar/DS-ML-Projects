{
 "cells": [
  {
   "cell_type": "markdown",
   "id": "786c9e6c-3c15-41a8-af79-c7f9d55146c3",
   "metadata": {},
   "source": [
    "# Project Objective: BRICS Countries Data \n",
    "- Understand how GDP relates to population\n",
    "- Compare literacy across countries\n",
    "- See if higher literacy correlates with longer life expectancy\n",
    "- Compute and visualize GDP per capita\n",
    "- Normalize GDP, literacy, and expectancy to compare development dimensions"
   ]
  },
  {
   "cell_type": "markdown",
   "id": "7e997bad-1ec0-43c1-b423-2b23b667c57d",
   "metadata": {},
   "source": [
    "## Module 1: DATA COLLECTION"
   ]
  },
  {
   "cell_type": "markdown",
   "id": "4a5688ca-8218-435a-8de8-113447b1da18",
   "metadata": {},
   "source": [
    "#### Step 1.1 Import the required libraries "
   ]
  },
  {
   "cell_type": "code",
   "execution_count": 1,
   "id": "c0a9ef26-0d50-4fc7-97c7-f4a67d25427a",
   "metadata": {},
   "outputs": [],
   "source": [
    "import pandas as pd"
   ]
  },
  {
   "cell_type": "markdown",
   "id": "34a8414f-c77d-4888-a7f0-1496fa1301d1",
   "metadata": {},
   "source": [
    "#### Step 1.2 Load the Data as a DataFrame: File format CSV"
   ]
  },
  {
   "cell_type": "code",
   "execution_count": 2,
   "id": "bd00614b-58ac-4fd4-83c2-64140b55b462",
   "metadata": {
    "scrolled": true
   },
   "outputs": [
    {
     "data": {
      "text/html": [
       "<div>\n",
       "<style scoped>\n",
       "    .dataframe tbody tr th:only-of-type {\n",
       "        vertical-align: middle;\n",
       "    }\n",
       "\n",
       "    .dataframe tbody tr th {\n",
       "        vertical-align: top;\n",
       "    }\n",
       "\n",
       "    .dataframe thead th {\n",
       "        text-align: right;\n",
       "    }\n",
       "</style>\n",
       "<table border=\"1\" class=\"dataframe\">\n",
       "  <thead>\n",
       "    <tr style=\"text-align: right;\">\n",
       "      <th></th>\n",
       "      <th>country</th>\n",
       "      <th>capital</th>\n",
       "      <th>gdp</th>\n",
       "      <th>literacy</th>\n",
       "      <th>expectancy</th>\n",
       "      <th>population</th>\n",
       "    </tr>\n",
       "  </thead>\n",
       "  <tbody>\n",
       "    <tr>\n",
       "      <th>0</th>\n",
       "      <td>Brazil</td>\n",
       "      <td>Brasilia</td>\n",
       "      <td>2750</td>\n",
       "      <td>0.944</td>\n",
       "      <td>76.8</td>\n",
       "      <td>210.87</td>\n",
       "    </tr>\n",
       "    <tr>\n",
       "      <th>1</th>\n",
       "      <td>Russia</td>\n",
       "      <td>Moscow</td>\n",
       "      <td>1658</td>\n",
       "      <td>0.997</td>\n",
       "      <td>72.7</td>\n",
       "      <td>143.96</td>\n",
       "    </tr>\n",
       "    <tr>\n",
       "      <th>2</th>\n",
       "      <td>India</td>\n",
       "      <td>New Delhi</td>\n",
       "      <td>3202</td>\n",
       "      <td>0.721</td>\n",
       "      <td>68.8</td>\n",
       "      <td>1367.09</td>\n",
       "    </tr>\n",
       "    <tr>\n",
       "      <th>3</th>\n",
       "      <td>China</td>\n",
       "      <td>Beijing</td>\n",
       "      <td>15270</td>\n",
       "      <td>0.964</td>\n",
       "      <td>76.4</td>\n",
       "      <td>1415.05</td>\n",
       "    </tr>\n",
       "    <tr>\n",
       "      <th>4</th>\n",
       "      <td>South Africa</td>\n",
       "      <td>Pretoria</td>\n",
       "      <td>370</td>\n",
       "      <td>0.943</td>\n",
       "      <td>63.6</td>\n",
       "      <td>57.40</td>\n",
       "    </tr>\n",
       "  </tbody>\n",
       "</table>\n",
       "</div>"
      ],
      "text/plain": [
       "        country    capital    gdp  literacy  expectancy  population\n",
       "0        Brazil   Brasilia   2750     0.944        76.8      210.87\n",
       "1        Russia     Moscow   1658     0.997        72.7      143.96\n",
       "2         India  New Delhi   3202     0.721        68.8     1367.09\n",
       "3         China    Beijing  15270     0.964        76.4     1415.05\n",
       "4  South Africa   Pretoria    370     0.943        63.6       57.40"
      ]
     },
     "execution_count": 2,
     "metadata": {},
     "output_type": "execute_result"
    }
   ],
   "source": [
    "bricsdatacsv = pd.read_csv(\"brics.csv\")\n",
    "bricsdatacsv.head()"
   ]
  },
  {
   "cell_type": "code",
   "execution_count": 3,
   "id": "9279b340-3423-40c8-bf07-cb8f20ebcc5c",
   "metadata": {},
   "outputs": [
    {
     "name": "stdout",
     "output_type": "stream",
     "text": [
      "<class 'pandas.core.frame.DataFrame'>\n",
      "RangeIndex: 5 entries, 0 to 4\n",
      "Data columns (total 6 columns):\n",
      " #   Column      Non-Null Count  Dtype  \n",
      "---  ------      --------------  -----  \n",
      " 0   country     5 non-null      object \n",
      " 1   capital     5 non-null      object \n",
      " 2   gdp         5 non-null      int64  \n",
      " 3   literacy    5 non-null      float64\n",
      " 4   expectancy  5 non-null      float64\n",
      " 5   population  5 non-null      float64\n",
      "dtypes: float64(3), int64(1), object(2)\n",
      "memory usage: 372.0+ bytes\n"
     ]
    }
   ],
   "source": [
    "bricsdatacsv.info()"
   ]
  },
  {
   "cell_type": "code",
   "execution_count": 4,
   "id": "ed4b9edd-0986-407a-a653-230661a850d6",
   "metadata": {},
   "outputs": [
    {
     "data": {
      "text/html": [
       "<div>\n",
       "<style scoped>\n",
       "    .dataframe tbody tr th:only-of-type {\n",
       "        vertical-align: middle;\n",
       "    }\n",
       "\n",
       "    .dataframe tbody tr th {\n",
       "        vertical-align: top;\n",
       "    }\n",
       "\n",
       "    .dataframe thead th {\n",
       "        text-align: right;\n",
       "    }\n",
       "</style>\n",
       "<table border=\"1\" class=\"dataframe\">\n",
       "  <thead>\n",
       "    <tr style=\"text-align: right;\">\n",
       "      <th></th>\n",
       "      <th>gdp</th>\n",
       "      <th>literacy</th>\n",
       "      <th>expectancy</th>\n",
       "      <th>population</th>\n",
       "    </tr>\n",
       "  </thead>\n",
       "  <tbody>\n",
       "    <tr>\n",
       "      <th>count</th>\n",
       "      <td>5.000000</td>\n",
       "      <td>5.000000</td>\n",
       "      <td>5.000000</td>\n",
       "      <td>5.000000</td>\n",
       "    </tr>\n",
       "    <tr>\n",
       "      <th>mean</th>\n",
       "      <td>4650.000000</td>\n",
       "      <td>0.913800</td>\n",
       "      <td>71.660000</td>\n",
       "      <td>638.874000</td>\n",
       "    </tr>\n",
       "    <tr>\n",
       "      <th>std</th>\n",
       "      <td>6036.587778</td>\n",
       "      <td>0.109976</td>\n",
       "      <td>5.547792</td>\n",
       "      <td>689.018692</td>\n",
       "    </tr>\n",
       "    <tr>\n",
       "      <th>min</th>\n",
       "      <td>370.000000</td>\n",
       "      <td>0.721000</td>\n",
       "      <td>63.600000</td>\n",
       "      <td>57.400000</td>\n",
       "    </tr>\n",
       "    <tr>\n",
       "      <th>25%</th>\n",
       "      <td>1658.000000</td>\n",
       "      <td>0.943000</td>\n",
       "      <td>68.800000</td>\n",
       "      <td>143.960000</td>\n",
       "    </tr>\n",
       "    <tr>\n",
       "      <th>50%</th>\n",
       "      <td>2750.000000</td>\n",
       "      <td>0.944000</td>\n",
       "      <td>72.700000</td>\n",
       "      <td>210.870000</td>\n",
       "    </tr>\n",
       "    <tr>\n",
       "      <th>75%</th>\n",
       "      <td>3202.000000</td>\n",
       "      <td>0.964000</td>\n",
       "      <td>76.400000</td>\n",
       "      <td>1367.090000</td>\n",
       "    </tr>\n",
       "    <tr>\n",
       "      <th>max</th>\n",
       "      <td>15270.000000</td>\n",
       "      <td>0.997000</td>\n",
       "      <td>76.800000</td>\n",
       "      <td>1415.050000</td>\n",
       "    </tr>\n",
       "  </tbody>\n",
       "</table>\n",
       "</div>"
      ],
      "text/plain": [
       "                gdp  literacy  expectancy   population\n",
       "count      5.000000  5.000000    5.000000     5.000000\n",
       "mean    4650.000000  0.913800   71.660000   638.874000\n",
       "std     6036.587778  0.109976    5.547792   689.018692\n",
       "min      370.000000  0.721000   63.600000    57.400000\n",
       "25%     1658.000000  0.943000   68.800000   143.960000\n",
       "50%     2750.000000  0.944000   72.700000   210.870000\n",
       "75%     3202.000000  0.964000   76.400000  1367.090000\n",
       "max    15270.000000  0.997000   76.800000  1415.050000"
      ]
     },
     "execution_count": 4,
     "metadata": {},
     "output_type": "execute_result"
    }
   ],
   "source": [
    "bricsdatacsv.describe()"
   ]
  },
  {
   "cell_type": "markdown",
   "id": "5f8298de-7784-4002-9ff0-16f3994d9abb",
   "metadata": {},
   "source": [
    "#### Step 1.3 Load the Data as a DataFrame: File format Excel"
   ]
  },
  {
   "cell_type": "code",
   "execution_count": 5,
   "id": "617f78f3-09b7-4dcc-b7d6-530389542d0e",
   "metadata": {},
   "outputs": [
    {
     "name": "stdout",
     "output_type": "stream",
     "text": [
      "        country    capital    gdp  literacy  expectancy  population\n",
      "0        Brazil   Brasilia   2750     0.944        76.8      210.87\n",
      "1        Russia     Moscow   1658     0.997        72.7      143.96\n",
      "2         India  New Delhi   3202     0.721        68.8     1367.09\n",
      "3         China    Beijing  15270     0.964        76.4     1415.05\n",
      "4  South Africa   Pretoria    370     0.943        63.6       57.40\n"
     ]
    }
   ],
   "source": [
    "bricsdataxls = pd.read_excel(\"brics.xlsx\")\n",
    "print(bricsdataxls)"
   ]
  },
  {
   "cell_type": "code",
   "execution_count": 6,
   "id": "a620bd2a-5964-4b9c-ae8c-47578b389c00",
   "metadata": {},
   "outputs": [
    {
     "name": "stdout",
     "output_type": "stream",
     "text": [
      "<class 'pandas.core.frame.DataFrame'>\n",
      "RangeIndex: 5 entries, 0 to 4\n",
      "Data columns (total 6 columns):\n",
      " #   Column      Non-Null Count  Dtype  \n",
      "---  ------      --------------  -----  \n",
      " 0   country     5 non-null      object \n",
      " 1   capital     5 non-null      object \n",
      " 2   gdp         5 non-null      int64  \n",
      " 3   literacy    5 non-null      float64\n",
      " 4   expectancy  5 non-null      float64\n",
      " 5   population  5 non-null      float64\n",
      "dtypes: float64(3), int64(1), object(2)\n",
      "memory usage: 372.0+ bytes\n"
     ]
    }
   ],
   "source": [
    "bricsdataxls.info()"
   ]
  },
  {
   "cell_type": "code",
   "execution_count": 7,
   "id": "41564fb6-5bdc-4b63-adc9-849b16ed22e3",
   "metadata": {},
   "outputs": [
    {
     "data": {
      "text/html": [
       "<div>\n",
       "<style scoped>\n",
       "    .dataframe tbody tr th:only-of-type {\n",
       "        vertical-align: middle;\n",
       "    }\n",
       "\n",
       "    .dataframe tbody tr th {\n",
       "        vertical-align: top;\n",
       "    }\n",
       "\n",
       "    .dataframe thead th {\n",
       "        text-align: right;\n",
       "    }\n",
       "</style>\n",
       "<table border=\"1\" class=\"dataframe\">\n",
       "  <thead>\n",
       "    <tr style=\"text-align: right;\">\n",
       "      <th></th>\n",
       "      <th>country</th>\n",
       "      <th>capital</th>\n",
       "      <th>gdp</th>\n",
       "      <th>literacy</th>\n",
       "      <th>expectancy</th>\n",
       "      <th>population</th>\n",
       "    </tr>\n",
       "  </thead>\n",
       "  <tbody>\n",
       "    <tr>\n",
       "      <th>0</th>\n",
       "      <td>Brazil</td>\n",
       "      <td>Brasilia</td>\n",
       "      <td>2750</td>\n",
       "      <td>0.944</td>\n",
       "      <td>76.8</td>\n",
       "      <td>210.87</td>\n",
       "    </tr>\n",
       "    <tr>\n",
       "      <th>1</th>\n",
       "      <td>Russia</td>\n",
       "      <td>Moscow</td>\n",
       "      <td>1658</td>\n",
       "      <td>0.997</td>\n",
       "      <td>72.7</td>\n",
       "      <td>143.96</td>\n",
       "    </tr>\n",
       "    <tr>\n",
       "      <th>2</th>\n",
       "      <td>India</td>\n",
       "      <td>New Delhi</td>\n",
       "      <td>3202</td>\n",
       "      <td>0.721</td>\n",
       "      <td>68.8</td>\n",
       "      <td>1367.09</td>\n",
       "    </tr>\n",
       "    <tr>\n",
       "      <th>3</th>\n",
       "      <td>China</td>\n",
       "      <td>Beijing</td>\n",
       "      <td>15270</td>\n",
       "      <td>0.964</td>\n",
       "      <td>76.4</td>\n",
       "      <td>1415.05</td>\n",
       "    </tr>\n",
       "    <tr>\n",
       "      <th>4</th>\n",
       "      <td>South Africa</td>\n",
       "      <td>Pretoria</td>\n",
       "      <td>370</td>\n",
       "      <td>0.943</td>\n",
       "      <td>63.6</td>\n",
       "      <td>57.40</td>\n",
       "    </tr>\n",
       "  </tbody>\n",
       "</table>\n",
       "</div>"
      ],
      "text/plain": [
       "        country    capital    gdp  literacy  expectancy  population\n",
       "0        Brazil   Brasilia   2750     0.944        76.8      210.87\n",
       "1        Russia     Moscow   1658     0.997        72.7      143.96\n",
       "2         India  New Delhi   3202     0.721        68.8     1367.09\n",
       "3         China    Beijing  15270     0.964        76.4     1415.05\n",
       "4  South Africa   Pretoria    370     0.943        63.6       57.40"
      ]
     },
     "execution_count": 7,
     "metadata": {},
     "output_type": "execute_result"
    }
   ],
   "source": [
    "bricsdataxls.head()"
   ]
  },
  {
   "cell_type": "code",
   "execution_count": 8,
   "id": "f162f326-14e5-44be-804d-e729fca923c4",
   "metadata": {},
   "outputs": [
    {
     "data": {
      "text/html": [
       "<div>\n",
       "<style scoped>\n",
       "    .dataframe tbody tr th:only-of-type {\n",
       "        vertical-align: middle;\n",
       "    }\n",
       "\n",
       "    .dataframe tbody tr th {\n",
       "        vertical-align: top;\n",
       "    }\n",
       "\n",
       "    .dataframe thead th {\n",
       "        text-align: right;\n",
       "    }\n",
       "</style>\n",
       "<table border=\"1\" class=\"dataframe\">\n",
       "  <thead>\n",
       "    <tr style=\"text-align: right;\">\n",
       "      <th></th>\n",
       "      <th>gdp</th>\n",
       "      <th>literacy</th>\n",
       "      <th>expectancy</th>\n",
       "      <th>population</th>\n",
       "    </tr>\n",
       "  </thead>\n",
       "  <tbody>\n",
       "    <tr>\n",
       "      <th>count</th>\n",
       "      <td>5.000000</td>\n",
       "      <td>5.000000</td>\n",
       "      <td>5.000000</td>\n",
       "      <td>5.000000</td>\n",
       "    </tr>\n",
       "    <tr>\n",
       "      <th>mean</th>\n",
       "      <td>4650.000000</td>\n",
       "      <td>0.913800</td>\n",
       "      <td>71.660000</td>\n",
       "      <td>638.874000</td>\n",
       "    </tr>\n",
       "    <tr>\n",
       "      <th>std</th>\n",
       "      <td>6036.587778</td>\n",
       "      <td>0.109976</td>\n",
       "      <td>5.547792</td>\n",
       "      <td>689.018692</td>\n",
       "    </tr>\n",
       "    <tr>\n",
       "      <th>min</th>\n",
       "      <td>370.000000</td>\n",
       "      <td>0.721000</td>\n",
       "      <td>63.600000</td>\n",
       "      <td>57.400000</td>\n",
       "    </tr>\n",
       "    <tr>\n",
       "      <th>25%</th>\n",
       "      <td>1658.000000</td>\n",
       "      <td>0.943000</td>\n",
       "      <td>68.800000</td>\n",
       "      <td>143.960000</td>\n",
       "    </tr>\n",
       "    <tr>\n",
       "      <th>50%</th>\n",
       "      <td>2750.000000</td>\n",
       "      <td>0.944000</td>\n",
       "      <td>72.700000</td>\n",
       "      <td>210.870000</td>\n",
       "    </tr>\n",
       "    <tr>\n",
       "      <th>75%</th>\n",
       "      <td>3202.000000</td>\n",
       "      <td>0.964000</td>\n",
       "      <td>76.400000</td>\n",
       "      <td>1367.090000</td>\n",
       "    </tr>\n",
       "    <tr>\n",
       "      <th>max</th>\n",
       "      <td>15270.000000</td>\n",
       "      <td>0.997000</td>\n",
       "      <td>76.800000</td>\n",
       "      <td>1415.050000</td>\n",
       "    </tr>\n",
       "  </tbody>\n",
       "</table>\n",
       "</div>"
      ],
      "text/plain": [
       "                gdp  literacy  expectancy   population\n",
       "count      5.000000  5.000000    5.000000     5.000000\n",
       "mean    4650.000000  0.913800   71.660000   638.874000\n",
       "std     6036.587778  0.109976    5.547792   689.018692\n",
       "min      370.000000  0.721000   63.600000    57.400000\n",
       "25%     1658.000000  0.943000   68.800000   143.960000\n",
       "50%     2750.000000  0.944000   72.700000   210.870000\n",
       "75%     3202.000000  0.964000   76.400000  1367.090000\n",
       "max    15270.000000  0.997000   76.800000  1415.050000"
      ]
     },
     "execution_count": 8,
     "metadata": {},
     "output_type": "execute_result"
    }
   ],
   "source": [
    "bricsdataxls.describe()"
   ]
  },
  {
   "cell_type": "markdown",
   "id": "a444747f-8c3a-48ad-9209-78447d8f8e19",
   "metadata": {},
   "source": [
    "### How to read the second or 'N' sheet in the excel file"
   ]
  },
  {
   "cell_type": "code",
   "execution_count": 11,
   "id": "70a5c53c-0496-4733-8117-869cb92db903",
   "metadata": {},
   "outputs": [
    {
     "name": "stdout",
     "output_type": "stream",
     "text": [
      "   summit                        date          host  \\\n",
      "0     1st             June 16th, 2009        Russia   \n",
      "1     2nd            April 15th, 2010        Brazil   \n",
      "2     3rd            April 14th, 2011         China   \n",
      "3     4th            March 29th, 2012         India   \n",
      "4     5th     March 26th – 27th, 2013  South Africa   \n",
      "5     6th      July 14th – 17th, 2014        Brazil   \n",
      "6     7th        July 8th – 9th, 2015        Russia   \n",
      "7     8th   October 15th – 16th, 2016         India   \n",
      "8     9th   September 3th – 5th, 2017         China   \n",
      "9    10th      July 25th – 27th, 2018  South Africa   \n",
      "10   11th  November 13th – 14th, 2019        Brazil   \n",
      "11   12th         November 17th, 2020        Russia   \n",
      "12   13th                         TBA         India   \n",
      "\n",
      "                       leader                                         location  \n",
      "0             Dmitry Medvedev              Yekaterinburg (Sevastianov's House)  \n",
      "1   Luiz Inácio Lula da Silva                      Brasília (Itamaraty Palace)  \n",
      "2                   Hu Jintao                    Sanya (Sheraton Sanya Resort)  \n",
      "3              Manmohan Singh                      New Delhi (Taj Mahal Hotel)  \n",
      "4                  Jacob Zuma                              Durban (Durban ICC)  \n",
      "5              Dilma Rousseff           Fortaleza (Centro de Eventos do Ceará)  \n",
      "6              Vladimir Putin                              Ufa (Congress Hall)  \n",
      "7               Narendra Modi                           Benaulim (Taj Exotica)  \n",
      "8                  Xi Jinping  Xiamen (Xiamen International Conference Center)  \n",
      "9             Cyril Ramaphosa         Johannesburg (Sandton Convention Centre)  \n",
      "10             Jair Bolsonaro                      Brasília (Itamaraty Palace)  \n",
      "11             Vladimir Putin              Saint Petersburg (video conference)  \n",
      "12              Narendra Modi                                        New Delhi  \n"
     ]
    }
   ],
   "source": [
    "bricsdataxls_sheet2 = pd.read_excel(\"brics.xlsx\", sheet_name = \"Summits\")\n",
    "print(bricsdataxls_sheet2)"
   ]
  },
  {
   "cell_type": "code",
   "execution_count": 12,
   "id": "baaede6e-2e31-4952-ae0a-7bfe26388f76",
   "metadata": {},
   "outputs": [
    {
     "name": "stdout",
     "output_type": "stream",
     "text": [
      "<class 'pandas.core.frame.DataFrame'>\n",
      "RangeIndex: 13 entries, 0 to 12\n",
      "Data columns (total 5 columns):\n",
      " #   Column    Non-Null Count  Dtype \n",
      "---  ------    --------------  ----- \n",
      " 0   summit    13 non-null     object\n",
      " 1   date      13 non-null     object\n",
      " 2   host      13 non-null     object\n",
      " 3   leader    13 non-null     object\n",
      " 4   location  13 non-null     object\n",
      "dtypes: object(5)\n",
      "memory usage: 652.0+ bytes\n"
     ]
    }
   ],
   "source": [
    "bricsdataxls_sheet2.info()"
   ]
  },
  {
   "cell_type": "code",
   "execution_count": 13,
   "id": "2a8bf117-6e01-42dc-a63c-3aa5300d94e7",
   "metadata": {},
   "outputs": [
    {
     "data": {
      "text/html": [
       "<div>\n",
       "<style scoped>\n",
       "    .dataframe tbody tr th:only-of-type {\n",
       "        vertical-align: middle;\n",
       "    }\n",
       "\n",
       "    .dataframe tbody tr th {\n",
       "        vertical-align: top;\n",
       "    }\n",
       "\n",
       "    .dataframe thead th {\n",
       "        text-align: right;\n",
       "    }\n",
       "</style>\n",
       "<table border=\"1\" class=\"dataframe\">\n",
       "  <thead>\n",
       "    <tr style=\"text-align: right;\">\n",
       "      <th></th>\n",
       "      <th>summit</th>\n",
       "      <th>date</th>\n",
       "      <th>host</th>\n",
       "      <th>leader</th>\n",
       "      <th>location</th>\n",
       "    </tr>\n",
       "  </thead>\n",
       "  <tbody>\n",
       "    <tr>\n",
       "      <th>count</th>\n",
       "      <td>13</td>\n",
       "      <td>13</td>\n",
       "      <td>13</td>\n",
       "      <td>13</td>\n",
       "      <td>13</td>\n",
       "    </tr>\n",
       "    <tr>\n",
       "      <th>unique</th>\n",
       "      <td>13</td>\n",
       "      <td>13</td>\n",
       "      <td>5</td>\n",
       "      <td>11</td>\n",
       "      <td>12</td>\n",
       "    </tr>\n",
       "    <tr>\n",
       "      <th>top</th>\n",
       "      <td>1st</td>\n",
       "      <td>June 16th, 2009</td>\n",
       "      <td>Russia</td>\n",
       "      <td>Vladimir Putin</td>\n",
       "      <td>Brasília (Itamaraty Palace)</td>\n",
       "    </tr>\n",
       "    <tr>\n",
       "      <th>freq</th>\n",
       "      <td>1</td>\n",
       "      <td>1</td>\n",
       "      <td>3</td>\n",
       "      <td>2</td>\n",
       "      <td>2</td>\n",
       "    </tr>\n",
       "  </tbody>\n",
       "</table>\n",
       "</div>"
      ],
      "text/plain": [
       "       summit             date    host          leader  \\\n",
       "count      13               13      13              13   \n",
       "unique     13               13       5              11   \n",
       "top       1st  June 16th, 2009  Russia  Vladimir Putin   \n",
       "freq        1                1       3               2   \n",
       "\n",
       "                           location  \n",
       "count                            13  \n",
       "unique                           12  \n",
       "top     Brasília (Itamaraty Palace)  \n",
       "freq                              2  "
      ]
     },
     "execution_count": 13,
     "metadata": {},
     "output_type": "execute_result"
    }
   ],
   "source": [
    "bricsdataxls_sheet2.describe()"
   ]
  },
  {
   "cell_type": "markdown",
   "id": "7df3db6b-d6cc-4880-96e4-f7b18e93d5cd",
   "metadata": {},
   "source": [
    "## Module 2: DATA EXPLORATION"
   ]
  },
  {
   "cell_type": "markdown",
   "id": "a9fe050b-6931-4687-a87b-030fa7f9dc3a",
   "metadata": {},
   "source": [
    "**Data Exploration**This is the process of describing, visualizing, and analyzing data to better understand it. It helps answer questions about the structure and nature of the data.\n",
    "\n",
    "**Instances and Features**: An instance (or record/observation) refers to a row of data, while a feature (or variable) refers to a column of data. Features can be categorical (discrete values) or continuous (infinite possible values).\n",
    "\n",
    "**Dimensionality and Sparsity**: Dimensionality refers to the number of features in a dataset, while sparsity and density describe the degree to which data exists for the features in the dataset."
   ]
  },
  {
   "cell_type": "markdown",
   "id": "37a424ba-8eaa-45cc-aaf3-4e00f95355f3",
   "metadata": {},
   "source": [
    "### Describe to explore and understand a specific column"
   ]
  },
  {
   "cell_type": "code",
   "execution_count": 14,
   "id": "e63accc8-1a21-4568-9651-250d2187032a",
   "metadata": {},
   "outputs": [
    {
     "data": {
      "text/html": [
       "<div>\n",
       "<style scoped>\n",
       "    .dataframe tbody tr th:only-of-type {\n",
       "        vertical-align: middle;\n",
       "    }\n",
       "\n",
       "    .dataframe tbody tr th {\n",
       "        vertical-align: top;\n",
       "    }\n",
       "\n",
       "    .dataframe thead th {\n",
       "        text-align: right;\n",
       "    }\n",
       "</style>\n",
       "<table border=\"1\" class=\"dataframe\">\n",
       "  <thead>\n",
       "    <tr style=\"text-align: right;\">\n",
       "      <th></th>\n",
       "      <th>country</th>\n",
       "    </tr>\n",
       "  </thead>\n",
       "  <tbody>\n",
       "    <tr>\n",
       "      <th>count</th>\n",
       "      <td>5</td>\n",
       "    </tr>\n",
       "    <tr>\n",
       "      <th>unique</th>\n",
       "      <td>5</td>\n",
       "    </tr>\n",
       "    <tr>\n",
       "      <th>top</th>\n",
       "      <td>Brazil</td>\n",
       "    </tr>\n",
       "    <tr>\n",
       "      <th>freq</th>\n",
       "      <td>1</td>\n",
       "    </tr>\n",
       "  </tbody>\n",
       "</table>\n",
       "</div>"
      ],
      "text/plain": [
       "       country\n",
       "count        5\n",
       "unique       5\n",
       "top     Brazil\n",
       "freq         1"
      ]
     },
     "execution_count": 14,
     "metadata": {},
     "output_type": "execute_result"
    }
   ],
   "source": [
    "# Describe only country column to know total count, unique countires, top value, and freq.\n",
    "bricsdatacsv[['country']].describe()"
   ]
  },
  {
   "cell_type": "code",
   "execution_count": 15,
   "id": "adb4b029-3512-4db5-8b10-8b69bc72ed17",
   "metadata": {},
   "outputs": [
    {
     "data": {
      "text/html": [
       "<div>\n",
       "<style scoped>\n",
       "    .dataframe tbody tr th:only-of-type {\n",
       "        vertical-align: middle;\n",
       "    }\n",
       "\n",
       "    .dataframe tbody tr th {\n",
       "        vertical-align: top;\n",
       "    }\n",
       "\n",
       "    .dataframe thead th {\n",
       "        text-align: right;\n",
       "    }\n",
       "</style>\n",
       "<table border=\"1\" class=\"dataframe\">\n",
       "  <thead>\n",
       "    <tr style=\"text-align: right;\">\n",
       "      <th></th>\n",
       "      <th>capital</th>\n",
       "    </tr>\n",
       "  </thead>\n",
       "  <tbody>\n",
       "    <tr>\n",
       "      <th>count</th>\n",
       "      <td>5</td>\n",
       "    </tr>\n",
       "    <tr>\n",
       "      <th>unique</th>\n",
       "      <td>5</td>\n",
       "    </tr>\n",
       "    <tr>\n",
       "      <th>top</th>\n",
       "      <td>Brasilia</td>\n",
       "    </tr>\n",
       "    <tr>\n",
       "      <th>freq</th>\n",
       "      <td>1</td>\n",
       "    </tr>\n",
       "  </tbody>\n",
       "</table>\n",
       "</div>"
      ],
      "text/plain": [
       "         capital\n",
       "count          5\n",
       "unique         5\n",
       "top     Brasilia\n",
       "freq           1"
      ]
     },
     "execution_count": 15,
     "metadata": {},
     "output_type": "execute_result"
    }
   ],
   "source": [
    "bricsdatacsv[['capital']].describe()"
   ]
  },
  {
   "cell_type": "code",
   "execution_count": 16,
   "id": "906a4a86-9dc7-4a7d-9ceb-b0ff42ce9772",
   "metadata": {},
   "outputs": [
    {
     "data": {
      "text/html": [
       "<div>\n",
       "<style scoped>\n",
       "    .dataframe tbody tr th:only-of-type {\n",
       "        vertical-align: middle;\n",
       "    }\n",
       "\n",
       "    .dataframe tbody tr th {\n",
       "        vertical-align: top;\n",
       "    }\n",
       "\n",
       "    .dataframe thead th {\n",
       "        text-align: right;\n",
       "    }\n",
       "</style>\n",
       "<table border=\"1\" class=\"dataframe\">\n",
       "  <thead>\n",
       "    <tr style=\"text-align: right;\">\n",
       "      <th></th>\n",
       "      <th>population</th>\n",
       "    </tr>\n",
       "  </thead>\n",
       "  <tbody>\n",
       "    <tr>\n",
       "      <th>count</th>\n",
       "      <td>5.000000</td>\n",
       "    </tr>\n",
       "    <tr>\n",
       "      <th>mean</th>\n",
       "      <td>638.874000</td>\n",
       "    </tr>\n",
       "    <tr>\n",
       "      <th>std</th>\n",
       "      <td>689.018692</td>\n",
       "    </tr>\n",
       "    <tr>\n",
       "      <th>min</th>\n",
       "      <td>57.400000</td>\n",
       "    </tr>\n",
       "    <tr>\n",
       "      <th>25%</th>\n",
       "      <td>143.960000</td>\n",
       "    </tr>\n",
       "    <tr>\n",
       "      <th>50%</th>\n",
       "      <td>210.870000</td>\n",
       "    </tr>\n",
       "    <tr>\n",
       "      <th>75%</th>\n",
       "      <td>1367.090000</td>\n",
       "    </tr>\n",
       "    <tr>\n",
       "      <th>max</th>\n",
       "      <td>1415.050000</td>\n",
       "    </tr>\n",
       "  </tbody>\n",
       "</table>\n",
       "</div>"
      ],
      "text/plain": [
       "        population\n",
       "count     5.000000\n",
       "mean    638.874000\n",
       "std     689.018692\n",
       "min      57.400000\n",
       "25%     143.960000\n",
       "50%     210.870000\n",
       "75%    1367.090000\n",
       "max    1415.050000"
      ]
     },
     "execution_count": 16,
     "metadata": {},
     "output_type": "execute_result"
    }
   ],
   "source": [
    "bricsdatacsv[['population']].describe()"
   ]
  },
  {
   "cell_type": "code",
   "execution_count": 17,
   "id": "8abf4293-9a75-42ee-b26d-8846b10bac6e",
   "metadata": {},
   "outputs": [
    {
     "data": {
      "text/html": [
       "<div>\n",
       "<style scoped>\n",
       "    .dataframe tbody tr th:only-of-type {\n",
       "        vertical-align: middle;\n",
       "    }\n",
       "\n",
       "    .dataframe tbody tr th {\n",
       "        vertical-align: top;\n",
       "    }\n",
       "\n",
       "    .dataframe thead th {\n",
       "        text-align: right;\n",
       "    }\n",
       "</style>\n",
       "<table border=\"1\" class=\"dataframe\">\n",
       "  <thead>\n",
       "    <tr style=\"text-align: right;\">\n",
       "      <th></th>\n",
       "      <th>gdp</th>\n",
       "    </tr>\n",
       "  </thead>\n",
       "  <tbody>\n",
       "    <tr>\n",
       "      <th>count</th>\n",
       "      <td>5.000000</td>\n",
       "    </tr>\n",
       "    <tr>\n",
       "      <th>mean</th>\n",
       "      <td>4650.000000</td>\n",
       "    </tr>\n",
       "    <tr>\n",
       "      <th>std</th>\n",
       "      <td>6036.587778</td>\n",
       "    </tr>\n",
       "    <tr>\n",
       "      <th>min</th>\n",
       "      <td>370.000000</td>\n",
       "    </tr>\n",
       "    <tr>\n",
       "      <th>25%</th>\n",
       "      <td>1658.000000</td>\n",
       "    </tr>\n",
       "    <tr>\n",
       "      <th>50%</th>\n",
       "      <td>2750.000000</td>\n",
       "    </tr>\n",
       "    <tr>\n",
       "      <th>75%</th>\n",
       "      <td>3202.000000</td>\n",
       "    </tr>\n",
       "    <tr>\n",
       "      <th>max</th>\n",
       "      <td>15270.000000</td>\n",
       "    </tr>\n",
       "  </tbody>\n",
       "</table>\n",
       "</div>"
      ],
      "text/plain": [
       "                gdp\n",
       "count      5.000000\n",
       "mean    4650.000000\n",
       "std     6036.587778\n",
       "min      370.000000\n",
       "25%     1658.000000\n",
       "50%     2750.000000\n",
       "75%     3202.000000\n",
       "max    15270.000000"
      ]
     },
     "execution_count": 17,
     "metadata": {},
     "output_type": "execute_result"
    }
   ],
   "source": [
    "bricsdatacsv[['gdp']].describe()"
   ]
  },
  {
   "cell_type": "code",
   "execution_count": 18,
   "id": "a7b617c3-29bc-410a-8488-be48bcbc8290",
   "metadata": {
    "scrolled": true
   },
   "outputs": [
    {
     "name": "stdout",
     "output_type": "stream",
     "text": [
      "        country    capital    gdp  literacy  expectancy  population\n",
      "0        Brazil   Brasilia   2750     0.944        76.8      210.87\n",
      "3         China    Beijing  15270     0.964        76.4     1415.05\n",
      "2         India  New Delhi   3202     0.721        68.8     1367.09\n",
      "1        Russia     Moscow   1658     0.997        72.7      143.96\n",
      "4  South Africa   Pretoria    370     0.943        63.6       57.40\n"
     ]
    }
   ],
   "source": [
    "# Objective: I want the countries names in alphabetical order\n",
    "bricsdatacsv_sorted = bricsdatacsv.sort_values(by='country')\n",
    "print(bricsdatacsv_sorted)"
   ]
  },
  {
   "cell_type": "code",
   "execution_count": 19,
   "id": "0a2c6577-4edb-4847-9da1-7bae442f5a39",
   "metadata": {},
   "outputs": [
    {
     "name": "stdout",
     "output_type": "stream",
     "text": [
      "        country    capital    gdp  literacy  expectancy  population\n",
      "4  South Africa   Pretoria    370     0.943        63.6       57.40\n",
      "1        Russia     Moscow   1658     0.997        72.7      143.96\n",
      "0        Brazil   Brasilia   2750     0.944        76.8      210.87\n",
      "2         India  New Delhi   3202     0.721        68.8     1367.09\n",
      "3         China    Beijing  15270     0.964        76.4     1415.05\n"
     ]
    }
   ],
   "source": [
    "# Objective: I want the countries names in alphabetical order\n",
    "bricsdatacsv_sorted_by_gdp = bricsdatacsv.sort_values(by='gdp')\n",
    "print(bricsdatacsv_sorted_by_gdp)"
   ]
  },
  {
   "cell_type": "code",
   "execution_count": 20,
   "id": "130bdf8f-714d-4102-bc7e-31c6fe30d640",
   "metadata": {},
   "outputs": [
    {
     "data": {
      "text/html": [
       "<div>\n",
       "<style scoped>\n",
       "    .dataframe tbody tr th:only-of-type {\n",
       "        vertical-align: middle;\n",
       "    }\n",
       "\n",
       "    .dataframe tbody tr th {\n",
       "        vertical-align: top;\n",
       "    }\n",
       "\n",
       "    .dataframe thead th {\n",
       "        text-align: right;\n",
       "    }\n",
       "</style>\n",
       "<table border=\"1\" class=\"dataframe\">\n",
       "  <thead>\n",
       "    <tr style=\"text-align: right;\">\n",
       "      <th></th>\n",
       "      <th>population</th>\n",
       "    </tr>\n",
       "    <tr>\n",
       "      <th>country</th>\n",
       "      <th></th>\n",
       "    </tr>\n",
       "  </thead>\n",
       "  <tbody>\n",
       "    <tr>\n",
       "      <th>South Africa</th>\n",
       "      <td>57.40</td>\n",
       "    </tr>\n",
       "    <tr>\n",
       "      <th>Russia</th>\n",
       "      <td>143.96</td>\n",
       "    </tr>\n",
       "    <tr>\n",
       "      <th>Brazil</th>\n",
       "      <td>210.87</td>\n",
       "    </tr>\n",
       "    <tr>\n",
       "      <th>India</th>\n",
       "      <td>1367.09</td>\n",
       "    </tr>\n",
       "    <tr>\n",
       "      <th>China</th>\n",
       "      <td>1415.05</td>\n",
       "    </tr>\n",
       "  </tbody>\n",
       "</table>\n",
       "</div>"
      ],
      "text/plain": [
       "              population\n",
       "country                 \n",
       "South Africa       57.40\n",
       "Russia            143.96\n",
       "Brazil            210.87\n",
       "India            1367.09\n",
       "China            1415.05"
      ]
     },
     "execution_count": 20,
     "metadata": {},
     "output_type": "execute_result"
    }
   ],
   "source": [
    "# Objective: I want the countries details sorted by population in ascending order\n",
    "bricsdatacsv.groupby('country')[['population']].mean().sort_values(by = 'population')"
   ]
  },
  {
   "cell_type": "markdown",
   "id": "89a3f435-7bce-4539-b5a0-0ac6083e71c8",
   "metadata": {},
   "source": [
    "## Module 3: DATA VISUALIZATION"
   ]
  },
  {
   "cell_type": "code",
   "execution_count": null,
   "id": "6971cd8b-b03b-474b-88bd-89f9a9faa390",
   "metadata": {},
   "outputs": [],
   "source": [
    "%matplotlib inline"
   ]
  },
  {
   "cell_type": "markdown",
   "id": "8a848589-4816-4d62-8a9b-99710ccbbd18",
   "metadata": {},
   "source": [
    "Q. What is the coorelation between the countries GDP and its Litracy Rate?"
   ]
  },
  {
   "cell_type": "markdown",
   "id": "831eced5-4c19-415a-9720-44ca38b74475",
   "metadata": {},
   "source": [
    "Q. Does the population impact the GDP or litracy rate?"
   ]
  },
  {
   "cell_type": "code",
   "execution_count": null,
   "id": "b0f89d94-3aaf-4846-a609-2071b8313eb3",
   "metadata": {},
   "outputs": [],
   "source": []
  },
  {
   "cell_type": "markdown",
   "id": "024549f5-12f8-4ac7-b159-9008adde2a1a",
   "metadata": {},
   "source": [
    "### Comparision visualization"
   ]
  },
  {
   "cell_type": "code",
   "execution_count": 22,
   "id": "96656f72-5195-4699-87ef-b416d10c0ea4",
   "metadata": {},
   "outputs": [
    {
     "data": {
      "text/plain": [
       "<Axes: xlabel='literacy', ylabel='gdp'>"
      ]
     },
     "execution_count": 22,
     "metadata": {},
     "output_type": "execute_result"
    },
    {
     "data": {
      "image/png": "[encoded data removed]",
      "text/plain": [
       "<Figure size 640x480 with 1 Axes>"
      ]
     },
     "metadata": {},
     "output_type": "display_data"
    }
   ],
   "source": [
    "#Q. What is the coorelation between the countries GDP and its Litracy Rate?\n",
    "bricsdatacsv.plot(kind = 'scatter', x = 'literacy', y = 'gdp')"
   ]
  },
  {
   "cell_type": "markdown",
   "id": "fb9519e2-0635-44f5-b004-83d1166fb0b3",
   "metadata": {},
   "source": [
    "### Relationship visualization"
   ]
  },
  {
   "cell_type": "code",
   "execution_count": 34,
   "id": "cea7bb49-e761-4f6e-a6a5-68eb4ca8958c",
   "metadata": {},
   "outputs": [
    {
     "data": {
      "text/plain": [
       "<Axes: xlabel='population', ylabel='literacy'>"
      ]
     },
     "execution_count": 34,
     "metadata": {},
     "output_type": "execute_result"
    },
    {
     "data": {
      "image/png": "[encoded data removed]",
      "text/plain": [
       "<Figure size 640x480 with 1 Axes>"
      ]
     },
     "metadata": {},
     "output_type": "display_data"
    }
   ],
   "source": [
    "#Q. Does the population impact the GDP or litracy rate?\n",
    "bricsdatacsv.plot(kind = 'scatter', x = 'population', y = 'literacy')"
   ]
  },
  {
   "cell_type": "markdown",
   "id": "d89d22a1-8777-4581-ba4b-52ee641249cf",
   "metadata": {},
   "source": [
    "### Distribution visualization"
   ]
  },
  {
   "cell_type": "code",
   "execution_count": 37,
   "id": "0d609e70-4ac9-4a3e-b842-8f62c8679635",
   "metadata": {},
   "outputs": [
    {
     "data": {
      "text/plain": [
       "<Axes: ylabel='Frequency'>"
      ]
     },
     "execution_count": 37,
     "metadata": {},
     "output_type": "execute_result"
    },
    {
     "data": {
      "image/png": "[encoded data removed]",
      "text/plain": [
       "<Figure size 640x480 with 1 Axes>"
      ]
     },
     "metadata": {},
     "output_type": "display_data"
    }
   ],
   "source": [
    "bricsdatacsv['population'].plot(kind = 'hist')\n"
   ]
  },
  {
   "cell_type": "markdown",
   "id": "5728ee81-025f-4a47-99b7-4775ccb47f48",
   "metadata": {},
   "source": [
    "### Composition visualization"
   ]
  },
  {
   "cell_type": "code",
   "execution_count": 36,
   "id": "a9445a01-40a2-4b45-96c8-b8c44684d98b",
   "metadata": {},
   "outputs": [
    {
     "data": {
      "text/plain": [
       "['Brazil', 'China', 'India', 'Russia', 'South Africa']"
      ]
     },
     "execution_count": 36,
     "metadata": {},
     "output_type": "execute_result"
    }
   ],
   "source": [
    "sorted(bricsdatacsv['country'].unique())\n"
   ]
  },
  {
   "cell_type": "code",
   "execution_count": 38,
   "id": "675ee5f6-ca79-4bf6-bedd-9e6888b16269",
   "metadata": {},
   "outputs": [
    {
     "data": {
      "text/html": [
       "<div>\n",
       "<style scoped>\n",
       "    .dataframe tbody tr th:only-of-type {\n",
       "        vertical-align: middle;\n",
       "    }\n",
       "\n",
       "    .dataframe tbody tr th {\n",
       "        vertical-align: top;\n",
       "    }\n",
       "\n",
       "    .dataframe thead th {\n",
       "        text-align: right;\n",
       "    }\n",
       "</style>\n",
       "<table border=\"1\" class=\"dataframe\">\n",
       "  <thead>\n",
       "    <tr style=\"text-align: right;\">\n",
       "      <th>country</th>\n",
       "      <th>Brazil</th>\n",
       "      <th>China</th>\n",
       "      <th>India</th>\n",
       "      <th>Russia</th>\n",
       "      <th>South Africa</th>\n",
       "    </tr>\n",
       "  </thead>\n",
       "  <tbody>\n",
       "    <tr>\n",
       "      <th>0</th>\n",
       "      <td>210.87</td>\n",
       "      <td>NaN</td>\n",
       "      <td>NaN</td>\n",
       "      <td>NaN</td>\n",
       "      <td>NaN</td>\n",
       "    </tr>\n",
       "    <tr>\n",
       "      <th>1</th>\n",
       "      <td>NaN</td>\n",
       "      <td>NaN</td>\n",
       "      <td>NaN</td>\n",
       "      <td>143.96</td>\n",
       "      <td>NaN</td>\n",
       "    </tr>\n",
       "    <tr>\n",
       "      <th>2</th>\n",
       "      <td>NaN</td>\n",
       "      <td>NaN</td>\n",
       "      <td>1367.09</td>\n",
       "      <td>NaN</td>\n",
       "      <td>NaN</td>\n",
       "    </tr>\n",
       "    <tr>\n",
       "      <th>3</th>\n",
       "      <td>NaN</td>\n",
       "      <td>1415.05</td>\n",
       "      <td>NaN</td>\n",
       "      <td>NaN</td>\n",
       "      <td>NaN</td>\n",
       "    </tr>\n",
       "    <tr>\n",
       "      <th>4</th>\n",
       "      <td>NaN</td>\n",
       "      <td>NaN</td>\n",
       "      <td>NaN</td>\n",
       "      <td>NaN</td>\n",
       "      <td>57.4</td>\n",
       "    </tr>\n",
       "  </tbody>\n",
       "</table>\n",
       "</div>"
      ],
      "text/plain": [
       "country  Brazil    China    India  Russia  South Africa\n",
       "0        210.87      NaN      NaN     NaN           NaN\n",
       "1           NaN      NaN      NaN  143.96           NaN\n",
       "2           NaN      NaN  1367.09     NaN           NaN\n",
       "3           NaN  1415.05      NaN     NaN           NaN\n",
       "4           NaN      NaN      NaN     NaN          57.4"
      ]
     },
     "execution_count": 38,
     "metadata": {},
     "output_type": "execute_result"
    }
   ],
   "source": [
    "bricsdatacsv.pivot(columns = 'country', values = 'population')"
   ]
  },
  {
   "cell_type": "code",
   "execution_count": 42,
   "id": "35645ba2-2243-4c26-9402-a760a42581ee",
   "metadata": {},
   "outputs": [
    {
     "data": {
      "text/plain": [
       "<Axes: >"
      ]
     },
     "execution_count": 42,
     "metadata": {},
     "output_type": "execute_result"
    },
    {
     "data": {
      "image/png": "[encoded data removed]",
      "text/plain": [
       "<Figure size 1000x600 with 1 Axes>"
      ]
     },
     "metadata": {},
     "output_type": "display_data"
    }
   ],
   "source": [
    "bricsdatacsv.pivot(columns = 'country', values = 'population').plot(kind='box',figsize = (10,6))"
   ]
  },
  {
   "cell_type": "markdown",
   "id": "2dcad59d-7dce-4e30-a312-6d2dd9a1a674",
   "metadata": {},
   "source": [
    "## Module 4: DATA MODELLING"
   ]
  },
  {
   "cell_type": "markdown",
   "id": "18eb08f4-8f2f-4218-b0f7-3a287376a4c3",
   "metadata": {},
   "source": [
    "## Module 5: DATA OPTIMIZATION"
   ]
  }
 ],
 "metadata": {
  "kernelspec": {
   "display_name": "Python 3 (ipykernel)",
   "language": "python",
   "name": "python3"
  },
  "language_info": {
   "codemirror_mode": {
    "name": "ipython",
    "version": 3
   },
   "file_extension": ".py",
   "mimetype": "text/x-python",
   "name": "python",
   "nbconvert_exporter": "python",
   "pygments_lexer": "ipython3",
   "version": "3.12.2"
  }
 },
 "nbformat": 4,
 "nbformat_minor": 5
}
