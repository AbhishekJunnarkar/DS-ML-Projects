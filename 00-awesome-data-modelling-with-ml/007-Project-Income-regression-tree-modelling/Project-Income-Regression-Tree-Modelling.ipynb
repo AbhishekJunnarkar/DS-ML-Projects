{
 "cells": [
  {
   "cell_type": "markdown",
   "id": "d9039da4-0dcf-46fc-9df3-b7ce5554533a",
   "metadata": {},
   "source": [
    "# Regression Tree for Predicting Income of a Employee"
   ]
  },
  {
   "cell_type": "markdown",
   "id": "fa9f6781-4263-4a1a-bf07-7f60549a6111",
   "metadata": {},
   "source": [
    "Decision Trees are one of the most popular approaches to supervised machine learning. Decison Trees use an inverted tree-like structure to model the relationship between independent variables and a dependent variable. A tree with a continuous dependent variable is known as a Regression Tree. "
   ]
  },
  {
   "cell_type": "markdown",
   "id": "bd3d45ce-db32-40c1-a17c-09dcc85d34f5",
   "metadata": {},
   "source": [
    "### Objective\n",
    "- How to import, explore and prepare data\n",
    "- How to build a Regression Tree model\n",
    "- How to visualize the structure of a Regression Tree\n",
    "- How to Prune a Regression Tree"
   ]
  },
  {
   "cell_type": "markdown",
   "id": "8858bde6-9e74-4cb3-93de-cf5066bba56a",
   "metadata": {},
   "source": [
    "### 1. Collect the Data"
   ]
  },
  {
   "cell_type": "code",
   "execution_count": null,
   "id": "5b872f1a-0d15-4b12-bc15-9e54d1772b98",
   "metadata": {},
   "outputs": [],
   "source": []
  },
  {
   "cell_type": "markdown",
   "id": "78c2065c-c69d-4f46-b387-86cc105b748c",
   "metadata": {},
   "source": [
    "### 2. Explore the data"
   ]
  },
  {
   "cell_type": "code",
   "execution_count": null,
   "id": "a86031f1-6db7-40ab-8ce8-36ff4003cc20",
   "metadata": {},
   "outputs": [],
   "source": []
  },
  {
   "cell_type": "markdown",
   "id": "fbfe7a16-0e8d-411c-8c32-e24803ba301f",
   "metadata": {},
   "source": [
    "### 3. Prepare the data"
   ]
  },
  {
   "cell_type": "code",
   "execution_count": null,
   "id": "0bad8f6a-6556-4e42-ba17-631511958b6a",
   "metadata": {},
   "outputs": [],
   "source": []
  },
  {
   "cell_type": "markdown",
   "id": "0adf725c-1e71-43a3-9fc8-1eeb15bb3bd2",
   "metadata": {},
   "source": [
    "### 4. Train and evaluate the regression tree"
   ]
  },
  {
   "cell_type": "code",
   "execution_count": null,
   "id": "ef9755db-074a-4a47-88c5-aff79c712738",
   "metadata": {},
   "outputs": [],
   "source": []
  },
  {
   "cell_type": "markdown",
   "id": "3ebb80fe-1bf6-4203-b8a4-712bc051c4ae",
   "metadata": {},
   "source": [
    "### 5. Visualize the regression tree"
   ]
  },
  {
   "cell_type": "code",
   "execution_count": null,
   "id": "92557df9-9f04-481a-8b7f-06d5db1df7a7",
   "metadata": {},
   "outputs": [],
   "source": []
  },
  {
   "cell_type": "markdown",
   "id": "775bb251-4d60-44e4-8813-ef8de32ec894",
   "metadata": {},
   "source": [
    "### 6. Prune the regression tree"
   ]
  },
  {
   "cell_type": "code",
   "execution_count": null,
   "id": "5826e588-c89f-48f3-9812-5ed8c0c924e4",
   "metadata": {},
   "outputs": [],
   "source": []
  },
  {
   "cell_type": "markdown",
   "id": "b7eecf08-e4a5-44ba-8fba-1f5e7569c155",
   "metadata": {},
   "source": [
    "### 7. Conclusion"
   ]
  },
  {
   "cell_type": "code",
   "execution_count": null,
   "id": "89026f1d-50c2-4a80-938a-b079b70b756e",
   "metadata": {},
   "outputs": [],
   "source": []
  }
 ],
 "metadata": {
  "kernelspec": {
   "display_name": "Python 3 (ipykernel)",
   "language": "python",
   "name": "python3"
  },
  "language_info": {
   "codemirror_mode": {
    "name": "ipython",
    "version": 3
   },
   "file_extension": ".py",
   "mimetype": "text/x-python",
   "name": "python",
   "nbconvert_exporter": "python",
   "pygments_lexer": "ipython3",
   "version": "3.12.2"
  }
 },
 "nbformat": 4,
 "nbformat_minor": 5
}
