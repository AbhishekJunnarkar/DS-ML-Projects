{
 "cells": [
  {
   "cell_type": "markdown",
   "id": "77033ca6",
   "metadata": {},
   "source": [
    "# 📊 Classification vs Regression Evaluation in Python"
   ]
  },
  {
   "cell_type": "code",
   "execution_count": 1,
   "id": "160b2d58",
   "metadata": {},
   "outputs": [],
   "source": [
    "\n",
    "from sklearn.datasets import load_breast_cancer, load_diabetes\n",
    "from sklearn.model_selection import train_test_split\n",
    "from sklearn.tree import DecisionTreeClassifier\n",
    "from sklearn.linear_model import LinearRegression\n",
    "from sklearn.metrics import (\n",
    "    confusion_matrix, ConfusionMatrixDisplay,\n",
    "    classification_report, accuracy_score,\n",
    "    mean_squared_error, mean_absolute_error, r2_score\n",
    ")\n",
    "import matplotlib.pyplot as plt\n"
   ]
  },
  {
   "cell_type": "markdown",
   "id": "15868c58",
   "metadata": {},
   "source": [
    "## 🧠 PART 1: Classification - Breast Cancer Dataset"
   ]
  },
  {
   "cell_type": "code",
   "execution_count": 2,
   "id": "336643d2",
   "metadata": {},
   "outputs": [
    {
     "data": {
      "image/png": "[encoded data removed]",
      "text/plain": [
       "<Figure size 640x480 with 2 Axes>"
      ]
     },
     "metadata": {},
     "output_type": "display_data"
    },
    {
     "name": "stdout",
     "output_type": "stream",
     "text": [
      "🔍 Classification Report:\n",
      "              precision    recall  f1-score   support\n",
      "\n",
      "           0       0.90      0.95      0.92        63\n",
      "           1       0.97      0.94      0.95       108\n",
      "\n",
      "    accuracy                           0.94       171\n",
      "   macro avg       0.93      0.94      0.94       171\n",
      "weighted avg       0.94      0.94      0.94       171\n",
      "\n"
     ]
    }
   ],
   "source": [
    "\n",
    "# Load classification dataset\n",
    "X_clf, y_clf = load_breast_cancer(return_X_y=True)\n",
    "Xc_train, Xc_test, yc_train, yc_test = train_test_split(X_clf, y_clf, test_size=0.3, random_state=42)\n",
    "\n",
    "# Train model\n",
    "clf = DecisionTreeClassifier(random_state=42)\n",
    "clf.fit(Xc_train, yc_train)\n",
    "yc_pred = clf.predict(Xc_test)\n",
    "\n",
    "# Confusion Matrix\n",
    "cm = confusion_matrix(yc_test, yc_pred)\n",
    "disp = ConfusionMatrixDisplay(confusion_matrix=cm)\n",
    "disp.plot(cmap=plt.cm.Blues)\n",
    "plt.title(\"Confusion Matrix - Classification\")\n",
    "plt.grid(False)\n",
    "plt.show()\n",
    "\n",
    "# Classification report\n",
    "print(\"🔍 Classification Report:\")\n",
    "print(classification_report(yc_test, yc_pred))\n"
   ]
  },
  {
   "cell_type": "markdown",
   "id": "97c7d76b",
   "metadata": {},
   "source": [
    "## 🔢 PART 2: Regression - Diabetes Dataset"
   ]
  },
  {
   "cell_type": "code",
   "execution_count": 3,
   "id": "a0b16256",
   "metadata": {},
   "outputs": [
    {
     "name": "stdout",
     "output_type": "stream",
     "text": [
      "\n",
      "📏 Regression Evaluation:\n",
      "MSE: 2821.75\n",
      "RMSE: 53.12\n",
      "MAE: 41.92\n",
      "R² Score: 0.48\n"
     ]
    }
   ],
   "source": [
    "\n",
    "# Load regression dataset\n",
    "X_reg, y_reg = load_diabetes(return_X_y=True)\n",
    "Xr_train, Xr_test, yr_train, yr_test = train_test_split(X_reg, y_reg, test_size=0.3, random_state=42)\n",
    "\n",
    "# Train model\n",
    "reg = LinearRegression()\n",
    "reg.fit(Xr_train, yr_train)\n",
    "yr_pred = reg.predict(Xr_test)\n",
    "\n",
    "# Evaluate\n",
    "mse = mean_squared_error(yr_test, yr_pred)\n",
    "rmse = mse ** 0.5\n",
    "mae = mean_absolute_error(yr_test, yr_pred)\n",
    "r2 = r2_score(yr_test, yr_pred)\n",
    "\n",
    "print(\"\\n📏 Regression Evaluation:\")\n",
    "print(f\"MSE: {mse:.2f}\")\n",
    "print(f\"RMSE: {rmse:.2f}\")\n",
    "print(f\"MAE: {mae:.2f}\")\n",
    "print(f\"R² Score: {r2:.2f}\")\n"
   ]
  },
  {
   "cell_type": "code",
   "execution_count": null,
   "id": "a484dd8b-ce2e-45db-983c-ae7c82722585",
   "metadata": {},
   "outputs": [],
   "source": []
  }
 ],
 "metadata": {
  "kernelspec": {
   "display_name": "Python 3 (ipykernel)",
   "language": "python",
   "name": "python3"
  },
  "language_info": {
   "codemirror_mode": {
    "name": "ipython",
    "version": 3
   },
   "file_extension": ".py",
   "mimetype": "text/x-python",
   "name": "python",
   "nbconvert_exporter": "python",
   "pygments_lexer": "ipython3",
   "version": "3.12.2"
  }
 },
 "nbformat": 4,
 "nbformat_minor": 5
}
