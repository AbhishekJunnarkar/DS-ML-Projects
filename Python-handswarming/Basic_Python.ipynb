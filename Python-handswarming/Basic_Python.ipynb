{
 "cells": [
  {
   "cell_type": "markdown",
   "id": "bf72787c-81f4-4d36-82e1-088377b36a01",
   "metadata": {},
   "source": [
    "# Python Practice Questions"
   ]
  },
  {
   "cell_type": "code",
   "execution_count": 3,
   "id": "eb430773-6206-41e5-9156-ca8a8db91b5a",
   "metadata": {},
   "outputs": [
    {
     "name": "stdout",
     "output_type": "stream",
     "text": [
      "Hello world\n"
     ]
    }
   ],
   "source": [
    "# Hello World\n",
    "# Write a Python program that prints \"Hello, World!\" to the screen.\n",
    "print('Hello world')"
   ]
  },
  {
   "cell_type": "code",
   "execution_count": 8,
   "id": "55bd9d95-1fea-4656-999b-3cedab5cd072",
   "metadata": {},
   "outputs": [
    {
     "name": "stdout",
     "output_type": "stream",
     "text": [
      "sum is  15\n",
      "Difference is  5\n",
      "Product is  50\n",
      "Quotient is 2.0\n"
     ]
    }
   ],
   "source": [
    "# Simple Calculator\n",
    "# Write a Python program that takes two numbers as input and prints their sum, difference, product, and quotient.\n",
    "num1 = 10\n",
    "num2 = 5\n",
    "sum = num1 + num2\n",
    "print('sum is ', sum)\n",
    "difference = num1 - num2\n",
    "print('Difference is ', difference)\n",
    "product = num1 * num2\n",
    "print('Product is ', product)\n",
    "\n",
    "quotient = num1 / num2\n",
    "print('Quotient is', quotient)"
   ]
  },
  {
   "cell_type": "code",
   "execution_count": null,
   "id": "9b1c1c10-4bdd-45c4-be0e-29f33367e8fa",
   "metadata": {},
   "outputs": [],
   "source": [
    "# Simple Calculator\n",
    "# Write a Python program that takes two numbers as input and prints their sum, difference, product, and quotient.\n"
   ]
  },
  {
   "cell_type": "code",
   "execution_count": null,
   "id": "6fd6e679-a3e4-42f9-ae0f-46118d4ae89b",
   "metadata": {},
   "outputs": [],
   "source": [
    "# Even or Odd\n",
    "# Write a program that checks if a number is even or odd. Prompt the user to enter a number.\n"
   ]
  },
  {
   "cell_type": "code",
   "execution_count": null,
   "id": "746ccda7-f018-4955-9886-73b675f61e28",
   "metadata": {},
   "outputs": [],
   "source": [
    "# Vowel or Consonant\n",
    "# Write a program that takes a letter as input and checks if it is a vowel or consonant.\n"
   ]
  },
  {
   "cell_type": "code",
   "execution_count": null,
   "id": "55af57a5-9384-4648-8b60-d792ec1c5ea7",
   "metadata": {},
   "outputs": [],
   "source": [
    "# Find the Largest of Three Numbers\n",
    "# Write a program that takes three numbers as input and prints the largest number.\n"
   ]
  },
  {
   "cell_type": "code",
   "execution_count": null,
   "id": "3585dd79-2357-4814-ae51-3d9dad4eff15",
   "metadata": {},
   "outputs": [],
   "source": [
    "# Number Countdown\n",
    "# Write a program that prints numbers from 10 to 1 using a while loop.\n"
   ]
  },
  {
   "cell_type": "code",
   "execution_count": null,
   "id": "68008438-5bb1-4bd0-80ab-492d3468e972",
   "metadata": {},
   "outputs": [],
   "source": [
    "# Sum of Natural Numbers\n",
    "# Write a Python program that calculates the sum of the first N natural numbers (where N is entered by the user).\n"
   ]
  },
  {
   "cell_type": "code",
   "execution_count": null,
   "id": "897ac4c7-8fa7-42e9-85ca-4529be6f1d70",
   "metadata": {},
   "outputs": [],
   "source": [
    "# Multiplication Table\n",
    "# Write a program that takes a number as input and prints its multiplication table (1 to 10).\n"
   ]
  },
  {
   "cell_type": "code",
   "execution_count": null,
   "id": "47323a7b-dbef-4954-9cd2-2f4f41903a37",
   "metadata": {},
   "outputs": [],
   "source": [
    "# Factorial of a Number\n",
    "# Write a program that calculates the factorial of a given number using both for and while loops.\n"
   ]
  },
  {
   "cell_type": "code",
   "execution_count": null,
   "id": "9af3ca90-aff8-456e-8e1c-9998103a6bcb",
   "metadata": {},
   "outputs": [],
   "source": [
    "# Palindrome Checker\n",
    "# Write a Python program that checks if a given string is a palindrome (reads the same forward and backward)."
   ]
  }
 ],
 "metadata": {
  "kernelspec": {
   "display_name": "Python 3 (ipykernel)",
   "language": "python",
   "name": "python3"
  },
  "language_info": {
   "codemirror_mode": {
    "name": "ipython",
    "version": 3
   },
   "file_extension": ".py",
   "mimetype": "text/x-python",
   "name": "python",
   "nbconvert_exporter": "python",
   "pygments_lexer": "ipython3",
   "version": "3.12.2"
  }
 },
 "nbformat": 4,
 "nbformat_minor": 5
}
