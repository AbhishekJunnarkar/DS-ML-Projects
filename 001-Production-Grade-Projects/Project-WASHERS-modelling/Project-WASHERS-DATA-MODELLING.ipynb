{
 "cells": [
  {
   "cell_type": "markdown",
   "id": "786c9e6c-3c15-41a8-af79-c7f9d55146c3",
   "metadata": {},
   "source": [
    "# Project Objective: Dish Washers"
   ]
  },
  {
   "cell_type": "markdown",
   "id": "7e997bad-1ec0-43c1-b423-2b23b667c57d",
   "metadata": {},
   "source": [
    "## Module 1: DATA COLLECTION"
   ]
  },
  {
   "cell_type": "markdown",
   "id": "c8cb670b-606c-4a95-843d-836ea0c56b2d",
   "metadata": {},
   "source": [
    "#### Step 1.1 Import the required libraries "
   ]
  },
  {
   "cell_type": "code",
   "execution_count": 1,
   "id": "89ec85ca-5ecc-4c60-97de-6e5086251442",
   "metadata": {},
   "outputs": [],
   "source": [
    "import pandas as pd"
   ]
  },
  {
   "cell_type": "markdown",
   "id": "0d64ab1e-8da3-4631-99c0-4390efaaa46d",
   "metadata": {},
   "source": [
    "#### Step 1.2 Load the Data as a DataFrame"
   ]
  },
  {
   "cell_type": "code",
   "execution_count": 3,
   "id": "795f9fb5-5431-4bf3-bffc-de42dfae176f",
   "metadata": {},
   "outputs": [],
   "source": [
    "washerscsv = pd.read_csv(\"washers.csv\")"
   ]
  },
  {
   "cell_type": "code",
   "execution_count": 6,
   "id": "ceddb039-9e44-4d64-8ae1-b8b7f0203c3b",
   "metadata": {},
   "outputs": [
    {
     "data": {
      "text/html": [
       "<div>\n",
       "<style scoped>\n",
       "    .dataframe tbody tr th:only-of-type {\n",
       "        vertical-align: middle;\n",
       "    }\n",
       "\n",
       "    .dataframe tbody tr th {\n",
       "        vertical-align: top;\n",
       "    }\n",
       "\n",
       "    .dataframe thead th {\n",
       "        text-align: right;\n",
       "    }\n",
       "</style>\n",
       "<table border=\"1\" class=\"dataframe\">\n",
       "  <thead>\n",
       "    <tr style=\"text-align: right;\">\n",
       "      <th></th>\n",
       "      <th>ID</th>\n",
       "      <th>BrandName</th>\n",
       "      <th>ModelNumber</th>\n",
       "      <th>UPC</th>\n",
       "      <th>Configuration</th>\n",
       "      <th>Features</th>\n",
       "      <th>Market</th>\n",
       "      <th>Volume</th>\n",
       "      <th>IMEF</th>\n",
       "      <th>MinimumIMEF</th>\n",
       "      <th>EnergyUse</th>\n",
       "      <th>IWF</th>\n",
       "      <th>MaximumIWF</th>\n",
       "      <th>WaterUse</th>\n",
       "      <th>DateAvailable</th>\n",
       "      <th>DateCertified</th>\n",
       "      <th>Countries</th>\n",
       "      <th>MostEfficient</th>\n",
       "    </tr>\n",
       "  </thead>\n",
       "  <tbody>\n",
       "    <tr>\n",
       "      <th>0</th>\n",
       "      <td>2342279</td>\n",
       "      <td>GE</td>\n",
       "      <td>GTW845C*N***</td>\n",
       "      <td>1</td>\n",
       "      <td>Top Load</td>\n",
       "      <td>Gentle Cycle,Delayed Start,Sanitize Option</td>\n",
       "      <td>Residential</td>\n",
       "      <td>5.0</td>\n",
       "      <td>2.06</td>\n",
       "      <td>1.29</td>\n",
       "      <td>192</td>\n",
       "      <td>4.3</td>\n",
       "      <td>8.4</td>\n",
       "      <td>6368</td>\n",
       "      <td>8/5/19</td>\n",
       "      <td>7/31/19</td>\n",
       "      <td>United States, Canada</td>\n",
       "      <td>No</td>\n",
       "    </tr>\n",
       "    <tr>\n",
       "      <th>1</th>\n",
       "      <td>2331684</td>\n",
       "      <td>GE</td>\n",
       "      <td>GUD27EE*N***</td>\n",
       "      <td>84691844198</td>\n",
       "      <td>Top Load</td>\n",
       "      <td>Gentle Cycle</td>\n",
       "      <td>Residential</td>\n",
       "      <td>3.9</td>\n",
       "      <td>2.06</td>\n",
       "      <td>1.29</td>\n",
       "      <td>140</td>\n",
       "      <td>4.3</td>\n",
       "      <td>8.4</td>\n",
       "      <td>4947</td>\n",
       "      <td>12/10/18</td>\n",
       "      <td>11/30/18</td>\n",
       "      <td>United States</td>\n",
       "      <td>No</td>\n",
       "    </tr>\n",
       "    <tr>\n",
       "      <th>2</th>\n",
       "      <td>2331685</td>\n",
       "      <td>GE</td>\n",
       "      <td>GUD27EE*N***</td>\n",
       "      <td>7.57638E+11</td>\n",
       "      <td>Top Load</td>\n",
       "      <td>Gentle Cycle</td>\n",
       "      <td>Residential</td>\n",
       "      <td>3.9</td>\n",
       "      <td>2.06</td>\n",
       "      <td>1.29</td>\n",
       "      <td>140</td>\n",
       "      <td>4.3</td>\n",
       "      <td>8.4</td>\n",
       "      <td>4947</td>\n",
       "      <td>12/10/18</td>\n",
       "      <td>11/30/18</td>\n",
       "      <td>Canada</td>\n",
       "      <td>No</td>\n",
       "    </tr>\n",
       "    <tr>\n",
       "      <th>3</th>\n",
       "      <td>2331687</td>\n",
       "      <td>GE</td>\n",
       "      <td>GUD27GE*N***</td>\n",
       "      <td>84691844181</td>\n",
       "      <td>Top Load</td>\n",
       "      <td>Gentle Cycle</td>\n",
       "      <td>Residential</td>\n",
       "      <td>3.9</td>\n",
       "      <td>2.06</td>\n",
       "      <td>1.29</td>\n",
       "      <td>140</td>\n",
       "      <td>4.3</td>\n",
       "      <td>8.4</td>\n",
       "      <td>4947</td>\n",
       "      <td>12/10/18</td>\n",
       "      <td>11/30/18</td>\n",
       "      <td>United States</td>\n",
       "      <td>No</td>\n",
       "    </tr>\n",
       "    <tr>\n",
       "      <th>4</th>\n",
       "      <td>2331686</td>\n",
       "      <td>GE</td>\n",
       "      <td>GUD37EE*N***</td>\n",
       "      <td>7.57638E+11</td>\n",
       "      <td>Top Load</td>\n",
       "      <td>Gentle Cycle</td>\n",
       "      <td>Residential</td>\n",
       "      <td>3.9</td>\n",
       "      <td>2.06</td>\n",
       "      <td>1.29</td>\n",
       "      <td>140</td>\n",
       "      <td>4.3</td>\n",
       "      <td>8.4</td>\n",
       "      <td>4947</td>\n",
       "      <td>12/10/18</td>\n",
       "      <td>11/30/18</td>\n",
       "      <td>Canada</td>\n",
       "      <td>No</td>\n",
       "    </tr>\n",
       "  </tbody>\n",
       "</table>\n",
       "</div>"
      ],
      "text/plain": [
       "        ID BrandName   ModelNumber          UPC Configuration  \\\n",
       "0  2342279        GE  GTW845C*N***            1      Top Load   \n",
       "1  2331684        GE  GUD27EE*N***  84691844198      Top Load   \n",
       "2  2331685        GE  GUD27EE*N***  7.57638E+11      Top Load   \n",
       "3  2331687        GE  GUD27GE*N***  84691844181      Top Load   \n",
       "4  2331686        GE  GUD37EE*N***  7.57638E+11      Top Load   \n",
       "\n",
       "                                     Features       Market  Volume  IMEF  \\\n",
       "0  Gentle Cycle,Delayed Start,Sanitize Option  Residential     5.0  2.06   \n",
       "1                                Gentle Cycle  Residential     3.9  2.06   \n",
       "2                                Gentle Cycle  Residential     3.9  2.06   \n",
       "3                                Gentle Cycle  Residential     3.9  2.06   \n",
       "4                                Gentle Cycle  Residential     3.9  2.06   \n",
       "\n",
       "   MinimumIMEF  EnergyUse  IWF  MaximumIWF  WaterUse DateAvailable  \\\n",
       "0         1.29        192  4.3         8.4      6368        8/5/19   \n",
       "1         1.29        140  4.3         8.4      4947      12/10/18   \n",
       "2         1.29        140  4.3         8.4      4947      12/10/18   \n",
       "3         1.29        140  4.3         8.4      4947      12/10/18   \n",
       "4         1.29        140  4.3         8.4      4947      12/10/18   \n",
       "\n",
       "  DateCertified              Countries MostEfficient  \n",
       "0       7/31/19  United States, Canada            No  \n",
       "1      11/30/18          United States            No  \n",
       "2      11/30/18                 Canada            No  \n",
       "3      11/30/18          United States            No  \n",
       "4      11/30/18                 Canada            No  "
      ]
     },
     "execution_count": 6,
     "metadata": {},
     "output_type": "execute_result"
    }
   ],
   "source": [
    "washerscsv.head()"
   ]
  },
  {
   "cell_type": "code",
   "execution_count": 4,
   "id": "419c30c1-74a1-4b1f-8223-ba50c83062d6",
   "metadata": {},
   "outputs": [
    {
     "name": "stdout",
     "output_type": "stream",
     "text": [
      "<class 'pandas.core.frame.DataFrame'>\n",
      "RangeIndex: 261 entries, 0 to 260\n",
      "Data columns (total 18 columns):\n",
      " #   Column         Non-Null Count  Dtype  \n",
      "---  ------         --------------  -----  \n",
      " 0   ID             261 non-null    int64  \n",
      " 1   BrandName      261 non-null    object \n",
      " 2   ModelNumber    261 non-null    object \n",
      " 3   UPC            261 non-null    object \n",
      " 4   Configuration  261 non-null    object \n",
      " 5   Features       202 non-null    object \n",
      " 6   Market         261 non-null    object \n",
      " 7   Volume         261 non-null    float64\n",
      " 8   IMEF           261 non-null    float64\n",
      " 9   MinimumIMEF    261 non-null    float64\n",
      " 10  EnergyUse      261 non-null    int64  \n",
      " 11  IWF            261 non-null    float64\n",
      " 12  MaximumIWF     261 non-null    float64\n",
      " 13  WaterUse       261 non-null    int64  \n",
      " 14  DateAvailable  261 non-null    object \n",
      " 15  DateCertified  261 non-null    object \n",
      " 16  Countries      261 non-null    object \n",
      " 17  MostEfficient  261 non-null    object \n",
      "dtypes: float64(5), int64(3), object(10)\n",
      "memory usage: 36.8+ KB\n"
     ]
    }
   ],
   "source": [
    "washerscsv.info()"
   ]
  },
  {
   "cell_type": "code",
   "execution_count": 5,
   "id": "e5544077-2376-4b50-8b7d-63d6a6bb302b",
   "metadata": {},
   "outputs": [
    {
     "data": {
      "text/html": [
       "<div>\n",
       "<style scoped>\n",
       "    .dataframe tbody tr th:only-of-type {\n",
       "        vertical-align: middle;\n",
       "    }\n",
       "\n",
       "    .dataframe tbody tr th {\n",
       "        vertical-align: top;\n",
       "    }\n",
       "\n",
       "    .dataframe thead th {\n",
       "        text-align: right;\n",
       "    }\n",
       "</style>\n",
       "<table border=\"1\" class=\"dataframe\">\n",
       "  <thead>\n",
       "    <tr style=\"text-align: right;\">\n",
       "      <th></th>\n",
       "      <th>ID</th>\n",
       "      <th>Volume</th>\n",
       "      <th>IMEF</th>\n",
       "      <th>MinimumIMEF</th>\n",
       "      <th>EnergyUse</th>\n",
       "      <th>IWF</th>\n",
       "      <th>MaximumIWF</th>\n",
       "      <th>WaterUse</th>\n",
       "    </tr>\n",
       "  </thead>\n",
       "  <tbody>\n",
       "    <tr>\n",
       "      <th>count</th>\n",
       "      <td>2.610000e+02</td>\n",
       "      <td>261.000000</td>\n",
       "      <td>261.000000</td>\n",
       "      <td>261.000000</td>\n",
       "      <td>261.000000</td>\n",
       "      <td>261.000000</td>\n",
       "      <td>261.000000</td>\n",
       "      <td>261.000000</td>\n",
       "    </tr>\n",
       "    <tr>\n",
       "      <th>mean</th>\n",
       "      <td>2.320802e+06</td>\n",
       "      <td>4.374713</td>\n",
       "      <td>2.456820</td>\n",
       "      <td>1.591341</td>\n",
       "      <td>129.214559</td>\n",
       "      <td>3.598851</td>\n",
       "      <td>6.372797</td>\n",
       "      <td>4632.727969</td>\n",
       "    </tr>\n",
       "    <tr>\n",
       "      <th>std</th>\n",
       "      <td>1.574793e+04</td>\n",
       "      <td>0.965866</td>\n",
       "      <td>0.380599</td>\n",
       "      <td>0.274261</td>\n",
       "      <td>43.850620</td>\n",
       "      <td>0.538265</td>\n",
       "      <td>1.845032</td>\n",
       "      <td>1292.693059</td>\n",
       "    </tr>\n",
       "    <tr>\n",
       "      <th>min</th>\n",
       "      <td>2.300602e+06</td>\n",
       "      <td>1.900000</td>\n",
       "      <td>2.060000</td>\n",
       "      <td>1.290000</td>\n",
       "      <td>60.000000</td>\n",
       "      <td>2.700000</td>\n",
       "      <td>4.700000</td>\n",
       "      <td>1728.000000</td>\n",
       "    </tr>\n",
       "    <tr>\n",
       "      <th>25%</th>\n",
       "      <td>2.310408e+06</td>\n",
       "      <td>4.300000</td>\n",
       "      <td>2.060000</td>\n",
       "      <td>1.290000</td>\n",
       "      <td>99.000000</td>\n",
       "      <td>3.200000</td>\n",
       "      <td>4.700000</td>\n",
       "      <td>3852.000000</td>\n",
       "    </tr>\n",
       "    <tr>\n",
       "      <th>50%</th>\n",
       "      <td>2.310499e+06</td>\n",
       "      <td>4.500000</td>\n",
       "      <td>2.380000</td>\n",
       "      <td>1.840000</td>\n",
       "      <td>120.000000</td>\n",
       "      <td>3.600000</td>\n",
       "      <td>4.700000</td>\n",
       "      <td>4429.000000</td>\n",
       "    </tr>\n",
       "    <tr>\n",
       "      <th>75%</th>\n",
       "      <td>2.332089e+06</td>\n",
       "      <td>5.000000</td>\n",
       "      <td>2.920000</td>\n",
       "      <td>1.840000</td>\n",
       "      <td>150.000000</td>\n",
       "      <td>4.300000</td>\n",
       "      <td>8.400000</td>\n",
       "      <td>5632.000000</td>\n",
       "    </tr>\n",
       "    <tr>\n",
       "      <th>max</th>\n",
       "      <td>2.359624e+06</td>\n",
       "      <td>6.200000</td>\n",
       "      <td>3.100000</td>\n",
       "      <td>1.840000</td>\n",
       "      <td>311.000000</td>\n",
       "      <td>4.300000</td>\n",
       "      <td>8.400000</td>\n",
       "      <td>7827.000000</td>\n",
       "    </tr>\n",
       "  </tbody>\n",
       "</table>\n",
       "</div>"
      ],
      "text/plain": [
       "                 ID      Volume        IMEF  MinimumIMEF   EnergyUse  \\\n",
       "count  2.610000e+02  261.000000  261.000000   261.000000  261.000000   \n",
       "mean   2.320802e+06    4.374713    2.456820     1.591341  129.214559   \n",
       "std    1.574793e+04    0.965866    0.380599     0.274261   43.850620   \n",
       "min    2.300602e+06    1.900000    2.060000     1.290000   60.000000   \n",
       "25%    2.310408e+06    4.300000    2.060000     1.290000   99.000000   \n",
       "50%    2.310499e+06    4.500000    2.380000     1.840000  120.000000   \n",
       "75%    2.332089e+06    5.000000    2.920000     1.840000  150.000000   \n",
       "max    2.359624e+06    6.200000    3.100000     1.840000  311.000000   \n",
       "\n",
       "              IWF  MaximumIWF     WaterUse  \n",
       "count  261.000000  261.000000   261.000000  \n",
       "mean     3.598851    6.372797  4632.727969  \n",
       "std      0.538265    1.845032  1292.693059  \n",
       "min      2.700000    4.700000  1728.000000  \n",
       "25%      3.200000    4.700000  3852.000000  \n",
       "50%      3.600000    4.700000  4429.000000  \n",
       "75%      4.300000    8.400000  5632.000000  \n",
       "max      4.300000    8.400000  7827.000000  "
      ]
     },
     "execution_count": 5,
     "metadata": {},
     "output_type": "execute_result"
    }
   ],
   "source": [
    "washerscsv.describe()"
   ]
  },
  {
   "cell_type": "markdown",
   "id": "7df3db6b-d6cc-4880-96e4-f7b18e93d5cd",
   "metadata": {},
   "source": [
    "## Module 2: DATA EXPLORATION"
   ]
  },
  {
   "cell_type": "code",
   "execution_count": 8,
   "id": "afc6a695-4661-4518-981e-dd1df186df83",
   "metadata": {},
   "outputs": [
    {
     "data": {
      "text/html": [
       "<div>\n",
       "<style scoped>\n",
       "    .dataframe tbody tr th:only-of-type {\n",
       "        vertical-align: middle;\n",
       "    }\n",
       "\n",
       "    .dataframe tbody tr th {\n",
       "        vertical-align: top;\n",
       "    }\n",
       "\n",
       "    .dataframe thead th {\n",
       "        text-align: right;\n",
       "    }\n",
       "</style>\n",
       "<table border=\"1\" class=\"dataframe\">\n",
       "  <thead>\n",
       "    <tr style=\"text-align: right;\">\n",
       "      <th></th>\n",
       "      <th>BrandName</th>\n",
       "    </tr>\n",
       "  </thead>\n",
       "  <tbody>\n",
       "    <tr>\n",
       "      <th>count</th>\n",
       "      <td>261</td>\n",
       "    </tr>\n",
       "    <tr>\n",
       "      <th>unique</th>\n",
       "      <td>22</td>\n",
       "    </tr>\n",
       "    <tr>\n",
       "      <th>top</th>\n",
       "      <td>LG</td>\n",
       "    </tr>\n",
       "    <tr>\n",
       "      <th>freq</th>\n",
       "      <td>50</td>\n",
       "    </tr>\n",
       "  </tbody>\n",
       "</table>\n",
       "</div>"
      ],
      "text/plain": [
       "       BrandName\n",
       "count        261\n",
       "unique        22\n",
       "top           LG\n",
       "freq          50"
      ]
     },
     "execution_count": 8,
     "metadata": {},
     "output_type": "execute_result"
    }
   ],
   "source": [
    "washerscsv[['BrandName']].describe()"
   ]
  },
  {
   "cell_type": "markdown",
   "id": "c804252b-32d6-456b-ba9f-902cfeb779ca",
   "metadata": {},
   "source": [
    "#### The method value_count "
   ]
  },
  {
   "cell_type": "code",
   "execution_count": 11,
   "id": "927add82-a90b-405a-b020-ba262daa9368",
   "metadata": {},
   "outputs": [
    {
     "data": {
      "text/plain": [
       "BrandName      \n",
       "LG                 50\n",
       "GE                 49\n",
       "Samsung            47\n",
       "Kenmore            30\n",
       "Whirlpool          26\n",
       "Maytag             18\n",
       "Electrolux          7\n",
       "Bosch               4\n",
       "Miele               4\n",
       "Asko                4\n",
       "Beko                3\n",
       "Blomberg            3\n",
       "Crosley             3\n",
       "Midea               2\n",
       "Magic Chef          2\n",
       "Amana               2\n",
       "Fisher & Paykel     2\n",
       "Insignia            1\n",
       "Inglis              1\n",
       "Gaggenau            1\n",
       "GE Adora            1\n",
       "Haier               1\n",
       "Name: count, dtype: int64"
      ]
     },
     "execution_count": 11,
     "metadata": {},
     "output_type": "execute_result"
    }
   ],
   "source": [
    "washerscsv[['BrandName']].value_counts()"
   ]
  },
  {
   "cell_type": "markdown",
   "id": "3b0ea360-7ce6-4401-b1e0-24e218fe09a3",
   "metadata": {},
   "source": []
  },
  {
   "cell_type": "code",
   "execution_count": 12,
   "id": "3620be4e-564e-44df-9d23-864bffe74461",
   "metadata": {},
   "outputs": [
    {
     "data": {
      "text/plain": [
       "BrandName      \n",
       "LG                 0.191571\n",
       "GE                 0.187739\n",
       "Samsung            0.180077\n",
       "Kenmore            0.114943\n",
       "Whirlpool          0.099617\n",
       "Maytag             0.068966\n",
       "Electrolux         0.026820\n",
       "Bosch              0.015326\n",
       "Miele              0.015326\n",
       "Asko               0.015326\n",
       "Beko               0.011494\n",
       "Blomberg           0.011494\n",
       "Crosley            0.011494\n",
       "Midea              0.007663\n",
       "Magic Chef         0.007663\n",
       "Amana              0.007663\n",
       "Fisher & Paykel    0.007663\n",
       "Insignia           0.003831\n",
       "Inglis             0.003831\n",
       "Gaggenau           0.003831\n",
       "GE Adora           0.003831\n",
       "Haier              0.003831\n",
       "Name: proportion, dtype: float64"
      ]
     },
     "execution_count": 12,
     "metadata": {},
     "output_type": "execute_result"
    }
   ],
   "source": [
    "washerscsv[['BrandName']].value_counts(normalize = True)"
   ]
  },
  {
   "cell_type": "code",
   "execution_count": 10,
   "id": "0a58510c-1665-4def-bc52-818ec01f16f5",
   "metadata": {},
   "outputs": [
    {
     "data": {
      "text/html": [
       "<div>\n",
       "<style scoped>\n",
       "    .dataframe tbody tr th:only-of-type {\n",
       "        vertical-align: middle;\n",
       "    }\n",
       "\n",
       "    .dataframe tbody tr th {\n",
       "        vertical-align: top;\n",
       "    }\n",
       "\n",
       "    .dataframe thead th {\n",
       "        text-align: right;\n",
       "    }\n",
       "</style>\n",
       "<table border=\"1\" class=\"dataframe\">\n",
       "  <thead>\n",
       "    <tr style=\"text-align: right;\">\n",
       "      <th></th>\n",
       "      <th>Configuration</th>\n",
       "    </tr>\n",
       "  </thead>\n",
       "  <tbody>\n",
       "    <tr>\n",
       "      <th>count</th>\n",
       "      <td>261</td>\n",
       "    </tr>\n",
       "    <tr>\n",
       "      <th>unique</th>\n",
       "      <td>2</td>\n",
       "    </tr>\n",
       "    <tr>\n",
       "      <th>top</th>\n",
       "      <td>Front Load</td>\n",
       "    </tr>\n",
       "    <tr>\n",
       "      <th>freq</th>\n",
       "      <td>143</td>\n",
       "    </tr>\n",
       "  </tbody>\n",
       "</table>\n",
       "</div>"
      ],
      "text/plain": [
       "       Configuration\n",
       "count            261\n",
       "unique             2\n",
       "top       Front Load\n",
       "freq             143"
      ]
     },
     "execution_count": 10,
     "metadata": {},
     "output_type": "execute_result"
    }
   ],
   "source": [
    "washerscsv[['Configuration']].describe()"
   ]
  },
  {
   "cell_type": "code",
   "execution_count": 14,
   "id": "b95f5332-1a49-46d8-bfa8-2077d60414a4",
   "metadata": {},
   "outputs": [
    {
     "data": {
      "text/plain": [
       "Volume    4.374713\n",
       "dtype: float64"
      ]
     },
     "execution_count": 14,
     "metadata": {},
     "output_type": "execute_result"
    }
   ],
   "source": [
    "washerscsv[['Volume']].mean()"
   ]
  },
  {
   "cell_type": "markdown",
   "id": "89a3f435-7bce-4539-b5a0-0ac6083e71c8",
   "metadata": {},
   "source": [
    "## Module 3: DATA VISUALIZATION"
   ]
  },
  {
   "cell_type": "markdown",
   "id": "2dcad59d-7dce-4e30-a312-6d2dd9a1a674",
   "metadata": {},
   "source": [
    "## Module 4: DATA MODELLING"
   ]
  },
  {
   "cell_type": "markdown",
   "id": "18eb08f4-8f2f-4218-b0f7-3a287376a4c3",
   "metadata": {},
   "source": [
    "## Module 5: DATA OPTIMIZATION"
   ]
  }
 ],
 "metadata": {
  "kernelspec": {
   "display_name": "Python 3 (ipykernel)",
   "language": "python",
   "name": "python3"
  },
  "language_info": {
   "codemirror_mode": {
    "name": "ipython",
    "version": 3
   },
   "file_extension": ".py",
   "mimetype": "text/x-python",
   "name": "python",
   "nbconvert_exporter": "python",
   "pygments_lexer": "ipython3",
   "version": "3.12.2"
  }
 },
 "nbformat": 4,
 "nbformat_minor": 5
}
