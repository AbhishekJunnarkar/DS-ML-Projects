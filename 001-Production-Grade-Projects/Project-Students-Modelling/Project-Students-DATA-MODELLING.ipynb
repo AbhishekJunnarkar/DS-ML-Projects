{
 "cells": [
  {
   "cell_type": "markdown",
   "id": "786c9e6c-3c15-41a8-af79-c7f9d55146c3",
   "metadata": {},
   "source": [
    "# Project Objective: Template for all projects "
   ]
  },
  {
   "cell_type": "markdown",
   "id": "7e997bad-1ec0-43c1-b423-2b23b667c57d",
   "metadata": {},
   "source": [
    "## Module 1: DATA COLLECTION"
   ]
  },
  {
   "cell_type": "markdown",
   "id": "c8cb670b-606c-4a95-843d-836ea0c56b2d",
   "metadata": {},
   "source": [
    "#### Step 1.1 Import the required libraries "
   ]
  },
  {
   "cell_type": "markdown",
   "id": "0d64ab1e-8da3-4631-99c0-4390efaaa46d",
   "metadata": {},
   "source": [
    "#### Step 1.2 Load the Data as a DataFrame"
   ]
  },
  {
   "cell_type": "markdown",
   "id": "7df3db6b-d6cc-4880-96e4-f7b18e93d5cd",
   "metadata": {},
   "source": [
    "## Module 2: DATA EXPLORATION"
   ]
  },
  {
   "cell_type": "markdown",
   "id": "70d8f1dc-48a2-41e3-b394-5666435b3a3c",
   "metadata": {},
   "source": [
    "### Step 2.1 Data Inspection - head(), info(), describe() etc."
   ]
  },
  {
   "cell_type": "markdown",
   "id": "a759fb39-6b91-4054-8008-cea44118b060",
   "metadata": {},
   "source": [
    "### Step 2.2 Data Aggregation - value_counts(), mean(), groupby()"
   ]
  },
  {
   "cell_type": "markdown",
   "id": "71fc5240-03d1-4d19-85ca-89f1a7824ead",
   "metadata": {},
   "source": [
    "### Step 2.3 Data Cleaning - Handle missing values, duplicates, inconsistent formats, etc."
   ]
  },
  {
   "cell_type": "markdown",
   "id": "d4670de9-ac40-483c-9430-0de7b7766938",
   "metadata": {},
   "source": [
    "### Step 2.4 Data Storage - Save the cleaned data for future use."
   ]
  },
  {
   "cell_type": "markdown",
   "id": "89a3f435-7bce-4539-b5a0-0ac6083e71c8",
   "metadata": {},
   "source": [
    "## Module 3: DATA VISUALIZATION"
   ]
  },
  {
   "cell_type": "markdown",
   "id": "8ea67b10-1b83-4c67-a34d-80ae62b45c27",
   "metadata": {},
   "source": [
    "### ** *Because certain data patterns are only understood when represented with a visualization*"
   ]
  },
  {
   "cell_type": "markdown",
   "id": "2dcad59d-7dce-4e30-a312-6d2dd9a1a674",
   "metadata": {},
   "source": [
    "## Module 4: DATA MODELLING"
   ]
  },
  {
   "cell_type": "markdown",
   "id": "18eb08f4-8f2f-4218-b0f7-3a287376a4c3",
   "metadata": {},
   "source": [
    "## Module 5: DATA OPTIMIZATION"
   ]
  }
 ],
 "metadata": {
  "kernelspec": {
   "display_name": "Python 3 (ipykernel)",
   "language": "python",
   "name": "python3"
  },
  "language_info": {
   "codemirror_mode": {
    "name": "ipython",
    "version": 3
   },
   "file_extension": ".py",
   "mimetype": "text/x-python",
   "name": "python",
   "nbconvert_exporter": "python",
   "pygments_lexer": "ipython3",
   "version": "3.12.2"
  }
 },
 "nbformat": 4,
 "nbformat_minor": 5
}
