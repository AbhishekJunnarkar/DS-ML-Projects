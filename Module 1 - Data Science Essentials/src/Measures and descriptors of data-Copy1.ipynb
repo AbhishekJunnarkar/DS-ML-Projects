{
 "cells": [
  {
   "cell_type": "markdown",
   "metadata": {},
   "source": [
    "# Importing Libraries"
   ]
  },
  {
   "cell_type": "code",
   "execution_count": 1,
   "metadata": {},
   "outputs": [],
   "source": [
    "\n",
    "import numpy as np\n",
    "import pandas as pd\n",
    "import seaborn as sns\n",
    "import matplotlib.pyplot as plt\n",
    "%matplotlib inline\n",
    "#!pip install openpyxl"
   ]
  },
  {
   "cell_type": "code",
   "execution_count": 2,
   "metadata": {},
   "outputs": [],
   "source": [
    "df_ = pd.read_excel('data_3.xlsx')  #importing excel sheet"
   ]
  },
  {
   "cell_type": "code",
   "execution_count": 4,
   "metadata": {},
   "outputs": [
    {
     "data": {
      "text/html": [
       "<div>\n",
       "<style scoped>\n",
       "    .dataframe tbody tr th:only-of-type {\n",
       "        vertical-align: middle;\n",
       "    }\n",
       "\n",
       "    .dataframe tbody tr th {\n",
       "        vertical-align: top;\n",
       "    }\n",
       "\n",
       "    .dataframe thead th {\n",
       "        text-align: right;\n",
       "    }\n",
       "</style>\n",
       "<table border=\"1\" class=\"dataframe\">\n",
       "  <thead>\n",
       "    <tr style=\"text-align: right;\">\n",
       "      <th></th>\n",
       "      <th>x</th>\n",
       "      <th>y</th>\n",
       "    </tr>\n",
       "  </thead>\n",
       "  <tbody>\n",
       "    <tr>\n",
       "      <th>0</th>\n",
       "      <td>4.792464</td>\n",
       "      <td>5.465294</td>\n",
       "    </tr>\n",
       "    <tr>\n",
       "      <th>1</th>\n",
       "      <td>4.495052</td>\n",
       "      <td>4.089470</td>\n",
       "    </tr>\n",
       "    <tr>\n",
       "      <th>2</th>\n",
       "      <td>5.161569</td>\n",
       "      <td>5.407030</td>\n",
       "    </tr>\n",
       "    <tr>\n",
       "      <th>3</th>\n",
       "      <td>6.425300</td>\n",
       "      <td>6.453381</td>\n",
       "    </tr>\n",
       "    <tr>\n",
       "      <th>4</th>\n",
       "      <td>4.888931</td>\n",
       "      <td>4.667882</td>\n",
       "    </tr>\n",
       "  </tbody>\n",
       "</table>\n",
       "</div>"
      ],
      "text/plain": [
       "          x         y\n",
       "0  4.792464  5.465294\n",
       "1  4.495052  4.089470\n",
       "2  5.161569  5.407030\n",
       "3  6.425300  6.453381\n",
       "4  4.888931  4.667882"
      ]
     },
     "execution_count": 4,
     "metadata": {},
     "output_type": "execute_result"
    }
   ],
   "source": [
    "df_.head()"
   ]
  },
  {
   "cell_type": "markdown",
   "metadata": {},
   "source": [
    "Finding the no. of rows and columns"
   ]
  },
  {
   "cell_type": "code",
   "execution_count": 6,
   "metadata": {},
   "outputs": [
    {
     "name": "stdout",
     "output_type": "stream",
     "text": [
      "<class 'pandas.core.frame.DataFrame'>\n",
      "RangeIndex: 500 entries, 0 to 499\n",
      "Data columns (total 2 columns):\n",
      " #   Column  Non-Null Count  Dtype  \n",
      "---  ------  --------------  -----  \n",
      " 0   x       500 non-null    float64\n",
      " 1   y       500 non-null    float64\n",
      "dtypes: float64(2)\n",
      "memory usage: 7.9 KB\n"
     ]
    }
   ],
   "source": [
    "df_.info()"
   ]
  },
  {
   "cell_type": "code",
   "execution_count": 8,
   "metadata": {},
   "outputs": [
    {
     "data": {
      "image/png": "[encoded data removed]",
      "text/plain": [
       "<Figure size 640x480 with 1 Axes>"
      ]
     },
     "metadata": {},
     "output_type": "display_data"
    }
   ],
   "source": [
    "#visualizing the dataset\n",
    "plt.scatter(x= df_['x'] , y= df_['y'])  \n",
    "plt.xlabel('x')\n",
    "plt.ylabel('y')\n",
    "plt.show()"
   ]
  },
  {
   "cell_type": "code",
   "execution_count": 6,
   "metadata": {},
   "outputs": [],
   "source": [
    "#Sampling of data\n",
    "import random\n",
    "df1 = df_.sample(n=100)      #Sample of size = 100\n",
    "df3 = df_.sample(n=100)      #Sample of size = 100\n",
    "df2 = df_.sample(n=150)      #Sample of size = 150\n",
    "df4 = df_.sample(n=150)      #Sample of size = 150\n",
    "df5 = df_.sample(n=475)      #Sample of size = 475"
   ]
  },
  {
   "cell_type": "code",
   "execution_count": 7,
   "metadata": {},
   "outputs": [
    {
     "name": "stdout",
     "output_type": "stream",
     "text": [
      "The mean of population is: x: 5.082467729231954, y:4.9528964245044955\n",
      "The mean of df1 is: x: 5.2118797121091225, y:5.101374570855529\n",
      "The mean of df3 is: x: 5.261497029400748, y:5.13171265117055\n",
      "The mean of df2 is: x: 5.183219266055232, y:5.051656319995218\n",
      "The mean of df4 is: x: 5.006823359549396, y:4.91062754191715\n",
      "The mean of df5 is: x: 5.0609210155567155, y:4.941103284319012\n"
     ]
    }
   ],
   "source": [
    "#Comparing the mean of population and samples\n",
    "a, b = df_.mean()\n",
    "print('The mean of population is: x: {}, y:{}'.format(a,b))\n",
    "a, b = df1.mean()\n",
    "print('The mean of df1 is: x: {}, y:{}'.format(a,b))\n",
    "a, b = df3.mean()\n",
    "print('The mean of df3 is: x: {}, y:{}'.format(a,b))\n",
    "a, b = df2.mean()\n",
    "print('The mean of df2 is: x: {}, y:{}'.format(a,b))\n",
    "a, b = df4.mean()\n",
    "print('The mean of df4 is: x: {}, y:{}'.format(a,b))\n",
    "a, b = df5.mean()\n",
    "print('The mean of df5 is: x: {}, y:{}'.format(a,b))"
   ]
  },
  {
   "cell_type": "code",
   "execution_count": 8,
   "metadata": {},
   "outputs": [
    {
     "name": "stdout",
     "output_type": "stream",
     "text": [
      "The median of population is: x: 5.05487549200244, y:4.978847078474789\n",
      "The median of df1 is: x: 5.314807798198201, y:5.0769396634395205\n",
      "The median of df2 is: x: 5.266314180375364, y:4.997312933045494\n",
      "The median of df5 is: x: 5.042906945248812, y:4.966923116409123\n"
     ]
    }
   ],
   "source": [
    "#Comparing the median of population and samples\n",
    "a, b = df_.median()\n",
    "print('The median of population is: x: {}, y:{}'.format(a,b))\n",
    "a, b = df1.median()\n",
    "print('The median of df1 is: x: {}, y:{}'.format(a,b))\n",
    "a, b = df2.median()\n",
    "print('The median of df2 is: x: {}, y:{}'.format(a,b))\n",
    "a, b = df5.median()\n",
    "print('The median of df5 is: x: {}, y:{}'.format(a,b))"
   ]
  },
  {
   "cell_type": "code",
   "execution_count": 9,
   "metadata": {},
   "outputs": [
    {
     "name": "stdout",
     "output_type": "stream",
     "text": [
      "The variance of population is: x: 2.662558188756155, y:2.634758133985419\n",
      "The variance of df1 is: x: 2.1910693055615065, y:1.683206706788869\n",
      "The variance of df2 is: x: 3.1261363798900788, y:2.506602591428387\n",
      "The variance of df3 is: x: 1.50446640087601, y:1.7567140021480419\n",
      "The variance of df4 is: x: 2.841253355332036, y:2.846881050016813\n",
      "The variance of df5 is: x: 2.5163258587668014, y:2.596323528943558\n"
     ]
    }
   ],
   "source": [
    "#Comparing the variance of population and samples\n",
    "a, b = df_.var()\n",
    "print('The variance of population is: x: {}, y:{}'.format(a,b))\n",
    "a, b = df1.var()\n",
    "print('The variance of df1 is: x: {}, y:{}'.format(a,b))\n",
    "a, b = df2.var()\n",
    "print('The variance of df2 is: x: {}, y:{}'.format(a,b))\n",
    "a, b = df3.var()\n",
    "print('The variance of df3 is: x: {}, y:{}'.format(a,b))\n",
    "a, b = df4.var()\n",
    "print('The variance of df4 is: x: {}, y:{}'.format(a,b))\n",
    "a, b = df5.var()\n",
    "print('The variance of df5 is: x: {}, y:{}'.format(a,b))"
   ]
  },
  {
   "cell_type": "code",
   "execution_count": 10,
   "metadata": {},
   "outputs": [
    {
     "name": "stdout",
     "output_type": "stream",
     "text": [
      "The standard deviation of population is: x: 1.631734717641368, y:1.6231938066618596\n",
      "The standard deviation of df1 is: x: 1.4802260994731535, y:1.297384563955063\n",
      "The standard deviation of df2 is: x: 1.7680883405220675, y:1.5832253760688613\n",
      "The standard deviation of df3 is: x: 1.2265669165911863, y:1.3254108805000968\n",
      "The standard deviation of df4 is: x: 1.6856017783960824, y:1.687270295482266\n",
      "The standard deviation of df5 is: x: 1.5862931188045926, y:1.6113111210885245\n"
     ]
    }
   ],
   "source": [
    "#Comparing the standard deviation of population and samples\n",
    "a, b = df_.std()\n",
    "print('The standard deviation of population is: x: {}, y:{}'.format(a,b))\n",
    "a, b = df1.std()\n",
    "print('The standard deviation of df1 is: x: {}, y:{}'.format(a,b))\n",
    "a, b = df2.std()\n",
    "print('The standard deviation of df2 is: x: {}, y:{}'.format(a,b))\n",
    "a, b = df3.std()\n",
    "print('The standard deviation of df3 is: x: {}, y:{}'.format(a,b))\n",
    "a, b = df4.std()\n",
    "print('The standard deviation of df4 is: x: {}, y:{}'.format(a,b))\n",
    "a, b = df5.std()\n",
    "print('The standard deviation of df5 is: x: {}, y:{}'.format(a,b))"
   ]
  },
  {
   "cell_type": "markdown",
   "metadata": {},
   "source": [
    "## Statistics of the data"
   ]
  },
  {
   "cell_type": "code",
   "execution_count": 11,
   "metadata": {},
   "outputs": [
    {
     "data": {
      "text/plain": [
       "np.float64(13.725427048471568)"
      ]
     },
     "execution_count": 11,
     "metadata": {},
     "output_type": "execute_result"
    }
   ],
   "source": [
    "#Range of x\n",
    "popu_range_x = df_['x'].max() - df_['x'].min()\n",
    "popu_range_x"
   ]
  },
  {
   "cell_type": "code",
   "execution_count": 12,
   "metadata": {},
   "outputs": [
    {
     "data": {
      "text/plain": [
       "np.float64(11.593352800114099)"
      ]
     },
     "execution_count": 12,
     "metadata": {},
     "output_type": "execute_result"
    }
   ],
   "source": [
    "#range of y\n",
    "popu_range_y = df_['y'].max() - df_['y'].min()\n",
    "popu_range_y"
   ]
  },
  {
   "cell_type": "code",
   "execution_count": 13,
   "metadata": {},
   "outputs": [
    {
     "name": "stdout",
     "output_type": "stream",
     "text": [
      "max y: 10.58925243952102\n",
      "min y: -1.004100360593079\n",
      "max x: 12.2670245277286\n",
      "min x: -1.458402520742969\n"
     ]
    }
   ],
   "source": [
    "maxy=df_['y'].max()\n",
    "miny=df_['y'].min()\n",
    "print('max y: {}'.format(maxy))\n",
    "print('min y: {}'.format(miny))\n",
    "maxx=df_['x'].max()\n",
    "minx=df_['x'].min()\n",
    "print('max x: {}'.format(maxx))\n",
    "print('min x: {}'.format(minx))"
   ]
  },
  {
   "cell_type": "code",
   "execution_count": 14,
   "metadata": {},
   "outputs": [
    {
     "data": {
      "text/html": [
       "<div>\n",
       "<style scoped>\n",
       "    .dataframe tbody tr th:only-of-type {\n",
       "        vertical-align: middle;\n",
       "    }\n",
       "\n",
       "    .dataframe tbody tr th {\n",
       "        vertical-align: top;\n",
       "    }\n",
       "\n",
       "    .dataframe thead th {\n",
       "        text-align: right;\n",
       "    }\n",
       "</style>\n",
       "<table border=\"1\" class=\"dataframe\">\n",
       "  <thead>\n",
       "    <tr style=\"text-align: right;\">\n",
       "      <th></th>\n",
       "      <th>x</th>\n",
       "      <th>y</th>\n",
       "    </tr>\n",
       "  </thead>\n",
       "  <tbody>\n",
       "    <tr>\n",
       "      <th>0.10</th>\n",
       "      <td>3.435130</td>\n",
       "      <td>3.284788</td>\n",
       "    </tr>\n",
       "    <tr>\n",
       "      <th>0.25</th>\n",
       "      <td>4.318981</td>\n",
       "      <td>4.218101</td>\n",
       "    </tr>\n",
       "    <tr>\n",
       "      <th>0.50</th>\n",
       "      <td>5.054875</td>\n",
       "      <td>4.978847</td>\n",
       "    </tr>\n",
       "    <tr>\n",
       "      <th>0.75</th>\n",
       "      <td>5.891603</td>\n",
       "      <td>5.782668</td>\n",
       "    </tr>\n",
       "    <tr>\n",
       "      <th>0.90</th>\n",
       "      <td>6.533381</td>\n",
       "      <td>6.592286</td>\n",
       "    </tr>\n",
       "    <tr>\n",
       "      <th>1.00</th>\n",
       "      <td>12.267025</td>\n",
       "      <td>10.589252</td>\n",
       "    </tr>\n",
       "  </tbody>\n",
       "</table>\n",
       "</div>"
      ],
      "text/plain": [
       "              x          y\n",
       "0.10   3.435130   3.284788\n",
       "0.25   4.318981   4.218101\n",
       "0.50   5.054875   4.978847\n",
       "0.75   5.891603   5.782668\n",
       "0.90   6.533381   6.592286\n",
       "1.00  12.267025  10.589252"
      ]
     },
     "execution_count": 14,
     "metadata": {},
     "output_type": "execute_result"
    }
   ],
   "source": [
    "#percentile calculation\n",
    "df_.quantile([0.10, 0.25, 0.5, 0.75,0.90, 1], axis=0)"
   ]
  },
  {
   "cell_type": "code",
   "execution_count": 15,
   "metadata": {},
   "outputs": [
    {
     "data": {
      "text/plain": [
       "Text(0.5, 1.0, 'Boxplot of Y')"
      ]
     },
     "execution_count": 15,
     "metadata": {},
     "output_type": "execute_result"
    },
    {
     "data": {
      "image/png": "[encoded data removed]",
      "text/plain": [
       "<Figure size 1200x400 with 2 Axes>"
      ]
     },
     "metadata": {},
     "output_type": "display_data"
    }
   ],
   "source": [
    "#Quartile distribution using boxplot\n",
    "plt.figure(figsize=(12,4))\n",
    "plt.subplot(1,2,1)\n",
    "plt.boxplot(df_['x'])\n",
    "plt.xlabel('X')\n",
    "plt.title(\"Boxplot of X\")\n",
    "plt.subplot(1,2,2)\n",
    "plt.boxplot(df_['y'])\n",
    "plt.xlabel('Y')\n",
    "plt.title(\"Boxplot of Y\")"
   ]
  },
  {
   "cell_type": "code",
   "execution_count": 16,
   "metadata": {},
   "outputs": [
    {
     "data": {
      "text/plain": [
       "Text(0.5, 1.0, 'Distribution of y')"
      ]
     },
     "execution_count": 16,
     "metadata": {},
     "output_type": "execute_result"
    },
    {
     "data": {
      "image/png": "[encoded data removed]",
      "text/plain": [
       "<Figure size 1200x400 with 2 Axes>"
      ]
     },
     "metadata": {},
     "output_type": "display_data"
    }
   ],
   "source": [
    "#Visualizing histogram distribution of dataset\n",
    "\n",
    "plt.figure(figsize=(12,4))   \n",
    "plt.subplot(1,2,1)\n",
    "df_['x'].plot.hist(bins=50, alpha= 0.5, color='orange' )\n",
    "plt.title('Distribution of x')\n",
    "plt.xlabel('x')\n",
    "\n",
    "\n",
    "plt.subplot(1,2,2)\n",
    "df_['y'].plot.hist(bins=50, alpha= 0.5, color='purple' )\n",
    "plt.xlabel('y')\n",
    "plt.title('Distribution of y')"
   ]
  },
  {
   "cell_type": "markdown",
   "metadata": {},
   "source": [
    "# Skewness"
   ]
  },
  {
   "cell_type": "markdown",
   "metadata": {},
   "source": [
    "<img src = skewness.png>"
   ]
  },
  {
   "cell_type": "code",
   "execution_count": 17,
   "metadata": {},
   "outputs": [
    {
     "data": {
      "text/plain": [
       "x    0.041523\n",
       "y   -0.082802\n",
       "dtype: float64"
      ]
     },
     "execution_count": 17,
     "metadata": {},
     "output_type": "execute_result"
    }
   ],
   "source": [
    "#calculating skewness\n",
    "df_.skew()"
   ]
  },
  {
   "cell_type": "markdown",
   "metadata": {},
   "source": [
    "# Kurtosis"
   ]
  },
  {
   "cell_type": "markdown",
   "metadata": {},
   "source": [
    "<img src = kurtosis.jpg>"
   ]
  },
  {
   "cell_type": "code",
   "execution_count": 18,
   "metadata": {},
   "outputs": [
    {
     "data": {
      "text/plain": [
       "x    3.346334\n",
       "y    2.454247\n",
       "dtype: float64"
      ]
     },
     "execution_count": 18,
     "metadata": {},
     "output_type": "execute_result"
    }
   ],
   "source": [
    "#Calculating kurtosis\n",
    "df_.kurt()"
   ]
  },
  {
   "cell_type": "code",
   "execution_count": null,
   "metadata": {},
   "outputs": [],
   "source": []
  },
  {
   "cell_type": "markdown",
   "metadata": {},
   "source": [
    "# Grouped Data"
   ]
  },
  {
   "cell_type": "code",
   "execution_count": 19,
   "metadata": {},
   "outputs": [],
   "source": [
    "#grp = pd.DataFrame({'Min':[4.1, 4.6, 5.1, 5.6, 6.1, 6.6], 'Max':[4.5,5.0,5.5,6.0,6.5,7.0], 'frequency' :[8, 4, 10, 6, 7, 5]}, index = '1 2 3 4 5 6'.split())"
   ]
  },
  {
   "cell_type": "code",
   "execution_count": 20,
   "metadata": {},
   "outputs": [],
   "source": [
    "#grp"
   ]
  },
  {
   "cell_type": "code",
   "execution_count": 21,
   "metadata": {},
   "outputs": [],
   "source": [
    "#grp['mid point'] = (grp['Min']+grp['Max'])/2\n",
    "#grp['Cumulative Frequency'] = grp['frequency'].cumsum()"
   ]
  },
  {
   "cell_type": "code",
   "execution_count": 22,
   "metadata": {},
   "outputs": [],
   "source": [
    "#grp"
   ]
  },
  {
   "cell_type": "code",
   "execution_count": 23,
   "metadata": {},
   "outputs": [],
   "source": [
    "#calculating mean \n",
    "\n",
    "#mean = ((grp['frequency']*grp['mid point']).sum(axis=0))/(grp['frequency'].sum(axis=0))"
   ]
  },
  {
   "cell_type": "code",
   "execution_count": 24,
   "metadata": {},
   "outputs": [
    {
     "ename": "NameError",
     "evalue": "name 'mean' is not defined",
     "output_type": "error",
     "traceback": [
      "\u001b[0;31m---------------------------------------------------------------------------\u001b[0m",
      "\u001b[0;31mNameError\u001b[0m                                 Traceback (most recent call last)",
      "Cell \u001b[0;32mIn[24], line 1\u001b[0m\n\u001b[0;32m----> 1\u001b[0m \u001b[43mmean\u001b[49m\n",
      "\u001b[0;31mNameError\u001b[0m: name 'mean' is not defined"
     ]
    }
   ],
   "source": [
    "mean"
   ]
  },
  {
   "cell_type": "code",
   "execution_count": null,
   "metadata": {},
   "outputs": [],
   "source": [
    "#calculating median\n",
    "#L = grp[grp['Cumulative Frequency']== 22]['Min']\n",
    "#n_2 = grp['frequency'].sum(axis=0)/2\n",
    "#f = grp[grp['Cumulative Frequency']== 22]['frequency']\n",
    "#c = 12\n",
    "#h = 0.5\n",
    "#median = ((n_2 - c)*h/f)+L\n",
    "#print('Median is {}'.format(median.values))"
   ]
  },
  {
   "cell_type": "markdown",
   "metadata": {},
   "source": [
    "# Outliers Detection"
   ]
  },
  {
   "cell_type": "markdown",
   "metadata": {},
   "source": [
    "## Standard Deviation Approach"
   ]
  },
  {
   "cell_type": "code",
   "execution_count": null,
   "metadata": {},
   "outputs": [],
   "source": [
    "x_arr= np.array(df_['x'])   #converting to array "
   ]
  },
  {
   "cell_type": "code",
   "execution_count": null,
   "metadata": {},
   "outputs": [],
   "source": [
    "def outliers(k):\n",
    "\n",
    "    outlier=[]\n",
    "\n",
    "    for i in range(0,500):\n",
    "        diff= (abs(x_arr[i]- np.mean(df_['x'])))/ np.std(df_['x'])\n",
    "        \n",
    "        if diff > k:\n",
    "            outlier.append(x_arr[i])\n",
    "            \n",
    "    print('Number of outliers in x: ',len(outlier))\n",
    "    ser= pd.Series(outlier, index=range(1,len(outlier)+1))\n",
    "    \n",
    "    ol=[]\n",
    "    \n",
    "    for i in range(0,500):\n",
    "        if x_arr[i] in outlier:\n",
    "            ol.append('1')\n",
    "        else:\n",
    "            ol.append('0')\n",
    "            \n",
    "    df_['outliers']=ol\n",
    "    sns.scatterplot(x='x',y='y',data=df_, hue='outliers')"
   ]
  },
  {
   "cell_type": "code",
   "execution_count": null,
   "metadata": {},
   "outputs": [],
   "source": [
    "k1 = outliers(1)  #For normally distributed data, k=1 represents 68.27% of the data"
   ]
  },
  {
   "cell_type": "code",
   "execution_count": null,
   "metadata": {},
   "outputs": [],
   "source": [
    "k2 = outliers(2)   #For normally distributed data, k=2 represents 95.45% of the data"
   ]
  },
  {
   "cell_type": "code",
   "execution_count": null,
   "metadata": {},
   "outputs": [],
   "source": [
    "k3 = outliers(3)    #For normally distributed data, k=3 represents 99.73% of the data\n"
   ]
  },
  {
   "cell_type": "markdown",
   "metadata": {},
   "source": [
    "### Median Absolute Deviation (MAD) approach"
   ]
  },
  {
   "cell_type": "code",
   "execution_count": null,
   "metadata": {},
   "outputs": [],
   "source": [
    "\n",
    "# Outliers using MAD approach\n",
    "\n",
    "out=[]\n",
    "count = 0\n",
    "X = df_.iloc[:,0]  #extracting x-values\n",
    "M = df_['x'].median()    #median of X\n",
    "z= abs(X-M)\n",
    "MAD= z.median()\n",
    "for i in range(0,500):\n",
    "    Zm= 0.6745*(X[i]-M)/MAD\n",
    "    if Zm>3 or Zm<-3:\n",
    "        out.append('1')\n",
    "        count += 1\n",
    "    else:\n",
    "        out.append('0')      \n",
    "df_['outliers']=out\n",
    "print ('No. of outliers are: ', count)\n",
    "sns.scatterplot(x='x',y='y',data=df_,hue='outliers')\n",
    "\n",
    "        \n"
   ]
  },
  {
   "cell_type": "markdown",
   "metadata": {},
   "source": [
    "## Interquartile Approach"
   ]
  },
  {
   "cell_type": "code",
   "execution_count": null,
   "metadata": {},
   "outputs": [],
   "source": [
    "outliers = []\n",
    "count = 0\n",
    "iqr = df_['x'].quantile(0.75) - df_['x'].quantile(0.25)\n",
    "a = df_['x'].quantile(0.75) + (1.5 * iqr)\n",
    "b = df_['x'].quantile(0.25) - (1.5 * iqr)\n",
    "for i in range(0,500):\n",
    "    Zm= df_.iloc[i,0]\n",
    "    if Zm>a or Zm<b:\n",
    "        outliers.append('1')\n",
    "        count += 1\n",
    "    else:\n",
    "        outliers.append('0')      \n",
    "df_['outliers']=outliers\n",
    "print ('No. of outliers are: ', count)\n",
    "sns.scatterplot(x='x',y='y',data=df_,hue='outliers')\n",
    "\n"
   ]
  },
  {
   "cell_type": "markdown",
   "metadata": {},
   "source": [
    "# Expectation"
   ]
  },
  {
   "cell_type": "code",
   "execution_count": null,
   "metadata": {},
   "outputs": [],
   "source": [
    "##given\n",
    "x = [0, 1, 2, 3, 4]\n",
    "l = print(len(x))\n",
    "p = [0.008, 0.076, 0.265, 0.411, 0.240]\n",
    "e1= []\n",
    "for i in range(len(x)):\n",
    "    e2= x[i]*p[i]\n",
    "    e1.append(e2)\n",
    "Expected_value = sum(e1)\n",
    "print('expectation is', Expected_value)"
   ]
  },
  {
   "cell_type": "code",
   "execution_count": null,
   "metadata": {},
   "outputs": [],
   "source": [
    "#expectation of rolling a dice N times\n",
    "\n",
    "N = 100 ##no.. of trials-1\n",
    "roll = np.zeros(N)\n",
    "\n",
    "for i in range(N):\n",
    "    roll[i] = np.random.randint(1, 7) #filling up the sample space\n",
    "  #  print(roll)\n",
    "expectation = np.zeros(N)\n",
    "\n",
    "for i in range(1, N):\n",
    "    expectation[i] = np.mean(roll[0:i])\n",
    "  #  print(expectation)\n",
    "\n",
    "\n",
    "expected_value = np.mean(expectation)\n",
    "\n",
    "print(\"Expectation is \", expected_value)\n",
    "plt.plot(expectation)\n",
    "plt.title(\"Expectation of the dice roll\")\n",
    "plt.xlabel(\"Number of Trials\")\n",
    "plt.ylabel(\"Expectation\")\n",
    "plt.show()"
   ]
  },
  {
   "cell_type": "code",
   "execution_count": null,
   "metadata": {},
   "outputs": [],
   "source": [
    "import scipy as sc"
   ]
  },
  {
   "cell_type": "code",
   "execution_count": null,
   "metadata": {},
   "outputs": [],
   "source": [
    "dice = sc.stats.randint(1,7)"
   ]
  },
  {
   "cell_type": "code",
   "execution_count": null,
   "metadata": {},
   "outputs": [],
   "source": [
    "dice.pmf(4) #probability of getting 4 when we roll a dice"
   ]
  },
  {
   "cell_type": "code",
   "execution_count": null,
   "metadata": {},
   "outputs": [],
   "source": [
    "dice.cdf(5)  #probability of getting a number less than or equal to 5"
   ]
  },
  {
   "cell_type": "markdown",
   "metadata": {},
   "source": [
    "# Covariance"
   ]
  },
  {
   "cell_type": "markdown",
   "metadata": {},
   "source": [
    "<img src = covariance.png>"
   ]
  },
  {
   "cell_type": "code",
   "execution_count": null,
   "metadata": {},
   "outputs": [],
   "source": [
    "#covariance between values\n",
    "\n",
    "data = {'A': [45,37,42,35,39],\n",
    "        'B': [38,31,26,28,33],\n",
    "        'C': [10,15,17,21,12]\n",
    "        }\n",
    "\n",
    "df = pd.DataFrame(data,columns=['A','B','C'])\n",
    "\n",
    "covMatrix = df.cov()\n",
    "sns.heatmap(covMatrix, annot=True, fmt='g')\n"
   ]
  },
  {
   "cell_type": "code",
   "execution_count": null,
   "metadata": {},
   "outputs": [],
   "source": [
    "A = [45,37,42,35,39]\n",
    "B = [38,31,26,28,33]\n",
    "C = [10,15,17,21,12]\n",
    "\n",
    "data = np.array([A,B,C])\n",
    "\n",
    "covMatrix = np.cov(data)\n",
    "print (covMatrix)"
   ]
  },
  {
   "cell_type": "markdown",
   "metadata": {},
   "source": [
    "# Correlation"
   ]
  },
  {
   "cell_type": "code",
   "execution_count": null,
   "metadata": {
    "scrolled": true
   },
   "outputs": [],
   "source": [
    "data = {'A': [45,37,42,35,39],\n",
    "        'B': [38,31,26,28,33],\n",
    "        'C': [10,15,17,21,12]\n",
    "        }\n",
    "\n",
    "df = pd.DataFrame(data,columns=['A','B','C'])\n",
    "\n",
    "corrMatrix = df.corr()\n",
    "\n",
    "print (corrMatrix)\n",
    "\n",
    "sns.heatmap(corrMatrix, annot=True)\n",
    "plt.show()"
   ]
  },
  {
   "cell_type": "markdown",
   "metadata": {},
   "source": [
    "## Draw the samples from distribution "
   ]
  },
  {
   "cell_type": "code",
   "execution_count": null,
   "metadata": {},
   "outputs": [],
   "source": [
    "##Normal Distribution using scipy library\n",
    "## reference: https://docs.scipy.org/doc/scipy/reference/generated/scipy.stats.norm.html#:~:text=The%20location%20%28%20loc%29%20keyword%20specifies%20the%20mean.,them%20with%20details%20specific%20for%20this%20particular%20distribution.\n",
    "from scipy.stats import norm\n",
    "import matplotlib.pyplot as pyplot\n",
    "from scipy.stats import norm\n",
    "import pandas as pd\n",
    "import numpy as np\n",
    "\n",
    "\n",
    "#Norm_Dist= norm(loc=3, scale=5) # loc is mean, scale is standard deviation\n",
    "\n"
   ]
  },
  {
   "cell_type": "code",
   "execution_count": null,
   "metadata": {},
   "outputs": [],
   "source": [
    "# Let's draw 50 samples from it and arrange as a 4 by 5 array\n",
    "#N_Dist = Norm_Dist.rvs(size=(1000)) # size will return the desired output shape or size\n",
    "N_Dist = np.random.normal(loc=0.0, scale=1.0, size=100000)   # loc is mean, scale is standard deviation, size = output size\n",
    "\n",
    "\n",
    "print(\"Samples from a Normal Distribution:\", N_Dist)\n",
    "pyplot.hist(N_Dist,color='purple')"
   ]
  },
  {
   "cell_type": "code",
   "execution_count": null,
   "metadata": {},
   "outputs": [],
   "source": [
    "## T Distribution using scipy stats\n",
    "from scipy.stats import t\n",
    "#T_Dist = t.rvs(df = 10,  size=1000) #df - no. of independent observations in a set of data, degree of freedom\n",
    "T_D = np.random.standard_t(10, size=1000) ##1st argument is dof, 2nd is sample size\n",
    "print(\"samples from T Distribution using scipy stats library are: \", T_D)\n",
    "pyplot.hist(T_D,color='purple')"
   ]
  },
  {
   "cell_type": "code",
   "execution_count": null,
   "metadata": {},
   "outputs": [],
   "source": [
    "##F distribution using scipy library\n",
    "from scipy.stats import f\n",
    "#F_Dist = f.rvs(dfn=10, dfd=20,loc=0, scale=1, size=1000) # dfn, dof for numertaor\n",
    "## F Distribution  ---numpy.random.f(dfnum, dfden, size=None), dfnum = dof in numerator\n",
    "#Draw samples from an F distribution.\n",
    "F_Dist = np.random.f(dfnum = 3, dfden = 2, size=100) # using numpy library\n",
    "#print(\"samples from F Distribution using scipy stats library are: \", F_Dist)\n",
    "pyplot.hist(F_Dist,color='purple')"
   ]
  },
  {
   "cell_type": "code",
   "execution_count": null,
   "metadata": {},
   "outputs": [],
   "source": [
    "##Gamma Distribution\n",
    "Gamma_D = np.random.gamma(shape=2, scale = 1, size = 1000) # shape is mean, scale is width\n",
    "print(\"samples from Gamma Distribution are: \", Gamma_D)\n",
    "pyplot.hist(Gamma_D,color='purple')"
   ]
  },
  {
   "cell_type": "markdown",
   "metadata": {},
   "source": [
    "## Central limit theorem \n",
    "\n",
    "## Running the example generates and prints the sample of 50 die rolls and the mean value of the sample.\n",
    "\n"
   ]
  },
  {
   "cell_type": "code",
   "execution_count": null,
   "metadata": {},
   "outputs": [],
   "source": [
    "# generate random dice rolls\n",
    "from numpy.random import seed\n",
    "from numpy.random import randint\n",
    "from numpy import mean\n",
    "# seed the random number generator\n",
    "seed(1)\n",
    "# generate a sample of die rolls\n",
    "rolls = randint(1, 7, 50)\n",
    "print(rolls)\n",
    "print(mean(rolls))"
   ]
  },
  {
   "cell_type": "code",
   "execution_count": null,
   "metadata": {
    "scrolled": true
   },
   "outputs": [],
   "source": [
    "# demonstration of the central limit theorem\n",
    "from numpy.random import seed\n",
    "from numpy.random import randint\n",
    "from numpy import mean\n",
    "from matplotlib import pyplot\n",
    "# seed the random number generator\n",
    "seed(1)\n",
    "# calculate the mean of 50 dice rolls X times\n",
    "means1 = [mean(randint(1, 7, 50)) for _ in range(10)]\n",
    "means2 = [mean(randint(1, 7, 50)) for _ in range(50)]\n",
    "means3 = [mean(randint(1, 7, 50)) for _ in range(100)]\n",
    "means4 = [mean(randint(1, 7, 50)) for _ in range(500)]\n",
    "means5 = [mean(randint(1, 7, 50)) for _ in range(2000)]\n",
    "\n",
    "\n",
    "\n",
    "# plot the distribution of sample means\n",
    "\n",
    "pyplot.hist(means5,color='purple')\n",
    "pyplot.hist(means4,color='blue')\n",
    "pyplot.hist(means3,color='green')\n",
    "pyplot.hist(means2,color='red')\n",
    "pyplot.hist(means1,color='orange')\n",
    "pyplot.show()"
   ]
  },
  {
   "cell_type": "code",
   "execution_count": null,
   "metadata": {},
   "outputs": [],
   "source": [
    "#SMOTE\n",
    "# !pip install -U imbalanced-learn\n",
    "\n",
    "# check version number\n",
    "import imblearn\n",
    "# print(imblearn.__version__)"
   ]
  },
  {
   "cell_type": "code",
   "execution_count": null,
   "metadata": {},
   "outputs": [],
   "source": [
    "## OVERSAMPLING"
   ]
  },
  {
   "cell_type": "code",
   "execution_count": null,
   "metadata": {},
   "outputs": [],
   "source": [
    "import imblearn"
   ]
  },
  {
   "cell_type": "code",
   "execution_count": null,
   "metadata": {},
   "outputs": [],
   "source": [
    "# Generate and plot a synthetic imbalanced classification dataset\n",
    "from collections import Counter\n",
    "from sklearn.datasets import make_classification\n",
    "from imblearn.over_sampling import SMOTE\n",
    "from imblearn.under_sampling import RandomUnderSampler\n",
    "from imblearn.pipeline import Pipeline\n",
    "from matplotlib import pyplot\n",
    "from numpy import where\n",
    "# define dataset\n",
    "X, y = make_classification(n_samples=900, n_features=2, n_redundant=0,\n",
    " n_clusters_per_class=2, weights=[0.99], flip_y=0, random_state=10)\n",
    "# summarize class distribution\n",
    "counter = Counter(y)\n",
    "print(counter)\n",
    "# scatter plot of examples by class label\n",
    "for label, _ in counter.items():\n",
    " row_ix = where(y == label)[0]\n",
    " pyplot.scatter(X[row_ix, 0], X[row_ix, 1], label=str(label))\n",
    "pyplot.legend()\n",
    "pyplot.show()\n",
    "# summarize class distribution\n",
    "counter = Counter(y)\n",
    "print(counter)"
   ]
  },
  {
   "cell_type": "code",
   "execution_count": null,
   "metadata": {},
   "outputs": [],
   "source": [
    "#SMOTE"
   ]
  },
  {
   "cell_type": "code",
   "execution_count": null,
   "metadata": {},
   "outputs": [],
   "source": [
    "# transform the dataset\n",
    "oversample = SMOTE()\n",
    "X, y = oversample.fit_resample(X, y)\n",
    "# summarize the new class distribution\n",
    "counter = Counter(y)\n",
    "print(counter)\n",
    "# scatter plot of examples by class label\n",
    "for label, _ in counter.items():\n",
    " row_ix = where(y == label)[0]\n",
    " pyplot.scatter(X[row_ix, 0], X[row_ix, 1], label=str(label))\n",
    "pyplot.legend()\n",
    "pyplot.show()"
   ]
  },
  {
   "cell_type": "code",
   "execution_count": null,
   "metadata": {},
   "outputs": [],
   "source": [
    "# Adasyn"
   ]
  },
  {
   "cell_type": "code",
   "execution_count": null,
   "metadata": {},
   "outputs": [],
   "source": [
    "from imblearn.over_sampling import ADASYN\n",
    "# summarize class distribution\n",
    "counter = Counter(y)\n",
    "print(counter)\n",
    "# transform the dataset\n",
    "oversample = ADASYN()\n",
    "X, y = oversample.fit_resample(X, y)\n",
    "# summarize the new class distribution\n",
    "counter = Counter(y)\n",
    "print(counter)\n",
    "# scatter plot of examples by class label\n",
    "for label, _ in counter.items():\n",
    " row_ix = where(y == label)[0]\n",
    " pyplot.scatter(X[row_ix, 0], X[row_ix, 1], label=str(label))\n",
    "pyplot.legend()\n",
    "pyplot.show()"
   ]
  },
  {
   "cell_type": "code",
   "execution_count": null,
   "metadata": {},
   "outputs": [],
   "source": [
    "                                                                                                                                                                                                                                                                                                                                                                                                                                                                                                                                                                                                                                                                                                                "
   ]
  },
  {
   "cell_type": "code",
   "execution_count": null,
   "metadata": {},
   "outputs": [],
   "source": []
  },
  {
   "cell_type": "code",
   "execution_count": null,
   "metadata": {},
   "outputs": [],
   "source": []
  },
  {
   "cell_type": "code",
   "execution_count": null,
   "metadata": {},
   "outputs": [],
   "source": []
  },
  {
   "cell_type": "code",
   "execution_count": null,
   "metadata": {},
   "outputs": [],
   "source": []
  },
  {
   "cell_type": "code",
   "execution_count": null,
   "metadata": {},
   "outputs": [],
   "source": []
  }
 ],
 "metadata": {
  "kernelspec": {
   "display_name": "Python 3 (ipykernel)",
   "language": "python",
   "name": "python3"
  },
  "language_info": {
   "codemirror_mode": {
    "name": "ipython",
    "version": 3
   },
   "file_extension": ".py",
   "mimetype": "text/x-python",
   "name": "python",
   "nbconvert_exporter": "python",
   "pygments_lexer": "ipython3",
   "version": "3.12.2"
  }
 },
 "nbformat": 4,
 "nbformat_minor": 4
}
