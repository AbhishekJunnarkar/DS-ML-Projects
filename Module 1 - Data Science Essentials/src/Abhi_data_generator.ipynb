{
 "cells": [
  {
   "cell_type": "code",
   "execution_count": 2,
   "id": "3abe159a-4026-4296-97e4-ccdf81304ce2",
   "metadata": {},
   "outputs": [
    {
     "name": "stdout",
     "output_type": "stream",
     "text": [
      "Creating new file: 'data_abhi1.xlsx'\n",
      "Excel file 'data_abhi1.xlsx' has been created successfully!\n"
     ]
    }
   ],
   "source": [
    "import pandas as pd\n",
    "import numpy as np\n",
    "import os\n",
    "\n",
    "# 1. Define the file\n",
    "file_name = \"data_abhi1.xlsx\"\n",
    "\n",
    "# 2. Define the number of rows\n",
    "num_rows = 500\n",
    "\n",
    "# 3. Generate random statistical data\n",
    "data = {\n",
    "    \"ID\": range(1, num_rows + 1),\n",
    "    \"Age\": np.random.randint(18, 60, num_rows),  # Random ages between 18 and 60\n",
    "    \"Height (cm)\": np.random.randint(150, 200, num_rows),  # Random heights\n",
    "    \"Weight (kg)\": np.random.randint(50, 100, num_rows),  # Random weights\n",
    "    \"Score\": np.random.uniform(50, 100, num_rows).round(2),  # Random scores\n",
    "}\n",
    "\n",
    "# 4. Create a DataFrame\n",
    "df = pd.DataFrame(data)\n",
    "\n",
    "# 5. Check if the file exists\n",
    "if os.path.exists(file_name):\n",
    "    print(f\"File '{file_name}' already exists. Truncating and rewriting...\")\n",
    "else:\n",
    "    print(f\"Creating new file: '{file_name}'\")\n",
    "    \n",
    "# 6. Save to an Excel file\n",
    "df.to_excel(file_name, index=False)\n",
    "\n",
    "print(f\"Excel file '{file_name}' has been created successfully!\")\n"
   ]
  },
  {
   "cell_type": "code",
   "execution_count": null,
   "id": "50e28b16-45f3-49cc-b831-3adf876871ee",
   "metadata": {},
   "outputs": [],
   "source": []
  }
 ],
 "metadata": {
  "kernelspec": {
   "display_name": "Python 3 (ipykernel)",
   "language": "python",
   "name": "python3"
  },
  "language_info": {
   "codemirror_mode": {
    "name": "ipython",
    "version": 3
   },
   "file_extension": ".py",
   "mimetype": "text/x-python",
   "name": "python",
   "nbconvert_exporter": "python",
   "pygments_lexer": "ipython3",
   "version": "3.12.2"
  }
 },
 "nbformat": 4,
 "nbformat_minor": 5
}
