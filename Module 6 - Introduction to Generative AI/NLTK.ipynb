{
 "cells": [
  {
   "cell_type": "code",
   "execution_count": 20,
   "id": "4408c662",
   "metadata": {
    "scrolled": true
   },
   "outputs": [],
   "source": [
    "import nltk\n",
    "#nltk.download('punkt')\n",
    "#nltk.download('stopwords')\n",
    "#nltk.download('wordnet')\n",
    "#nltk.download('averaged_perceptron_tagger')\n",
    "#nltk.download('omw-1.4')\n",
    "#nltk.download('vader_lexicon')"
   ]
  },
  {
   "cell_type": "markdown",
   "id": "33db4c45",
   "metadata": {},
   "source": [
    "# Tokenization"
   ]
  },
  {
   "cell_type": "code",
   "execution_count": 23,
   "id": "731d8d28-cd3a-4b3b-95fd-4d4cbe458321",
   "metadata": {},
   "outputs": [],
   "source": [
    "#!pip install nltk\n",
    "import nltk"
   ]
  },
  {
   "cell_type": "code",
   "execution_count": 27,
   "id": "71e0d24b",
   "metadata": {},
   "outputs": [
    {
     "name": "stdout",
     "output_type": "stream",
     "text": [
      "['Wow, Natural language processing is an exciting area.', 'Huge budget have been allocated for this.']\n",
      "['Wow', ',', 'Natural', 'language', 'processing', 'is', 'an', 'exciting', 'area', '.', 'Huge', 'budget', 'have', 'been', 'allocated', 'for', 'this', '.']\n"
     ]
    }
   ],
   "source": [
    "# tokenizing involves splitting sentences and words from the body of the text\n",
    "\n",
    "from nltk.tokenize import sent_tokenize, word_tokenize\n",
    "\n",
    "text = \"Wow, Natural language processing is an exciting area. Huge budget have been allocated for this.\"\n",
    "\n",
    "print(sent_tokenize(text))\n",
    "print(word_tokenize(text))"
   ]
  },
  {
   "cell_type": "markdown",
   "id": "9a3376bf",
   "metadata": {},
   "source": [
    "# Stop Words removal"
   ]
  },
  {
   "cell_type": "code",
   "execution_count": 30,
   "id": "cb199f0e",
   "metadata": {},
   "outputs": [
    {
     "name": "stdout",
     "output_type": "stream",
     "text": [
      "['Wow,', 'Natural', 'language', 'processing', 'exciting', 'area.', 'Huge', 'budget', 'allocated', 'this.']\n"
     ]
    }
   ],
   "source": [
    "# Removes top words like the, he, her etc\n",
    "\n",
    "from nltk.corpus import stopwords\n",
    "words = text.split()\n",
    "words = [w for w in words if w not in stopwords.words('english')]\n",
    "print(words)"
   ]
  },
  {
   "cell_type": "markdown",
   "id": "88af3cf1",
   "metadata": {},
   "source": [
    "# Stemming"
   ]
  },
  {
   "cell_type": "code",
   "execution_count": 33,
   "id": "96272c25",
   "metadata": {
    "scrolled": true
   },
   "outputs": [
    {
     "name": "stdout",
     "output_type": "stream",
     "text": [
      "Stemmed words: ['wow,', 'natur', 'languag', 'process', 'excit', 'area.', 'huge', 'budget', 'alloc', 'this.']\n"
     ]
    }
   ],
   "source": [
    "# Eliminates prefixes and suffixes from words, transforming them into their fundamental or root form\n",
    "\n",
    "from nltk.stem import PorterStemmer\n",
    "porter_stemmer = PorterStemmer()\n",
    "stemmed_words = [porter_stemmer.stem(word) for word in words]\n",
    "print(\"Stemmed words:\", stemmed_words)"
   ]
  },
  {
   "cell_type": "markdown",
   "id": "f62ec990",
   "metadata": {},
   "source": [
    "# Lemmatization"
   ]
  },
  {
   "cell_type": "code",
   "execution_count": 35,
   "id": "ff801200",
   "metadata": {},
   "outputs": [
    {
     "name": "stdout",
     "output_type": "stream",
     "text": [
      "lemmatized words: ['Wow,', 'Natural', 'language', 'processing', 'exciting', 'area.', 'Huge', 'budget', 'allocated', 'this.']\n"
     ]
    }
   ],
   "source": [
    "# Process of reducing a word to its base or dictionary form\n",
    "\n",
    "from nltk.stem import WordNetLemmatizer\n",
    "from nltk.corpus import wordnet\n",
    "lemmatizer = WordNetLemmatizer()\n",
    "lemmatized_words = [lemmatizer.lemmatize(word) for word in words]\n",
    "print(\"lemmatized words:\", lemmatized_words)"
   ]
  },
  {
   "cell_type": "code",
   "execution_count": 37,
   "id": "b0fa3a32",
   "metadata": {},
   "outputs": [
    {
     "name": "stdout",
     "output_type": "stream",
     "text": [
      "Original: The, Lemmatized: The\n",
      "Original: striped, Lemmatized: striped\n",
      "Original: cat, Lemmatized: cat\n",
      "Original: jumped, Lemmatized: jump\n",
      "Original: over, Lemmatized: over\n",
      "Original: the, Lemmatized: the\n",
      "Original: fence, Lemmatized: fence\n"
     ]
    }
   ],
   "source": [
    "\n",
    "\n",
    "# Example sentence\n",
    "sentence = \"The striped cat jumped over the fence\"\n",
    "\n",
    "# Tokenize the sentence\n",
    "words = nltk.word_tokenize(sentence)\n",
    "\n",
    "# Get the part of speech for each word\n",
    "pos_tags = nltk.pos_tag(words)\n",
    "\n",
    "# Map POS tag to first character lemmatize() accepts\n",
    "def get_wordnet_pos(tag):\n",
    "    if tag.startswith('J'):\n",
    "        return 'a'  # adjective\n",
    "    elif tag.startswith('V'):\n",
    "        return 'v'  # verb\n",
    "    elif tag.startswith('N'):\n",
    "        return 'n'  # noun\n",
    "    elif tag.startswith('R'):\n",
    "        return 'r'  # adverb\n",
    "    else:\n",
    "        return 'n'  # default to noun\n",
    "\n",
    "# Lemmatize each word with its POS tag\n",
    "lemmatized_words = [lemmatizer.lemmatize(word, get_wordnet_pos(pos)) for word, pos in pos_tags]\n",
    "\n",
    "# Print the original and lemmatized words\n",
    "for original, lemmatized in zip(words, lemmatized_words):\n",
    "    print(f\"Original: {original}, Lemmatized: {lemmatized}\")\n",
    "\n"
   ]
  },
  {
   "cell_type": "markdown",
   "id": "2c744396",
   "metadata": {},
   "source": [
    "# POS tagging"
   ]
  },
  {
   "cell_type": "code",
   "execution_count": 40,
   "id": "75c7e5ad",
   "metadata": {},
   "outputs": [
    {
     "name": "stdout",
     "output_type": "stream",
     "text": [
      "[('The', 'DT'), ('striped', 'JJ'), ('cat', 'NN'), ('jumped', 'VBD'), ('over', 'IN'), ('the', 'DT'), ('fence', 'NN')]\n"
     ]
    }
   ],
   "source": [
    "# Part of Speech tagging is used in text processing to avoid confusion between \n",
    "# two same words that have different meanings\n",
    "\n",
    "tagged = nltk.pos_tag(words)\n",
    "print(tagged)"
   ]
  },
  {
   "cell_type": "code",
   "execution_count": 42,
   "id": "fc2a3251",
   "metadata": {},
   "outputs": [
    {
     "name": "stdout",
     "output_type": "stream",
     "text": [
      "Word: The, POS Tag: DT\n",
      "Word: quick, POS Tag: JJ\n",
      "Word: brown, POS Tag: NN\n",
      "Word: fox, POS Tag: NN\n",
      "Word: jumps, POS Tag: VBZ\n",
      "Word: over, POS Tag: IN\n",
      "Word: the, POS Tag: DT\n",
      "Word: lazy, POS Tag: JJ\n",
      "Word: dog, POS Tag: NN\n"
     ]
    }
   ],
   "source": [
    "\n",
    "\n",
    "# Example sentence\n",
    "sentence = \"The quick brown fox jumps over the lazy dog\"\n",
    "\n",
    "# Tokenize the sentence\n",
    "words = nltk.word_tokenize(sentence)\n",
    "\n",
    "# Perform POS tagging\n",
    "pos_tags = nltk.pos_tag(words)\n",
    "\n",
    "# Print the POS tags\n",
    "for word, tag in pos_tags:\n",
    "    print(f\"Word: {word}, POS Tag: {tag}\")\n"
   ]
  },
  {
   "cell_type": "markdown",
   "id": "f5ad7ec0",
   "metadata": {},
   "source": [
    "## Explanation of some POS tags:\n",
    "\n",
    "# DT: Determiner\n",
    "# JJ: Adjective\n",
    "# NN: Noun, singular or mass\n",
    "# VBZ: Verb, 3rd person singular present\n",
    "# IN: Preposition or subordinating conjunction\n",
    "# This example demonstrates how to tokenize a sentence into words and then tag each word with its corresponding part of speech using NLTK's pos_tag function."
   ]
  },
  {
   "cell_type": "code",
   "execution_count": 26,
   "id": "a8c191f0",
   "metadata": {},
   "outputs": [],
   "source": [
    "#NER"
   ]
  },
  {
   "cell_type": "code",
   "execution_count": 44,
   "id": "7cc25895",
   "metadata": {},
   "outputs": [
    {
     "name": "stdout",
     "output_type": "stream",
     "text": [
      "Entity: Barack, Type: PERSON\n",
      "Entity: Obama, Type: PERSON\n",
      "Entity: Hawaii, Type: GPE\n",
      "Entity: United States, Type: GPE\n"
     ]
    }
   ],
   "source": [
    "import nltk\n",
    "from nltk import ne_chunk, pos_tag, word_tokenize\n",
    "from nltk.tree import Tree\n",
    "\n",
    "# Download necessary data for nltk\n",
    "#nltk.download('maxent_ne_chunker')\n",
    "#nltk.download('words')\n",
    "#nltk.download('averaged_perceptron_tagger')\n",
    "#nltk.download('punkt')\n",
    "\n",
    "# Example sentence\n",
    "sentence = \"Barack Obama was born in Hawaii and served as the 44th President of the United States.\"\n",
    "\n",
    "# Tokenize the sentence\n",
    "words = word_tokenize(sentence)\n",
    "\n",
    "# Perform POS tagging\n",
    "pos_tags = pos_tag(words)\n",
    "\n",
    "# Perform NER\n",
    "named_entities = ne_chunk(pos_tags)\n",
    "\n",
    "# Extract named entities\n",
    "for chunk in named_entities:\n",
    "    if isinstance(chunk, Tree):\n",
    "        entity = \" \".join(c[0] for c in chunk)\n",
    "        entity_type = chunk.label()\n",
    "        print(f\"Entity: {entity}, Type: {entity_type}\")\n",
    "\n"
   ]
  },
  {
   "cell_type": "markdown",
   "id": "26e7e36a",
   "metadata": {},
   "source": [
    "## Explanation of some entity labels:\n",
    "# Entity: Barack Obama, Type: PERSON\n",
    "# Entity: Hawaii, Type: GPE\n",
    "# Entity: United States, Type: GPE"
   ]
  },
  {
   "cell_type": "code",
   "execution_count": null,
   "id": "63f9bff0",
   "metadata": {},
   "outputs": [],
   "source": [
    "# Chunking"
   ]
  },
  {
   "cell_type": "code",
   "execution_count": 30,
   "id": "3be3b28e",
   "metadata": {},
   "outputs": [
    {
     "name": "stdout",
     "output_type": "stream",
     "text": [
      "(S\n",
      "  Mr/NNP\n",
      "  Alok/NNP\n",
      "  (VP is/VBZ)\n",
      "  (VP take/VB (NP a/DT franchise/NN))\n",
      "  of/IN\n",
      "  Apple/NNP\n",
      "  Inc./NNP\n",
      "  (VP is/VBZ)\n",
      "  (VP planning/VBG)\n",
      "  to/TO\n",
      "  (VP open/VB (NP a/DT new/JJ store/NN))\n",
      "  in/IN\n",
      "  Delhi/NNP\n",
      "  on/IN\n",
      "  January/NNP\n",
      "  1/CD\n",
      "  ,/,\n",
      "  2022/CD)\n"
     ]
    },
    {
     "name": "stderr",
     "output_type": "stream",
     "text": [
      "[nltk_data] Downloading package averaged_perceptron_tagger to\n",
      "[nltk_data]     /Users/hariprasadkodamana/nltk_data...\n",
      "[nltk_data]   Package averaged_perceptron_tagger is already up-to-\n",
      "[nltk_data]       date!\n"
     ]
    }
   ],
   "source": [
    "import nltk\n",
    "from nltk import word_tokenize, pos_tag, RegexpParser\n",
    "nltk.download('averaged_perceptron_tagger')\n",
    "\n",
    "# Sample text\n",
    "text = \"Mr Alok is take a franchise of Apple Inc. is planning to open a new store in Delhi on January 1, 2022\"\n",
    "\n",
    "# Tokenize the text\n",
    "tokens = word_tokenize(text)\n",
    "\n",
    "# Part-of-speech tagging\n",
    "pos_tags = pos_tag(tokens)\n",
    "\n",
    "# Define a chunk grammar using regular expressions\n",
    "chunk_grammar = r\"\"\"\n",
    "    NP: {<DT>?<JJ>*<NN>}  # Chunk sequences of determiner, adjectives, and nouns as NP\n",
    "    PP: {<IN><NP>}       # Chunk prepositions followed by NP as PP\n",
    "    VP: {<VB.*><NP|PP>*}  # Chunk verbs followed by NP or PP as VP\n",
    "\"\"\"\n",
    "\n",
    "# Create a chunk parser with the defined grammar\n",
    "chunk_parser = RegexpParser(chunk_grammar)\n",
    "\n",
    "# Apply chunking\n",
    "chunked_result = chunk_parser.parse(pos_tags)\n",
    "\n",
    "# Print the chunked result\n",
    "print(chunked_result)\n"
   ]
  },
  {
   "cell_type": "code",
   "execution_count": null,
   "id": "b7054779",
   "metadata": {},
   "outputs": [],
   "source": []
  },
  {
   "cell_type": "code",
   "execution_count": 33,
   "id": "311c2757",
   "metadata": {},
   "outputs": [],
   "source": [
    "# Sentiment analysis"
   ]
  },
  {
   "cell_type": "code",
   "execution_count": 46,
   "id": "5d8d3a6e",
   "metadata": {},
   "outputs": [
    {
     "data": {
      "text/plain": [
       "{'neg': 0.0, 'neu': 0.482, 'pos': 0.518, 'compound': 0.8957}"
      ]
     },
     "execution_count": 46,
     "metadata": {},
     "output_type": "execute_result"
    }
   ],
   "source": [
    "from nltk.sentiment import SentimentIntensityAnalyzer\n",
    "sia = SentimentIntensityAnalyzer()\n",
    "sia.polarity_scores(\"Wow, Natural language processing is an exciting area. Huge budget have been allocated for this.\")"
   ]
  },
  {
   "cell_type": "code",
   "execution_count": 48,
   "id": "588df3a1",
   "metadata": {},
   "outputs": [],
   "source": [
    "def analyze_sentiment(text):\n",
    "    sia = SentimentIntensityAnalyzer()\n",
    "    sentiment_score = sia.polarity_scores(text)['compound']\n",
    "\n",
    "    if sentiment_score >= 0.05:\n",
    "        return \"Positive\"\n",
    "    elif sentiment_score <= -0.05:\n",
    "        return \"Negative\"\n",
    "    else:\n",
    "        return \"Neutral\""
   ]
  },
  {
   "cell_type": "code",
   "execution_count": 50,
   "id": "9e480054",
   "metadata": {},
   "outputs": [
    {
     "name": "stdout",
     "output_type": "stream",
     "text": [
      "Sentiment: Positive\n"
     ]
    }
   ],
   "source": [
    "sentiment = analyze_sentiment(\"Wow, Natural language processing is an exciting area. Huge budget have been allocated for this.\")\n",
    "print(f\"Sentiment: {sentiment}\")"
   ]
  },
  {
   "cell_type": "code",
   "execution_count": 49,
   "id": "3511153e",
   "metadata": {},
   "outputs": [],
   "source": [
    "# Vectorizing a word'\n",
    "#!pip install gensim\n"
   ]
  },
  {
   "cell_type": "code",
   "execution_count": 63,
   "id": "2e697d63",
   "metadata": {},
   "outputs": [
    {
     "name": "stdout",
     "output_type": "stream",
     "text": [
      "Vector representation of 'exciting': [ 0.07313307  0.05071469  0.0676039   0.00765088  0.06350219 -0.03407759\n",
      " -0.00945148  0.05771925 -0.07524488 -0.03937855]\n"
     ]
    }
   ],
   "source": [
    "from gensim.models import Word2Vec\n",
    "#from nltk.tokenize import word_tokenize\n",
    "#import nltk\n",
    "#nltk.download('punkt')\n",
    "\n",
    "# Sample sentences\n",
    "sentences = [ 'Wow, Natural language processing is an exciting area. Huge budget have been allocated for this.']\n",
    "\n",
    "# Tokenize the sentences into words\n",
    "tokenized_sentences = [word_tokenize(sentence.lower()) for sentence in sentences]\n",
    "\n",
    "# Train the Word2Vec model\n",
    "model = Word2Vec(sentences=tokenized_sentences, vector_size=10, window=2, min_count=1, workers=1)\n",
    "\n",
    "# Save the model (optional)\n",
    "model.save(\"word2vec.model\")\n",
    "\n",
    "# Get the vector representation of a word\n",
    "word_vector = model.wv['exciting']\n",
    "\n",
    "\n",
    "# Print results\n",
    "print(\"Vector representation of 'exciting':\", word_vector)\n"
   ]
  },
  {
   "cell_type": "code",
   "execution_count": null,
   "id": "4034e3c2",
   "metadata": {},
   "outputs": [],
   "source": []
  },
  {
   "cell_type": "code",
   "execution_count": null,
   "id": "873be11e",
   "metadata": {},
   "outputs": [],
   "source": []
  }
 ],
 "metadata": {
  "kernelspec": {
   "display_name": "Python [conda env:tf]",
   "language": "python",
   "name": "conda-env-tf-py"
  },
  "language_info": {
   "codemirror_mode": {
    "name": "ipython",
    "version": 3
   },
   "file_extension": ".py",
   "mimetype": "text/x-python",
   "name": "python",
   "nbconvert_exporter": "python",
   "pygments_lexer": "ipython3",
   "version": "3.11.5"
  }
 },
 "nbformat": 4,
 "nbformat_minor": 5
}
