{
  "nbformat": 4,
  "nbformat_minor": 0,
  "metadata": {
    "colab": {
      "provenance": []
    },
    "kernelspec": {
      "name": "python3",
      "display_name": "Python 3"
    },
    "language_info": {
      "name": "python"
    }
  },
  "cells": [
    {
      "cell_type": "markdown",
      "source": [
        "# Langchain with Google Gemini API\n",
        "\n",
        "* 32K context window for text\n",
        "* Free to use right now, within limits\n",
        "* **Features supported:**\n",
        "  * function calling\n",
        "  * embeddings\n",
        "  * semantic retrieval\n",
        "  * custom knowledge grounding\n",
        "  * chat functionality\n",
        "* Supports 38 languages across 180+ countries\n",
        "* **Gemini Pro** accepts text as input and generates text as output.\n",
        "* **Gemini Pro Vision** takes text and image as input and procdues output as text\n",
        "\n",
        "* **Official Notebook:** https://github.com/google/generative-ai-docs/blob/main/site/en/tutorials/python_quickstart.ipynb\n",
        "* **LangChain-Gemini Documentation:** https://python.langchain.com/docs/integrations/chat/google_generative_ai"
      ],
      "metadata": {
        "id": "UfxW9jnsjwgc"
      }
    },
    {
      "cell_type": "markdown",
      "source": [
        "## Pre-requisites"
      ],
      "metadata": {
        "id": "HEPA05RpajhG"
      }
    },
    {
      "cell_type": "code",
      "execution_count": 1,
      "metadata": {
        "id": "tfJiKuQeaZoC",
        "colab": {
          "base_uri": "https://localhost:8080/"
        },
        "outputId": "88d3d767-a3c4-4674-e1ed-7c0307c486a9"
      },
      "outputs": [
        {
          "output_type": "stream",
          "name": "stdout",
          "text": [
            "\u001b[?25l   \u001b[90m━━━━━━━━━━━━━━━━━━━━━━━━━━━━━━━━━━━━━━━━\u001b[0m \u001b[32m0.0/41.7 kB\u001b[0m \u001b[31m?\u001b[0m eta \u001b[36m-:--:--\u001b[0m\r\u001b[2K   \u001b[90m━━━━━━━━━━━━━━━━━━━━━━━━━━━━━━━━━━━━━━━━\u001b[0m \u001b[32m41.7/41.7 kB\u001b[0m \u001b[31m2.8 MB/s\u001b[0m eta \u001b[36m0:00:00\u001b[0m\n",
            "\u001b[?25h"
          ]
        }
      ],
      "source": [
        "!pip install -q -U google-generativeai langchain-google-genai"
      ]
    },
    {
      "cell_type": "markdown",
      "source": [
        "## Import Libraries"
      ],
      "metadata": {
        "id": "dWhdr7r7azal"
      }
    },
    {
      "cell_type": "code",
      "source": [
        "import pathlib\n",
        "import textwrap\n",
        "import getpass\n",
        "\n",
        "import google.generativeai as genai\n",
        "from langchain_google_genai import ChatGoogleGenerativeAI\n",
        "from langchain.prompts import PromptTemplate\n",
        "from langchain.chains import LLMChain\n",
        "\n",
        "\n",
        "# Used to securely store your API key\n",
        "from google.colab import userdata\n",
        "\n",
        "from IPython.display import display\n",
        "from IPython.display import Markdown\n",
        "\n",
        "\n",
        "def to_markdown(text):\n",
        "  text = text.replace('•', '  *')\n",
        "  return Markdown(textwrap.indent(text, '> ', predicate=lambda _: True))"
      ],
      "metadata": {
        "id": "i-fj-ScLazlh"
      },
      "execution_count": 2,
      "outputs": []
    },
    {
      "cell_type": "markdown",
      "source": [],
      "metadata": {
        "id": "A32HiakY_fIO"
      }
    },
    {
      "cell_type": "markdown",
      "source": [
        "### Gemini-Pro API\n",
        "\n",
        "Before you can use the Gemini API, you must first obtain an API key. If you don't already have one, create a key with one click in Google AI Studio.\n",
        "\n",
        "<a class=\"button button-primary\" href=\"https://makersuite.google.com/app/apikey\" target=\"_blank\" rel=\"noopener noreferrer\">Get an API key</a>\n"
      ],
      "metadata": {
        "id": "wftyB7ZnbAee"
      }
    },
    {
      "cell_type": "code",
      "source": [
        "import os\n",
        "\n",
        "if \"GOOGLE_API_KEY\" not in os.environ:\n",
        "    os.environ[\"GOOGLE_API_KEY\"] = getpass.getpass(\"Enter API Key\")\n",
        "\n",
        "genai.configure(api_key=os.environ['GOOGLE_API_KEY'])"
      ],
      "metadata": {
        "id": "Df5BfLDgbEGL",
        "colab": {
          "base_uri": "https://localhost:8080/"
        },
        "outputId": "e735d2e6-1a3b-446c-a828-222c718a3baf"
      },
      "execution_count": 3,
      "outputs": [
        {
          "name": "stdout",
          "output_type": "stream",
          "text": [
            "Enter API Key··········\n"
          ]
        }
      ]
    },
    {
      "cell_type": "markdown",
      "source": [
        "### Available Models"
      ],
      "metadata": {
        "id": "14TZA-R0brPf"
      }
    },
    {
      "cell_type": "code",
      "source": [
        "for m in genai.list_models():\n",
        "  if 'generateContent' in m.supported_generation_methods:\n",
        "    print(m.name)"
      ],
      "metadata": {
        "colab": {
          "base_uri": "https://localhost:8080/",
          "height": 527
        },
        "id": "u-DAOzdNblKM",
        "outputId": "735d7b5b-5403-4c33-dce3-a6828e2f72d2"
      },
      "execution_count": 4,
      "outputs": [
        {
          "output_type": "stream",
          "name": "stdout",
          "text": [
            "models/gemini-1.0-pro-latest\n",
            "models/gemini-1.0-pro\n",
            "models/gemini-pro\n",
            "models/gemini-1.0-pro-001\n",
            "models/gemini-1.0-pro-vision-latest\n",
            "models/gemini-pro-vision\n",
            "models/gemini-1.5-pro-latest\n",
            "models/gemini-1.5-pro-001\n",
            "models/gemini-1.5-pro-002\n",
            "models/gemini-1.5-pro\n",
            "models/gemini-1.5-pro-exp-0801\n",
            "models/gemini-1.5-pro-exp-0827\n",
            "models/gemini-1.5-flash-latest\n",
            "models/gemini-1.5-flash-001\n",
            "models/gemini-1.5-flash-001-tuning\n",
            "models/gemini-1.5-flash\n",
            "models/gemini-1.5-flash-exp-0827\n",
            "models/gemini-1.5-flash-002\n",
            "models/gemini-1.5-flash-8b\n",
            "models/gemini-1.5-flash-8b-001\n",
            "models/gemini-1.5-flash-8b-latest\n",
            "models/gemini-1.5-flash-8b-exp-0827\n",
            "models/gemini-1.5-flash-8b-exp-0924\n",
            "models/gemini-2.0-flash-exp\n",
            "models/gemini-exp-1206\n",
            "models/gemini-exp-1121\n",
            "models/gemini-exp-1114\n",
            "models/gemini-2.0-flash-thinking-exp\n",
            "models/gemini-2.0-flash-thinking-exp-1219\n",
            "models/learnlm-1.5-pro-experimental\n"
          ]
        }
      ]
    },
    {
      "cell_type": "markdown",
      "source": [
        "## Example: Text Generation"
      ],
      "metadata": {
        "id": "BKtx6PMcb0Lt"
      }
    },
    {
      "cell_type": "code",
      "source": [
        "llm = ChatGoogleGenerativeAI(model=\"gemini-2.0-flash-exp\")\n",
        "result = llm.invoke(\"write an essay about IIT Delhi\")\n",
        "to_markdown(result.content)"
      ],
      "metadata": {
        "colab": {
          "base_uri": "https://localhost:8080/",
          "height": 966
        },
        "id": "PzZL6E4IbukN",
        "outputId": "a40c5402-56f6-4ab9-898e-5d339e526bc9"
      },
      "execution_count": 5,
      "outputs": [
        {
          "output_type": "execute_result",
          "data": {
            "text/plain": [
              "<IPython.core.display.Markdown object>"
            ],
            "text/markdown": "> ## The Crucible of Innovation: An Exploration of IIT Delhi\n> \n> The Indian Institute of Technology Delhi, or IIT Delhi, stands as a towering monument to India's aspiration for technological prowess. More than just an academic institution, it's a crucible where raw talent is forged into innovative minds, a place where the seeds of technological advancement are sown and nurtured. For decades, IIT Delhi has consistently produced leaders, entrepreneurs, and researchers who have shaped not only India's technological landscape but also contributed significantly to the global stage. Its reputation as a premier engineering institute is well-deserved, built on a foundation of rigorous academics, a culture of research, and a relentless pursuit of excellence.\n> \n> The academic rigor at IIT Delhi is legendary. The curriculum, constantly evolving to reflect the latest advancements, pushes students to their intellectual limits. From foundational courses in physics, mathematics, and chemistry to highly specialized programs in various engineering disciplines, the academic experience is designed to foster critical thinking, problem-solving skills, and a deep understanding of fundamental principles. The highly competitive environment, though often challenging, cultivates a spirit of perseverance and a drive to excel. This rigorous training equips graduates with the technical competence and analytical abilities necessary to tackle complex real-world problems.\n> \n> Beyond the classroom, IIT Delhi fosters a vibrant research culture. The institute boasts state-of-the-art laboratories and research centers, attracting some of the brightest minds in the country. Faculty members are actively engaged in cutting-edge research across diverse fields, from nanotechnology and artificial intelligence to biotechnology and sustainable energy. This environment of active research not only contributes to scientific advancement but also provides students with invaluable opportunities to participate in groundbreaking projects, enhancing their learning experience and fostering a culture of innovation. The emphasis on research also ensures that the curriculum remains relevant and aligned with the latest developments in the field.\n> \n> Furthermore, IIT Delhi is more than just a haven for academics and research. It is a vibrant community that encourages holistic development. The diverse student body, drawn from all corners of India, creates a melting pot of ideas and perspectives. Numerous clubs and societies cater to a wide range of interests, from robotics and coding to drama and music. This active participation in extracurricular activities helps students develop leadership skills, teamwork abilities, and a well-rounded personality. The institute also provides a nurturing environment that fosters personal growth and encourages students to explore their passions beyond their academic pursuits.\n> \n> The impact of IIT Delhi graduates is undeniable. They have gone on to establish successful startups, lead multinational corporations, and contribute significantly to academia and research. They are the driving force behind many of India’s technological advancements and have made their mark on the global stage. The institute's alumni network is a powerful force, providing mentorship, networking opportunities, and a sense of community that extends far beyond the campus walls. This strong alumni network serves as a testament to the enduring legacy and influence of IIT Delhi.\n> \n> However, even with its remarkable achievements, IIT Delhi is not without its challenges. The pressure to perform academically can be immense, and the competitive environment can be overwhelming for some students. The institute also faces challenges in adapting to the rapidly changing landscape of technology and ensuring that its curriculum remains relevant and cutting-edge. Furthermore, concerns have been raised about the need for greater diversity and inclusivity within the student body and faculty.\n> \n> In conclusion, IIT Delhi is more than just an educational institution; it is a symbol of India's technological aspirations and a catalyst for innovation. Its rigorous academic programs, vibrant research culture, and emphasis on holistic development have produced generations of leaders and innovators who have shaped India's technological landscape and contributed significantly to the global community. While challenges remain, IIT Delhi continues to strive for excellence, ensuring that it remains a beacon of innovation and a crucible for shaping the future of technology in India and beyond. Its enduring legacy lies in its ability to cultivate the minds that will drive progress and address the complex challenges facing the world today."
          },
          "metadata": {},
          "execution_count": 5
        }
      ]
    },
    {
      "cell_type": "markdown",
      "source": [
        "## Streaming and Batching\n",
        "* **Stream:** Provides real-time answer instead of waiting for entire output\n",
        "* **Batch:** Could taclke more than 1 prompts at a time"
      ],
      "metadata": {
        "id": "Doawe6YVcb2X"
      }
    },
    {
      "cell_type": "code",
      "source": [
        "# STREAM\n",
        "for chunk in llm.stream(\"IITD\"):\n",
        "    display(to_markdown(chunk.content))\n",
        "    display(to_markdown(\"---\"))"
      ],
      "metadata": {
        "colab": {
          "base_uri": "https://localhost:8080/",
          "height": 1000
        },
        "id": "_Jatz12Jb_Xs",
        "outputId": "a5455c3f-7852-43c8-bc52-d3b18d6bbd4a"
      },
      "execution_count": 6,
      "outputs": [
        {
          "output_type": "display_data",
          "data": {
            "text/plain": [
              "<IPython.core.display.Markdown object>"
            ],
            "text/markdown": "> Okay"
          },
          "metadata": {}
        },
        {
          "output_type": "display_data",
          "data": {
            "text/plain": [
              "<IPython.core.display.Markdown object>"
            ],
            "text/markdown": "> ---"
          },
          "metadata": {}
        },
        {
          "output_type": "display_data",
          "data": {
            "text/plain": [
              "<IPython.core.display.Markdown object>"
            ],
            "text/markdown": "> , you've said \"IITD\". Here's a breakdown of what"
          },
          "metadata": {}
        },
        {
          "output_type": "display_data",
          "data": {
            "text/plain": [
              "<IPython.core.display.Markdown object>"
            ],
            "text/markdown": "> ---"
          },
          "metadata": {}
        },
        {
          "output_type": "display_data",
          "data": {
            "text/plain": [
              "<IPython.core.display.Markdown object>"
            ],
            "text/markdown": ">  that likely means and some information about it:\n> \n> **IITD stands for the"
          },
          "metadata": {}
        },
        {
          "output_type": "display_data",
          "data": {
            "text/plain": [
              "<IPython.core.display.Markdown object>"
            ],
            "text/markdown": "> ---"
          },
          "metadata": {}
        },
        {
          "output_type": "display_data",
          "data": {
            "text/plain": [
              "<IPython.core.display.Markdown object>"
            ],
            "text/markdown": ">  Indian Institute of Technology Delhi.**\n> \n> **Key Points about IIT Delhi:**\n> \n> * **One of the Premier Institutes:** It's one of the most prestigious and"
          },
          "metadata": {}
        },
        {
          "output_type": "display_data",
          "data": {
            "text/plain": [
              "<IPython.core.display.Markdown object>"
            ],
            "text/markdown": "> ---"
          },
          "metadata": {}
        },
        {
          "output_type": "display_data",
          "data": {
            "text/plain": [
              "<IPython.core.display.Markdown object>"
            ],
            "text/markdown": ">  highly ranked engineering and technology institutes in India, often considered among the top globally.\n> * **Location:** Located in New Delhi, India.\n> * **Ac"
          },
          "metadata": {}
        },
        {
          "output_type": "display_data",
          "data": {
            "text/plain": [
              "<IPython.core.display.Markdown object>"
            ],
            "text/markdown": "> ---"
          },
          "metadata": {}
        },
        {
          "output_type": "display_data",
          "data": {
            "text/plain": [
              "<IPython.core.display.Markdown object>"
            ],
            "text/markdown": "> ademics:**\n>     * Offers a wide range of undergraduate (B.Tech), postgraduate (M.Tech, M.S., MBA), and doctoral (Ph.D.) programs.\n>     * Strong focus on engineering, technology,"
          },
          "metadata": {}
        },
        {
          "output_type": "display_data",
          "data": {
            "text/plain": [
              "<IPython.core.display.Markdown object>"
            ],
            "text/markdown": "> ---"
          },
          "metadata": {}
        },
        {
          "output_type": "display_data",
          "data": {
            "text/plain": [
              "<IPython.core.display.Markdown object>"
            ],
            "text/markdown": ">  and sciences, but also has departments in management, humanities, and social sciences.\n>     * Known for its rigorous academic curriculum and research focus.\n> * **Reputation:**\n>     * Highly selective admission process, attracting top students from India"
          },
          "metadata": {}
        },
        {
          "output_type": "display_data",
          "data": {
            "text/plain": [
              "<IPython.core.display.Markdown object>"
            ],
            "text/markdown": "> ---"
          },
          "metadata": {}
        },
        {
          "output_type": "display_data",
          "data": {
            "text/plain": [
              "<IPython.core.display.Markdown object>"
            ],
            "text/markdown": ">  and abroad.\n>     * Graduates are highly sought after by leading companies and research institutions worldwide.\n>     * Strong alumni network.\n> * **Research:**\n>     * Actively involved in cutting-edge research in various fields.\n>     * Has numerous research centers and labs.\n> * **Campus:**\n>     *"
          },
          "metadata": {}
        },
        {
          "output_type": "display_data",
          "data": {
            "text/plain": [
              "<IPython.core.display.Markdown object>"
            ],
            "text/markdown": "> ---"
          },
          "metadata": {}
        },
        {
          "output_type": "display_data",
          "data": {
            "text/plain": [
              "<IPython.core.display.Markdown object>"
            ],
            "text/markdown": ">  Sprawling campus with modern infrastructure, including academic buildings, hostels, libraries, sports facilities, and more.\n> * **Culture:**\n>     * Vibrant campus culture with various student clubs and activities.\n>     * Hosts numerous academic, cultural, and sports events throughout the year.\n> \n> **Why are you asking about IIT"
          },
          "metadata": {}
        },
        {
          "output_type": "display_data",
          "data": {
            "text/plain": [
              "<IPython.core.display.Markdown object>"
            ],
            "text/markdown": "> ---"
          },
          "metadata": {}
        },
        {
          "output_type": "display_data",
          "data": {
            "text/plain": [
              "<IPython.core.display.Markdown object>"
            ],
            "text/markdown": "> D?**\n> \n> To give you more specific information, it would be helpful to know why you're interested in IIT Delhi. For example, are you:\n> \n> * **A prospective student?** (Looking for admission information, courses, etc.)\n> * **A current student?** (Looking for resources, updates"
          },
          "metadata": {}
        },
        {
          "output_type": "display_data",
          "data": {
            "text/plain": [
              "<IPython.core.display.Markdown object>"
            ],
            "text/markdown": "> ---"
          },
          "metadata": {}
        },
        {
          "output_type": "display_data",
          "data": {
            "text/plain": [
              "<IPython.core.display.Markdown object>"
            ],
            "text/markdown": "> , etc.)\n> * **An alumnus?** (Looking to connect with the alumni network)\n> * **Researching it for a project?**\n> * **Just curious?**\n> \n> Knowing your reason for asking will help me provide more relevant and helpful information.\n> \n> **Here are some things I can help you with"
          },
          "metadata": {}
        },
        {
          "output_type": "display_data",
          "data": {
            "text/plain": [
              "<IPython.core.display.Markdown object>"
            ],
            "text/markdown": "> ---"
          },
          "metadata": {}
        },
        {
          "output_type": "display_data",
          "data": {
            "text/plain": [
              "<IPython.core.display.Markdown object>"
            ],
            "text/markdown": ">  if you tell me more:**\n> \n> * **Admission process and requirements**\n> * **Specific programs offered**\n> * **Department information**\n> * **Research areas**\n> * **Campus life**\n> * **Alumni information**\n> * **Contact information**\n> * **Recent news and updates**\n> \n> Just let me"
          },
          "metadata": {}
        },
        {
          "output_type": "display_data",
          "data": {
            "text/plain": [
              "<IPython.core.display.Markdown object>"
            ],
            "text/markdown": "> ---"
          },
          "metadata": {}
        },
        {
          "output_type": "display_data",
          "data": {
            "text/plain": [
              "<IPython.core.display.Markdown object>"
            ],
            "text/markdown": ">  know what you're looking for!"
          },
          "metadata": {}
        },
        {
          "output_type": "display_data",
          "data": {
            "text/plain": [
              "<IPython.core.display.Markdown object>"
            ],
            "text/markdown": "> ---"
          },
          "metadata": {}
        }
      ]
    },
    {
      "cell_type": "code",
      "source": [
        "# BATCH\n",
        "results = llm.batch(\n",
        "    [\n",
        "        \"What is name of director of IITD?\",\n",
        "        \"Where IIT delhi located?\",\n",
        "    ]\n",
        ")\n",
        "\n",
        "for res in results:\n",
        "    display(to_markdown(res.content))"
      ],
      "metadata": {
        "colab": {
          "base_uri": "https://localhost:8080/",
          "height": 93
        },
        "id": "MverD1XMdDpN",
        "outputId": "8d6061c3-fed0-4b9c-c9f8-46b748d969c0"
      },
      "execution_count": 8,
      "outputs": [
        {
          "output_type": "display_data",
          "data": {
            "text/plain": [
              "<IPython.core.display.Markdown object>"
            ],
            "text/markdown": "> The current director of IIT Delhi (IITD) is **Professor Rangan Banerjee**."
          },
          "metadata": {}
        },
        {
          "output_type": "display_data",
          "data": {
            "text/plain": [
              "<IPython.core.display.Markdown object>"
            ],
            "text/markdown": "> IIT Delhi is located in **Hauz Khas, New Delhi, India**."
          },
          "metadata": {}
        }
      ]
    },
    {
      "cell_type": "markdown",
      "source": [
        "## Traslation"
      ],
      "metadata": {
        "id": "yqvISDQkScI0"
      }
    },
    {
      "cell_type": "code",
      "source": [
        "from langchain_core.prompts import ChatPromptTemplate\n",
        "\n",
        "prompt = ChatPromptTemplate.from_messages(\n",
        "    [\n",
        "        (\n",
        "            \"system\",\n",
        "            \"You are a helpful assistant that translates {input_language} to {output_language}.\",\n",
        "        ),\n",
        "        (\"human\", \"{input}\"),\n",
        "    ]\n",
        ")\n",
        "\n",
        "chain = prompt | llm\n",
        "chain.invoke(\n",
        "    {\n",
        "        \"input_language\": \"English\",\n",
        "        \"output_language\": \"French\",\n",
        "        \"input\": \"I love programming.\",\n",
        "    }\n",
        ")"
      ],
      "metadata": {
        "colab": {
          "base_uri": "https://localhost:8080/"
        },
        "id": "MP3kxaNoRAyS",
        "outputId": "036cc59d-46bf-4773-c3e7-b5b359debf9f"
      },
      "execution_count": 11,
      "outputs": [
        {
          "output_type": "execute_result",
          "data": {
            "text/plain": [
              "AIMessage(content=\"J'adore la programmation.\", additional_kwargs={}, response_metadata={'prompt_feedback': {'block_reason': 0, 'safety_ratings': []}, 'finish_reason': 'STOP', 'safety_ratings': [{'category': 'HARM_CATEGORY_HATE_SPEECH', 'probability': 'NEGLIGIBLE', 'blocked': False}, {'category': 'HARM_CATEGORY_DANGEROUS_CONTENT', 'probability': 'NEGLIGIBLE', 'blocked': False}, {'category': 'HARM_CATEGORY_HARASSMENT', 'probability': 'NEGLIGIBLE', 'blocked': False}, {'category': 'HARM_CATEGORY_SEXUALLY_EXPLICIT', 'probability': 'NEGLIGIBLE', 'blocked': False}]}, id='run-74fd4d3b-7a8a-4d6b-8495-a4a31dc23ae2-0', usage_metadata={'input_tokens': 16, 'output_tokens': 7, 'total_tokens': 23, 'input_token_details': {'cache_read': 0}})"
            ]
          },
          "metadata": {},
          "execution_count": 11
        }
      ]
    },
    {
      "cell_type": "markdown",
      "source": [
        "# Text summarization"
      ],
      "metadata": {
        "id": "0tB9Xr--E7qq"
      }
    },
    {
      "cell_type": "code",
      "source": [
        "# Define a prompt template for summarization\n",
        "summary_prompt = PromptTemplate(\n",
        "    input_variables=[\"text\"],\n",
        "    template=\"Summarize the following text in a concise and clear way:\\n\\n{text}\"\n",
        ")\n",
        "\n",
        "# Create a LangChain summarization pipeline\n",
        "summary_chain = LLMChain(llm=llm, prompt=summary_prompt)\n",
        "\n",
        "# Example text to summarize\n",
        "text = \"\"\"\n",
        "The field of artificial intelligence (AI) has seen tremendous advancements in recent years,\n",
        "with applications spanning from healthcare to finance. Machine learning models are becoming\n",
        "more sophisticated, leading to better decision-making and automation across industries.\n",
        "However, ethical considerations and the need for transparency remain significant challenges.\n",
        "\"\"\"\n",
        "\n",
        "# Get the summary\n",
        "summary = summary_chain.run(text)\n",
        "\n",
        "# Print the result\n",
        "print(\"Summary:\", summary)"
      ],
      "metadata": {
        "colab": {
          "base_uri": "https://localhost:8080/"
        },
        "id": "EiMLpM3IEpnh",
        "outputId": "01f61957-fdf1-4b18-eaac-b8a4fa7a17d2"
      },
      "execution_count": 12,
      "outputs": [
        {
          "output_type": "stream",
          "name": "stderr",
          "text": [
            "<ipython-input-12-95b6f9dcf262>:8: LangChainDeprecationWarning: The class `LLMChain` was deprecated in LangChain 0.1.17 and will be removed in 1.0. Use :meth:`~RunnableSequence, e.g., `prompt | llm`` instead.\n",
            "  summary_chain = LLMChain(llm=llm, prompt=summary_prompt)\n",
            "<ipython-input-12-95b6f9dcf262>:19: LangChainDeprecationWarning: The method `Chain.run` was deprecated in langchain 0.1.0 and will be removed in 1.0. Use :meth:`~invoke` instead.\n",
            "  summary = summary_chain.run(text)\n"
          ]
        },
        {
          "output_type": "stream",
          "name": "stdout",
          "text": [
            "Summary: Recent advancements in AI, particularly in machine learning, are driving automation and better decision-making across various industries like healthcare and finance. However, ethical concerns and the need for transparency in AI systems remain major challenges.\n"
          ]
        }
      ]
    },
    {
      "cell_type": "markdown",
      "source": [
        "## Image Recognition"
      ],
      "metadata": {
        "id": "2ujlclodiEtX"
      }
    },
    {
      "cell_type": "code",
      "source": [
        "! pip install pillow -q"
      ],
      "metadata": {
        "id": "v6KFxCh7gNQV"
      },
      "execution_count": 13,
      "outputs": []
    },
    {
      "cell_type": "code",
      "source": [
        "import requests\n",
        "from IPython.display import Image\n",
        "\n",
        "image_url = \"https://images.unsplash.com/photo-1463003160077-801f9fd8d095?q=80&w=600\"\n",
        "content = requests.get(image_url).content\n",
        "Image(content)"
      ],
      "metadata": {
        "colab": {
          "base_uri": "https://localhost:8080/",
          "height": 417
        },
        "id": "1NmJrO_CiJPM",
        "outputId": "d394cea9-9188-4746-8bd9-c7a93009ea75"
      },
      "execution_count": 14,
      "outputs": [
        {
          "output_type": "execute_result",
          "data": {
            "image/jpeg": "[encoded data removed]",
            "text/plain": [
              "<IPython.core.display.Image object>"
            ]
          },
          "metadata": {},
          "execution_count": 14
        }
      ]
    },
    {
      "cell_type": "code",
      "source": [
        "from langchain_core.messages import HumanMessage\n",
        "from langchain_google_genai import ChatGoogleGenerativeAI\n",
        "\n",
        "llm = ChatGoogleGenerativeAI(model=\"gemini-2.0-flash-exp\")\n",
        "# example\n",
        "message = HumanMessage(\n",
        "    content=[\n",
        "        {\n",
        "            \"type\": \"text\",\n",
        "            \"text\": \"What's in this image? What mood does the image represents?\",\n",
        "        },  # You can optionally provide text parts\n",
        "        {\"type\": \"image_url\", \"image_url\": image_url},\n",
        "    ]\n",
        ")\n",
        "\n",
        "output_message = llm.invoke([message])\n",
        "content_text = to_markdown(output_message.content)\n",
        "content_text"
      ],
      "metadata": {
        "colab": {
          "base_uri": "https://localhost:8080/",
          "height": 273
        },
        "id": "bG3NSqwUne7f",
        "outputId": "ecbd2486-d59c-4858-b54a-8f8374db3606"
      },
      "execution_count": 15,
      "outputs": [
        {
          "output_type": "execute_result",
          "data": {
            "text/plain": [
              "<IPython.core.display.Markdown object>"
            ],
            "text/markdown": "> Certainly!\n> \n> **What's in the image:**\n> \n> The image shows a silhouette of a bird perched on a branch against a cloudy sky. The bird appears to be a blackbird or a similar species, and it has its beak slightly open, as if it's singing or calling out. The sky behind is a mix of dark and light clouds, suggesting either early morning or dusk. There are also out-of-focus silhouettes of foliage to the left and bottom of the image, framing the bird nicely.\n> \n> **Mood:**\n> \n> The image evokes a sense of quiet contemplation, a touch of melancholy, and a feeling of being at the edge of day. The dark silhouettes against the soft, cloudy background create a somewhat dramatic and mysterious atmosphere. The bird's open beak could suggest a sense of yearning or a call to the world, which adds an element of longing to the overall mood. The cool tones of the blue-grey sky also contribute to a calm and reflective feeling."
          },
          "metadata": {},
          "execution_count": 15
        }
      ]
    },
    {
      "cell_type": "markdown",
      "source": [
        "\n",
        "\n"
      ],
      "metadata": {
        "id": "m04hyrECFTbW"
      }
    },
    {
      "cell_type": "code",
      "source": [],
      "metadata": {
        "id": "E5UDFm39Kyae"
      },
      "execution_count": null,
      "outputs": []
    }
  ]
}