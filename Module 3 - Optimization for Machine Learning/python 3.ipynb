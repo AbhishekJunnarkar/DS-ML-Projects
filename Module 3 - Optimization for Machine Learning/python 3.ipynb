{
 "cells": [
  {
   "cell_type": "markdown",
   "metadata": {},
   "source": [
    "\n",
    "# Problem 1:\n",
    "## Objective function:  Maximize  $I = x_1 + 3x_2 + x_3$\n",
    "\n",
    "## Constraints:  \n",
    "\n",
    "##                        $2x_1+x_2-x_3 <= 3$\n",
    "\n",
    "##                        $-2x_1+x_2-4x_3 >= -5$\n",
    "\n",
    "##                        $4x_1+x_2+x_3 <= 5$\n",
    "                                       \n",
    "##            where, $x_1>=0, x_2>=0, x_3>=0$ and are continuous variables\n"
   ]
  },
  {
   "cell_type": "code",
   "execution_count": 1,
   "metadata": {},
   "outputs": [
    {
     "name": "stdout",
     "output_type": "stream",
     "text": [
      "     con: array([], dtype=float64)\n",
      "     fun: -13.0\n",
      " message: 'Optimization terminated successfully.'\n",
      "     nit: 5\n",
      "   slack: array([0., 5., 0.])\n",
      "  status: 0\n",
      " success: True\n",
      "       x: array([0., 4., 1.])\n"
     ]
    }
   ],
   "source": [
    "%reset -f\n",
    "##Simplex Method\n",
    "#Reference: https://docs.scipy.org/doc/scipy/reference/generated/scipy.optimize.linprog.html\n",
    "## Scipy wor library work for minimization problems,before proceeding-do the following steps\n",
    "# step 1. Convert maximize problem to minimize problem by multiplying it by -1\n",
    "# step 2. Convert all greater than inequalities to less than by multiplying them to -1\n",
    "# step 3. Multiply final optimum objective function values by -1 to get maximize value (in case if converted max to min problem)\n",
    "\n",
    "from scipy.optimize import linprog\n",
    "# coefficients of objective function\n",
    "c = [-1,-3,-1]\n",
    "# LHS of constraint coefficients\n",
    "A = [[ 2, 1, -1],[2, -1,  4],[4, 1, 1]] \n",
    "# RHS of constraints\n",
    "b = [3, 5, 5]\n",
    "\n",
    "##Bounds for all variables\n",
    "bnd = [(0, float(\"inf\")),(0, float(\"inf\")),(0, float(\"inf\"))]\n",
    "\n",
    "result_simplex = linprog(c, A_ub=A, b_ub=b,bounds = bnd,method=\"simplex\")\n",
    "print(result_simplex)\n",
    "\n",
    "##Output file: con is residual, beq-Aeq\n",
    "#Success = True: Algorithm succeeds in finding an optimal solution\n",
    "#Status  = 0: Optimization terminated successfully."
   ]
  },
  {
   "cell_type": "code",
   "execution_count": 2,
   "metadata": {},
   "outputs": [
    {
     "name": "stdout",
     "output_type": "stream",
     "text": [
      "     con: array([], dtype=float64)\n",
      "     fun: -12.999999999677478\n",
      " message: 'Optimization terminated successfully.'\n",
      "     nit: 5\n",
      "   slack: array([9.63664704e-11, 5.00000000e+00, 5.25748334e-11])\n",
      "  status: 0\n",
      " success: True\n",
      "       x: array([1.34451025e-11, 4.00000000e+00, 1.00000000e+00])\n"
     ]
    },
    {
     "name": "stderr",
     "output_type": "stream",
     "text": [
      "C:\\Users\\Manoj Ramteke\\anaconda3\\lib\\site-packages\\numpy\\core\\fromnumeric.py:87: VisibleDeprecationWarning: Creating an ndarray from ragged nested sequences (which is a list-or-tuple of lists-or-tuples-or ndarrays with different lengths or shapes) is deprecated. If you meant to do this, you must specify 'dtype=object' when creating the ndarray\n",
      "  return ufunc.reduce(obj, axis, dtype, out, **passkwargs)\n"
     ]
    }
   ],
   "source": [
    "%reset -f\n",
    "##Interior Point Method\n",
    "# Reference: https://docs.scipy.org/doc/scipy/reference/optimize.linprog-interior-point.html\n",
    "\n",
    "from scipy.optimize import linprog\n",
    "## Coefficients of Objective functiom\n",
    "c = [-1,-3,-1]\n",
    "\n",
    "# LHS of constraint coefficients\n",
    "A = [[ 2, 1, -1],[2, -1,  4],[4, 1, 1]] \n",
    "\n",
    "# RHS of constraints\n",
    "b = [3, 5, 5]\n",
    "\n",
    "##Bounds for all three variables of our problem\n",
    "bnd = [(0, float(\"inf\")),(0, float(\"inf\")),(0, float(\"inf\"))]\n",
    "\n",
    "result_interiorpoint = linprog(c, A_ub=A, b_ub=b,bounds = bnd,method='interior-point')\n",
    "print(result_interiorpoint)"
   ]
  },
  {
   "cell_type": "markdown",
   "metadata": {},
   "source": [
    "## Solve the problem 1 with condition: \n",
    "## $x_1>=0, x_2>=0, x_3 >=0 $ and are integers"
   ]
  },
  {
   "cell_type": "code",
   "execution_count": 3,
   "metadata": {},
   "outputs": [
    {
     "name": "stdout",
     "output_type": "stream",
     "text": [
      "Optimal solution, function value =  13.0 \n",
      "Non-zero solution:\n",
      "x2 : 4.0\n",
      "x3 : 1.0\n"
     ]
    }
   ],
   "source": [
    "%reset -f\n",
    "## Mixed Integer Linear Prog.-  Branch and Cut Method\n",
    "## Reference: https://docs.python-mip.com/en/latest/quickstart.html\n",
    "## mip library for miexed int lin prog\n",
    "## install the library by using this command in anaconda prompt: pip install mip\n",
    "\n",
    "from mip import Model, MAXIMIZE, CBC, INTEGER, OptimizationStatus\n",
    "\n",
    "model = Model(sense=MAXIMIZE, solver_name=CBC) ##CBC is  COIN branch and cut, COIN dedicated for solving optimization problem in industry and academia\n",
    "#Define nature of variable and their lower, upper bounds\n",
    "x1 = model.add_var(name='x1', var_type=INTEGER, lb=0, ub=float(\"inf\"))\n",
    "x2 = model.add_var(name='x2', var_type=INTEGER, lb=0, ub=float(\"inf\")) \n",
    "x3 = model.add_var(name='x3', var_type=INTEGER, lb=0, ub=float(\"inf\"))\n",
    "##objective function\n",
    "model.objective = x1+3*x2+x3\n",
    "##constraints\n",
    "model += 2*x1+x2-x3 <= 3\n",
    "model += 2*x1-x2+4*x3 <= 5\n",
    "model += 4*x1+x2+x3 <= 5\n",
    "\n",
    "result = model.optimize()\n",
    "\n",
    "if result == OptimizationStatus.OPTIMAL:\n",
    "    print('Optimal solution, function value =  {} '.format(model.objective_value))\n",
    "\n",
    "elif result == OptimizationStatus.FEASIBLE:\n",
    "    print('sol.cost {} found, best possible: {}'.format(model.objective_value, model.objective_bound))\n",
    "\n",
    "elif result == OptimizationStatus.NO_SOLUTION_FOUND:\n",
    "    print('no feasible solution found, lower bound is: {}'.format(model.objective_bound))\n",
    "\n",
    "if result == OptimizationStatus.OPTIMAL or result == OptimizationStatus.FEASIBLE:\n",
    "    print('Non-zero solution:')\n",
    "    for v in model.vars:\n",
    "       if abs(v.x) > 1e-6: # only printing non-zeros\n",
    "          print('{} : {}'.format(v.name, v.x))"
   ]
  }
 ],
 "metadata": {
  "kernelspec": {
   "display_name": "Python 3 (ipykernel)",
   "language": "python",
   "name": "python3"
  },
  "language_info": {
   "codemirror_mode": {
    "name": "ipython",
    "version": 3
   },
   "file_extension": ".py",
   "mimetype": "text/x-python",
   "name": "python",
   "nbconvert_exporter": "python",
   "pygments_lexer": "ipython3",
   "version": "3.9.13"
  }
 },
 "nbformat": 4,
 "nbformat_minor": 4
}
