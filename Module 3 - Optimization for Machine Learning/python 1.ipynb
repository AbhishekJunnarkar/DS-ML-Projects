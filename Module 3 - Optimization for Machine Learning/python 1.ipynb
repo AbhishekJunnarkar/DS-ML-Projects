{
 "cells": [
  {
   "cell_type": "markdown",
   "metadata": {},
   "source": [
    "# Example: min or max ${I(x_2) := \\frac{\\pi x_2(10- x_2)^2}{3}}$"
   ]
  },
  {
   "cell_type": "markdown",
   "metadata": {},
   "source": [
    "Analytical solution wlakthrough using python"
   ]
  },
  {
   "cell_type": "code",
   "execution_count": 1,
   "metadata": {},
   "outputs": [
    {
     "ename": "ModuleNotFoundError",
     "evalue": "No module named 'sympy'",
     "output_type": "error",
     "traceback": [
      "\u001b[0;31m---------------------------------------------------------------------------\u001b[0m",
      "\u001b[0;31mModuleNotFoundError\u001b[0m                       Traceback (most recent call last)",
      "Cell \u001b[0;32mIn[1], line 2\u001b[0m\n\u001b[1;32m      1\u001b[0m \u001b[38;5;66;03m# importing libraries that will be used later on\u001b[39;00m\n\u001b[0;32m----> 2\u001b[0m \u001b[38;5;28;01mimport\u001b[39;00m \u001b[38;5;21;01msympy\u001b[39;00m \u001b[38;5;28;01mas\u001b[39;00m \u001b[38;5;21;01msym\u001b[39;00m\n\u001b[1;32m      3\u001b[0m \u001b[38;5;28;01mimport\u001b[39;00m \u001b[38;5;21;01mmath\u001b[39;00m\n\u001b[1;32m      4\u001b[0m \u001b[38;5;28;01mimport\u001b[39;00m \u001b[38;5;21;01mnumpy\u001b[39;00m \u001b[38;5;28;01mas\u001b[39;00m \u001b[38;5;21;01mnp\u001b[39;00m\n",
      "\u001b[0;31mModuleNotFoundError\u001b[0m: No module named 'sympy'"
     ]
    }
   ],
   "source": [
    "# importing libraries that will be used later on\n",
    "import sympy as sym\n",
    "import math\n",
    "import numpy as np\n",
    "import pandas as pd"
   ]
  },
  {
   "cell_type": "code",
   "execution_count": 2,
   "metadata": {},
   "outputs": [
    {
     "name": "stdout",
     "output_type": "stream",
     "text": [
      "dI/dx2 is 3.14159265358979*x2**2 - 41.8879020478639*x2 + 104.71975511966\n"
     ]
    }
   ],
   "source": [
    "# define symbols to be used in the optimization problem \n",
    "x2 = sym.Symbol('x2')\n",
    "\n",
    "# define expression for I\n",
    "I = (math.pi*(10- x2)**2*x2)/3\n",
    "\n",
    "# differentiate I with respect to x2\n",
    "dI = sym.diff(I, x2)\n",
    "\n",
    "# expand it to match with the solutoin given in notes\n",
    "dI = sym.expand(dI)\n",
    "\n",
    "# show dI\n",
    "print ('dI/dx2 is', dI)"
   ]
  },
  {
   "cell_type": "markdown",
   "metadata": {},
   "source": [
    "### Find the value of x2_opt at which $\\frac{dI}{dx_2} = 0$"
   ]
  },
  {
   "cell_type": "code",
   "execution_count": 3,
   "metadata": {},
   "outputs": [
    {
     "name": "stdout",
     "output_type": "stream",
     "text": [
      "Optimal value of x2 can be 3.3333 or 10\n"
     ]
    }
   ],
   "source": [
    "# obtain roots of dI(x2) i.e., values of x2 at which dI is zero\n",
    "x2_opt = sym.solve(dI) # solving for roots\n",
    "\n",
    "# show the solution\n",
    "print('Optimal value of x2 can be', round(x2_opt[0],4),'or',round(x2_opt[1]))"
   ]
  },
  {
   "cell_type": "markdown",
   "metadata": {},
   "source": [
    "### Check for minima and maxima"
   ]
  },
  {
   "cell_type": "code",
   "execution_count": 4,
   "metadata": {},
   "outputs": [
    {
     "name": "stdout",
     "output_type": "stream",
     "text": [
      "d2I is 6.28318530717959*x2 - 41.8879020478639\n"
     ]
    }
   ],
   "source": [
    "# double differentiation of I with respect to x2\n",
    "d2I = sym.diff(dI, x2)\n",
    "\n",
    "# expand it to match with the solutoin given in notes\n",
    "d2I = sym.expand(d2I)\n",
    "\n",
    "# show dI\n",
    "print ('d2I is', d2I)"
   ]
  },
  {
   "cell_type": "code",
   "execution_count": 5,
   "metadata": {},
   "outputs": [
    {
     "name": "stdout",
     "output_type": "stream",
     "text": [
      "\n",
      "Checking minima/maxima for x2_opt = 3.3333\n",
      "x2_opt=3.3333 is a maxima since d2I(3.3333) is -20.9440 i.e. negative.\n",
      "\n",
      "Checking minima/maxima for x2_opt = 10.0000\n",
      "x2_opt=10.0000 is a minima since d2I(10.0000) is 20.9440 i.e. positive.\n"
     ]
    }
   ],
   "source": [
    "# evaluate d2I at x2_opt to check thse minima (d2I>0) or maxima (d2I<0)\n",
    "\n",
    "\n",
    "# for x2_opt_1 = 3.3333\n",
    "print('\\nChecking minima/maxima for x2_opt = %0.4f' %x2_opt[0])   \n",
    "d2I_1 = d2I.subs(x2, x2_opt[0])\n",
    "\n",
    "if d2I_1>0:\n",
    "    # print the result\n",
    "    print('x2_opt=%0.4f is a minima since d2I(%0.4f) is %0.4f i.e. positive.' %(x2_opt[0], x2_opt[0], d2I_1))\n",
    "else:\n",
    "    print('x2_opt=%0.4f is a maxima since d2I(%0.4f) is %0.4f i.e. negative.' %(x2_opt[0], x2_opt[0], d2I_1))\n",
    "\n",
    "    \n",
    "#  for x2_opt_2 = 10\n",
    "print('\\nChecking minima/maxima for x2_opt = %0.4f' %x2_opt[1])   \n",
    "d2I_2 = d2I.subs(x2, x2_opt[1])\n",
    "\n",
    "if d2I_2>0:\n",
    "    # print the result\n",
    "    print('x2_opt=%0.4f is a minima since d2I(%0.4f) is %0.4f i.e. positive.' %(x2_opt[1], x2_opt[1], d2I_2))\n",
    "else:\n",
    "    print('x2_opt=%0.4f is a maxima since d2I(%0.4f) is %0.4f i.e. negative.' %(x2_opt[1], x2_opt[1], d2I_2))\n"
   ]
  },
  {
   "cell_type": "markdown",
   "metadata": {},
   "source": [
    "\n",
    "#   Example: min $I(x_1) := \\pi x_1^2 + \\pi x_1 [x_1^2 + (\\frac{300}{\\pi x_1^2})^2]^{1/2} $"
   ]
  },
  {
   "cell_type": "markdown",
   "metadata": {},
   "source": [
    "Slope chnage is observed to search the optimial solution numnerically when derivative of objective function cannot be solved for its roots analytically."
   ]
  },
  {
   "cell_type": "code",
   "execution_count": 7,
   "metadata": {},
   "outputs": [
    {
     "data": {
      "text/latex": [
       "$\\displaystyle \\frac{300.0 x_{1} \\left(0.000109662271123215 x_{1} - \\frac{2.0}{x_{1}^{5}}\\right)}{\\left(0.000109662271123215 x_{1}^{2} + \\frac{1}{x_{1}^{4}}\\right)^{0.5}} + 6.28318530717959 x_{1} + 300.0 \\left(0.000109662271123215 x_{1}^{2} + \\frac{1}{x_{1}^{4}}\\right)^{0.5}$"
      ],
      "text/plain": [
       "300.0*x1*(0.000109662271123215*x1 - 2.0/x1**5)*(0.000109662271123215*x1**2 + x1**(-4))**(-0.5) + 6.28318530717959*x1 + 300.0*(0.000109662271123215*x1**2 + x1**(-4))**0.5"
      ]
     },
     "execution_count": 7,
     "metadata": {},
     "output_type": "execute_result"
    }
   ],
   "source": [
    "# define symbol\n",
    "x1 = sym.Symbol('x1')\n",
    "\n",
    "# define expression for I\n",
    "\n",
    "I = math.pi*x1**2 + math.pi*x1* (x1**2 + (300/(math.pi*x1**2))**2)**0.5\n",
    "\n",
    "# differentiate I with respect to x2\n",
    "dI = sym.diff(I, x1)\n",
    "\n",
    "#dI = sym.simplify(dI)\n",
    "\n",
    "dI"
   ]
  },
  {
   "cell_type": "code",
   "execution_count": 8,
   "metadata": {},
   "outputs": [
    {
     "data": {
      "text/html": [
       "<div>\n",
       "<style scoped>\n",
       "    .dataframe tbody tr th:only-of-type {\n",
       "        vertical-align: middle;\n",
       "    }\n",
       "\n",
       "    .dataframe tbody tr th {\n",
       "        vertical-align: top;\n",
       "    }\n",
       "\n",
       "    .dataframe thead th {\n",
       "        text-align: right;\n",
       "    }\n",
       "</style>\n",
       "<table border=\"1\" class=\"dataframe\">\n",
       "  <thead>\n",
       "    <tr style=\"text-align: right;\">\n",
       "      <th></th>\n",
       "      <th>x</th>\n",
       "      <th>dI</th>\n",
       "      <th>I</th>\n",
       "    </tr>\n",
       "  </thead>\n",
       "  <tbody>\n",
       "    <tr>\n",
       "      <th>0</th>\n",
       "      <td>0</td>\n",
       "      <td>nan</td>\n",
       "      <td>nan</td>\n",
       "    </tr>\n",
       "    <tr>\n",
       "      <th>1</th>\n",
       "      <td>0.5</td>\n",
       "      <td>-1196.85326693230</td>\n",
       "      <td>600.785912205073</td>\n",
       "    </tr>\n",
       "    <tr>\n",
       "      <th>2</th>\n",
       "      <td>1</td>\n",
       "      <td>-293.634572949706</td>\n",
       "      <td>303.158041543315</td>\n",
       "    </tr>\n",
       "    <tr>\n",
       "      <th>3</th>\n",
       "      <td>1.5</td>\n",
       "      <td>-123.492467217044</td>\n",
       "      <td>207.193456667990</td>\n",
       "    </tr>\n",
       "    <tr>\n",
       "      <th>4</th>\n",
       "      <td>2</td>\n",
       "      <td>-61.1227344496129</td>\n",
       "      <td>163.091829160140</td>\n",
       "    </tr>\n",
       "    <tr>\n",
       "      <th>5</th>\n",
       "      <td>2.5</td>\n",
       "      <td>-29.1256262282293</td>\n",
       "      <td>141.230724660716</td>\n",
       "    </tr>\n",
       "    <tr>\n",
       "      <th>6</th>\n",
       "      <td>3</td>\n",
       "      <td>-8.09776334418455</td>\n",
       "      <td>132.194678168152</td>\n",
       "    </tr>\n",
       "    <tr>\n",
       "      <th>7</th>\n",
       "      <td>3.5</td>\n",
       "      <td>8.65737651538580</td>\n",
       "      <td>132.441927414302</td>\n",
       "    </tr>\n",
       "    <tr>\n",
       "      <th>8</th>\n",
       "      <td>4</td>\n",
       "      <td>23.5495485132035</td>\n",
       "      <td>140.551797736547</td>\n",
       "    </tr>\n",
       "    <tr>\n",
       "      <th>9</th>\n",
       "      <td>4.5</td>\n",
       "      <td>37.0760940416537</td>\n",
       "      <td>155.767124263680</td>\n",
       "    </tr>\n",
       "    <tr>\n",
       "      <th>10</th>\n",
       "      <td>5</td>\n",
       "      <td>49.0957776445395</td>\n",
       "      <td>177.375552542198</td>\n",
       "    </tr>\n",
       "    <tr>\n",
       "      <th>11</th>\n",
       "      <td>5.5</td>\n",
       "      <td>59.5922764723678</td>\n",
       "      <td>204.607405985768</td>\n",
       "    </tr>\n",
       "    <tr>\n",
       "      <th>12</th>\n",
       "      <td>6</td>\n",
       "      <td>68.8094271871209</td>\n",
       "      <td>236.754148134975</td>\n",
       "    </tr>\n",
       "    <tr>\n",
       "      <th>13</th>\n",
       "      <td>6.5</td>\n",
       "      <td>77.0838089919511</td>\n",
       "      <td>273.260002969978</td>\n",
       "    </tr>\n",
       "    <tr>\n",
       "      <th>14</th>\n",
       "      <td>7</td>\n",
       "      <td>84.7110950861872</td>\n",
       "      <td>313.730576963309</td>\n",
       "    </tr>\n",
       "    <tr>\n",
       "      <th>15</th>\n",
       "      <td>7.5</td>\n",
       "      <td>91.9076209030844</td>\n",
       "      <td>357.899699771322</td>\n",
       "    </tr>\n",
       "    <tr>\n",
       "      <th>16</th>\n",
       "      <td>8</td>\n",
       "      <td>98.8194243026004</td>\n",
       "      <td>405.591022202597</td>\n",
       "    </tr>\n",
       "    <tr>\n",
       "      <th>17</th>\n",
       "      <td>8.5</td>\n",
       "      <td>105.541991508898</td>\n",
       "      <td>456.687767317608</td>\n",
       "    </tr>\n",
       "    <tr>\n",
       "      <th>18</th>\n",
       "      <td>9</td>\n",
       "      <td>112.137291560846</td>\n",
       "      <td>511.111919486759</td>\n",
       "    </tr>\n",
       "    <tr>\n",
       "      <th>19</th>\n",
       "      <td>9.5</td>\n",
       "      <td>118.645740318949</td>\n",
       "      <td>568.810658274957</td>\n",
       "    </tr>\n",
       "    <tr>\n",
       "      <th>20</th>\n",
       "      <td>10</td>\n",
       "      <td>125.093990179504</td>\n",
       "      <td>629.747674542355</td>\n",
       "    </tr>\n",
       "  </tbody>\n",
       "</table>\n",
       "</div>"
      ],
      "text/plain": [
       "      x                 dI                 I\n",
       "0     0                nan               nan\n",
       "1   0.5  -1196.85326693230  600.785912205073\n",
       "2     1  -293.634572949706  303.158041543315\n",
       "3   1.5  -123.492467217044  207.193456667990\n",
       "4     2  -61.1227344496129  163.091829160140\n",
       "5   2.5  -29.1256262282293  141.230724660716\n",
       "6     3  -8.09776334418455  132.194678168152\n",
       "7   3.5   8.65737651538580  132.441927414302\n",
       "8     4   23.5495485132035  140.551797736547\n",
       "9   4.5   37.0760940416537  155.767124263680\n",
       "10    5   49.0957776445395  177.375552542198\n",
       "11  5.5   59.5922764723678  204.607405985768\n",
       "12    6   68.8094271871209  236.754148134975\n",
       "13  6.5   77.0838089919511  273.260002969978\n",
       "14    7   84.7110950861872  313.730576963309\n",
       "15  7.5   91.9076209030844  357.899699771322\n",
       "16    8   98.8194243026004  405.591022202597\n",
       "17  8.5   105.541991508898  456.687767317608\n",
       "18    9   112.137291560846  511.111919486759\n",
       "19  9.5   118.645740318949  568.810658274957\n",
       "20   10   125.093990179504  629.747674542355"
      ]
     },
     "execution_count": 8,
     "metadata": {},
     "output_type": "execute_result"
    }
   ],
   "source": [
    "# Observing values of dI and I changing with x\n",
    "I_val = np.array([])\n",
    "dI_val = np.array([])\n",
    "x1_val = np.linspace(0,10,21)\n",
    "for x1_i in x1_val:\n",
    "    dI_val = np.hstack( (dI_val, dI.subs(x1, x1_i)))\n",
    "    I_val = np.hstack( (I_val, I.subs(x1, x1_i)))\n",
    "    \n",
    "# printing as a pandas dataframe\n",
    "pd.DataFrame( np.hstack(( x1_val.reshape(21, 1), dI_val.reshape(21, 1), I_val.reshape(21, 1) )), columns=['x', 'dI', 'I'] )\n",
    "\n"
   ]
  },
  {
   "cell_type": "markdown",
   "metadata": {},
   "source": [
    "# Example: Curve fitting"
   ]
  },
  {
   "cell_type": "markdown",
   "metadata": {},
   "source": [
    "fit $y=a_0 + a_1x + a_2x^2$\n",
    "\n",
    "\n",
    "$y = \\begin{bmatrix}\n",
    "0.078\\\\\n",
    "0.111 \\\\\n",
    "0.153 \\\\\n",
    "0.209\n",
    "\\end{bmatrix} \n",
    "\\hspace{10 mm} \n",
    "x = \\begin{bmatrix}\n",
    "2\\\\\n",
    "4 \\\\\n",
    "6 \\\\\n",
    "8\n",
    "\\end{bmatrix}\n",
    "\\hspace{10 mm} \n",
    "X = \\begin{bmatrix}\n",
    "1 & (x)_1 & (x^2)_1\\\\\n",
    "1 & (x)_2 & (x^2)_2\\\\\n",
    "1 & (x)_3 & (x^2)_3\\\\\n",
    "1 & (x)_4 & (x^2)_4\n",
    "\\end{bmatrix}\n",
    "$ \n",
    "\n",
    "           "
   ]
  },
  {
   "cell_type": "code",
   "execution_count": 9,
   "metadata": {},
   "outputs": [],
   "source": [
    "y = []; X = [] # empty initialization \n",
    "y = np.array([[0.078], [0.111], [0.153], [0.209]]) # column vector\n",
    "\n",
    "x = np.array([[2], [4], [6], [8]]) # column vector\n",
    "\n",
    "X = np.hstack((np.ones((4,1)),x,x**2)) # X matrix that includes ones at its first column\n"
   ]
  },
  {
   "cell_type": "markdown",
   "metadata": {},
   "source": [
    "$coeffs = (X^TX)^{-1}(X^Ty)$"
   ]
  },
  {
   "cell_type": "code",
   "execution_count": 10,
   "metadata": {},
   "outputs": [
    {
     "name": "stdout",
     "output_type": "stream",
     "text": [
      "a0 = 0.05775, a1 = 0.00737, a2 = 0.00144\n"
     ]
    }
   ],
   "source": [
    "# finding coefficients\n",
    "coeffs = np.linalg.inv(X.transpose().dot(X)).dot(X.transpose()).dot(y)\n",
    "\n",
    "print('a0 = %0.5f, a1 = %0.5f, a2 = %0.5f'%(coeffs[0], coeffs[1], coeffs[2]))"
   ]
  },
  {
   "cell_type": "markdown",
   "metadata": {},
   "source": [
    "# Practice problem: Curve fitting"
   ]
  },
  {
   "cell_type": "markdown",
   "metadata": {},
   "source": [
    "##  (a). fit $y=a_0 + a_1e^{2x} + a_2e^{-2x}$"
   ]
  },
  {
   "cell_type": "markdown",
   "metadata": {},
   "source": [
    "\n",
    "$y = \\begin{bmatrix}\n",
    "2\\\\\n",
    "4\\\\\n",
    "4\\\\\n",
    "2\n",
    "\\end{bmatrix} \n",
    "\\hspace{10 mm} \n",
    "x = \\begin{bmatrix}\n",
    "1\\\\\n",
    "2 \\\\\n",
    "3 \\\\\n",
    "4\n",
    "\\end{bmatrix}\n",
    "\\hspace{10 mm} \n",
    "X = \\begin{bmatrix}\n",
    "1 & (e^{2x})_1 & (e^{-2x})_1\\\\\n",
    "1 & (e^{2x})_2 & (e^{-2x})_2\\\\\n",
    "1 & (e^{2x})_3 & (e^{-2x})_3\\\\\n",
    "1 & (e^{2x})_4 & (e^{-2x})_4\n",
    "\\end{bmatrix}\n",
    "$ \n",
    "\n",
    "           "
   ]
  },
  {
   "cell_type": "code",
   "execution_count": 11,
   "metadata": {},
   "outputs": [],
   "source": [
    "y = []; X = [] # empty initialization \n",
    "y = np.array([[2], [4], [4], [2]]) # column vector\n",
    "\n",
    "x = np.array([[1], [2], [3], [4]]) # column vector\n",
    "\n",
    "X = np.hstack( ( np.ones((4,1)), np.exp(2*x), np.exp(-2*x) ) ) # X matrix that includes ones at its first column"
   ]
  },
  {
   "cell_type": "markdown",
   "metadata": {},
   "source": [
    "$coeffs = (X^TX)^{-1}(X^Ty)$"
   ]
  },
  {
   "cell_type": "code",
   "execution_count": 12,
   "metadata": {
    "scrolled": true
   },
   "outputs": [
    {
     "name": "stdout",
     "output_type": "stream",
     "text": [
      "a0 = 4.3620, a1 = -0.0008, a2 = -17.4100\n"
     ]
    }
   ],
   "source": [
    "# finding coefficients\n",
    "coeffs = np.linalg.inv(X.transpose().dot(X)).dot(X.transpose()).dot(y)\n",
    "\n",
    "print('a0 = %0.4f, a1 = %0.4f, a2 = %0.4f'%(coeffs[0], coeffs[1], coeffs[2]))"
   ]
  },
  {
   "cell_type": "markdown",
   "metadata": {},
   "source": [
    "##  (b). find $a_0 ,a_1 $, when $a_0 = 0$"
   ]
  },
  {
   "cell_type": "markdown",
   "metadata": {},
   "source": [
    "$a_0 = 0$, fit $y=a_1e^{2x} + a_2e^{-2x}$\n",
    "\n",
    "\n",
    "$y = \\begin{bmatrix}\n",
    "2\\\\\n",
    "4\\\\\n",
    "4\\\\\n",
    "2\n",
    "\\end{bmatrix} \n",
    "\\hspace{10 mm} \n",
    "x = \\begin{bmatrix}\n",
    "1\\\\\n",
    "2 \\\\\n",
    "3 \\\\\n",
    "4\n",
    "\\end{bmatrix}\n",
    "\\hspace{10 mm} \n",
    "X = \\begin{bmatrix}\n",
    "(e^{2x})_1 & (e^{-2x})_1\\\\\n",
    "(e^{2x})_2 & (e^{-2x})_2\\\\\n",
    "(e^{2x})_3 & (e^{-2x})_3\\\\\n",
    "(e^{2x})_4 & (e^{-2x})_4\n",
    "\\end{bmatrix}\n",
    "$ \n",
    "\n",
    "           "
   ]
  },
  {
   "cell_type": "markdown",
   "metadata": {},
   "source": [
    "##  (a). fit $y=a_0 + a_1e^{2x} + a_2e^{-2x}$"
   ]
  },
  {
   "cell_type": "code",
   "execution_count": 13,
   "metadata": {},
   "outputs": [],
   "source": [
    "y = []; X = [] # empty initialization \n",
    "y = np.array([[2], [4], [4], [2]]) # column vector\n",
    "\n",
    "x = np.array([[1], [2], [3], [4]]) # column vector\n",
    "\n",
    "X = np.hstack((np.exp(2*x),np.exp(-2*x))) # X matrix without ones "
   ]
  },
  {
   "cell_type": "markdown",
   "metadata": {},
   "source": [
    "$coeffs = (X^TX)^{-1}(X^Ty)$"
   ]
  },
  {
   "cell_type": "code",
   "execution_count": 14,
   "metadata": {},
   "outputs": [
    {
     "name": "stdout",
     "output_type": "stream",
     "text": [
      "a1 = 0.0009, a2 = 18.8184\n"
     ]
    }
   ],
   "source": [
    "# finding coefficients\n",
    "coeffs = np.linalg.inv(X.transpose().dot(X)).dot(X.transpose()).dot(y)\n",
    "\n",
    "print('a1 = %0.4f, a2 = %0.4f'%(coeffs[0], coeffs[1]))"
   ]
  },
  {
   "cell_type": "markdown",
   "metadata": {},
   "source": [
    "## (c). fit $y=xb_1e^{-b_2x}$\n"
   ]
  },
  {
   "cell_type": "markdown",
   "metadata": {},
   "source": [
    " $log(y) =  log(x)  + log(b_1) + b_2(-x)$\n",
    " \n",
    " $log(y) - log(x)= log(b_1) + b_2(-x)$\n",
    " \n",
    " $Y = b_3 + b_4 x$, where  $ Y=log(y)-log(x), b_3 = log(b_1)$ and $b_4 = -b_2$\n",
    "\n",
    "$y = \\begin{bmatrix}\n",
    "2\\\\\n",
    "4\\\\\n",
    "4\\\\\n",
    "2\n",
    "\\end{bmatrix} \n",
    "\\hspace{10 mm} \n",
    "x = \\begin{bmatrix}\n",
    "1\\\\\n",
    "2 \\\\\n",
    "3 \\\\\n",
    "4\n",
    "\\end{bmatrix}\n",
    "\\hspace{10 mm}\n",
    "Y = log(y)-log(x) = \\begin{bmatrix}\n",
    "log(y)_1-log(x)_1\\\\\n",
    "log(y)_2-log(x)_2\\\\\n",
    "log(y)_3-log(x)_3\\\\\n",
    "log(y)_4-log(x)_4\n",
    "\\end{bmatrix};\n",
    "\\hspace{10 mm}  \n",
    "X = \\begin{bmatrix}\n",
    "1 & (x)_1 \\\\\n",
    "1 & (x)_2 \\\\\n",
    "1 & (x)_3 \\\\\n",
    "1 & (x)_4 \n",
    "\\end{bmatrix}\n",
    "$ \n",
    "\n",
    "           "
   ]
  },
  {
   "cell_type": "code",
   "execution_count": 15,
   "metadata": {},
   "outputs": [],
   "source": [
    "y = []; X = [] # empty initialization\n",
    "x = np.array([[1], [2], [3], [4]]) # column vector\n",
    "y = np.array([[2], [4], [4], [2]]) # column vector\n",
    "\n",
    "Y = np.log(y) - np.log(x)\n",
    "\n",
    "\n",
    "X = np.hstack( ( np.ones((4,1)), x ) ) # X matrix that includes ones at its first column"
   ]
  },
  {
   "cell_type": "markdown",
   "metadata": {},
   "source": [
    "$coeffs = (X^TX)^{-1}(X^TY)$"
   ]
  },
  {
   "cell_type": "code",
   "execution_count": 16,
   "metadata": {},
   "outputs": [
    {
     "name": "stdout",
     "output_type": "stream",
     "text": [
      "b1 = 4.0000, b2 = 0.4564\n"
     ]
    }
   ],
   "source": [
    "# finding coefficients\n",
    "coeffs = np.linalg.inv(X.transpose().dot(X)).dot(X.transpose()).dot(Y)\n",
    "\n",
    "b3 = coeffs[0]\n",
    "b4 = coeffs[1]\n",
    "\n",
    "\n",
    "b1 = np.exp(b3)    #   b3 = log(b1)  =>    b1 = exp(b3)\n",
    "b2 =  -b4          #   b4 = -b2      =>    b2 = -b4\n",
    "\n",
    "print('b1 = %0.4f, b2 = %0.4f'%(b1,b2))"
   ]
  }
 ],
 "metadata": {
  "kernelspec": {
   "display_name": "Python 3 (ipykernel)",
   "language": "python",
   "name": "python3"
  },
  "language_info": {
   "codemirror_mode": {
    "name": "ipython",
    "version": 3
   },
   "file_extension": ".py",
   "mimetype": "text/x-python",
   "name": "python",
   "nbconvert_exporter": "python",
   "pygments_lexer": "ipython3",
   "version": "3.12.2"
  }
 },
 "nbformat": 4,
 "nbformat_minor": 4
}
