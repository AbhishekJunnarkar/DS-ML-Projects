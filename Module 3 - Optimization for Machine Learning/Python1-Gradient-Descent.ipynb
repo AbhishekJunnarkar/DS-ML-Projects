{
 "cells": [
  {
   "cell_type": "code",
   "execution_count": 1,
   "id": "ea713f93-e64b-44e5-9271-197fa8fb2674",
   "metadata": {},
   "outputs": [
    {
     "name": "stdout",
     "output_type": "stream",
     "text": [
      "8.0\n",
      "6.4\n",
      "5.12\n",
      "4.096\n",
      "3.2768\n",
      "2.62144\n",
      "2.0971520000000003\n",
      "1.6777216000000004\n",
      "1.3421772800000003\n",
      "1.0737418240000003\n",
      "0.8589934592000003\n",
      "0.6871947673600002\n",
      "0.5497558138880001\n",
      "0.43980465111040007\n",
      "0.35184372088832006\n",
      "0.281474976710656\n",
      "0.22517998136852482\n",
      "0.18014398509481985\n",
      "0.14411518807585588\n",
      "0.11529215046068471\n"
     ]
    }
   ],
   "source": [
    "# simple gradient descent for f(x) = x^2\n",
    "x = 10\n",
    "learning_rate = 0.1\n",
    "\n",
    "for _ in range(20):\n",
    "    grad = 2 * x   # derivative of x^2\n",
    "    x = x - learning_rate * grad\n",
    "    print(x)\n"
   ]
  }
 ],
 "metadata": {
  "kernelspec": {
   "display_name": "Python 3 (ipykernel)",
   "language": "python",
   "name": "python3"
  },
  "language_info": {
   "codemirror_mode": {
    "name": "ipython",
    "version": 3
   },
   "file_extension": ".py",
   "mimetype": "text/x-python",
   "name": "python",
   "nbconvert_exporter": "python",
   "pygments_lexer": "ipython3",
   "version": "3.12.2"
  }
 },
 "nbformat": 4,
 "nbformat_minor": 5
}
