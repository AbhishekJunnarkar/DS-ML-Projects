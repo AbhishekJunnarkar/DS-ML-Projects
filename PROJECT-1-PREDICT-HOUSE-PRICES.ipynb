{
 "cells": [
  {
   "cell_type": "markdown",
   "id": "b7cc5f2c-a292-4bff-a2de-0bb476bd9c08",
   "metadata": {},
   "source": [
    "# Project 1: Predicting the housing Prices"
   ]
  },
  {
   "cell_type": "markdown",
   "id": "2bbd2a44-f727-44c3-b97f-7a07b801694c",
   "metadata": {},
   "source": [
    "## Step 1 : Read the Data"
   ]
  },
  {
   "cell_type": "code",
   "execution_count": null,
   "id": "65e5e425-7a0a-4b0f-a2af-c26d67519330",
   "metadata": {},
   "outputs": [],
   "source": [
    "import pandas as pd\n",
    "pd.read\n",
    "# Load the Excel file\n",
    "df = pd.read_excel(\"your_file.xlsx\", engine='openpyxl')\n",
    "\n",
    "# Display the first 5 rows\n",
    "print(df.head())"
   ]
  }
 ],
 "metadata": {
  "kernelspec": {
   "display_name": "Python 3 (ipykernel)",
   "language": "python",
   "name": "python3"
  },
  "language_info": {
   "codemirror_mode": {
    "name": "ipython",
    "version": 3
   },
   "file_extension": ".py",
   "mimetype": "text/x-python",
   "name": "python",
   "nbconvert_exporter": "python",
   "pygments_lexer": "ipython3",
   "version": "3.12.2"
  }
 },
 "nbformat": 4,
 "nbformat_minor": 5
}
