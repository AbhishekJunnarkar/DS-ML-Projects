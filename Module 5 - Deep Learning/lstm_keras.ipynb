{
 "cells": [
  {
   "cell_type": "code",
   "execution_count": 8,
   "metadata": {},
   "outputs": [
    {
     "ename": "SyntaxError",
     "evalue": "invalid syntax (889310907.py, line 1)",
     "output_type": "error",
     "traceback": [
      "\u001b[0;36m  Cell \u001b[0;32mIn[8], line 1\u001b[0;36m\u001b[0m\n\u001b[0;31m    brew install nsepy\u001b[0m\n\u001b[0m         ^\u001b[0m\n\u001b[0;31mSyntaxError\u001b[0m\u001b[0;31m:\u001b[0m invalid syntax\n"
     ]
    }
   ],
   "source": [
    "brew install nsepy\n",
    "#for downloading datraset"
   ]
  },
  {
   "cell_type": "code",
   "execution_count": 4,
   "metadata": {},
   "outputs": [],
   "source": [
    "from sklearn.metrics import confusion_matrix\n",
    "#!pip install yfinance"
   ]
  },
  {
   "cell_type": "code",
   "execution_count": 5,
   "metadata": {},
   "outputs": [
    {
     "ename": "ModuleNotFoundError",
     "evalue": "No module named 'yfinance'",
     "output_type": "error",
     "traceback": [
      "\u001b[0;31m---------------------------------------------------------------------------\u001b[0m",
      "\u001b[0;31mModuleNotFoundError\u001b[0m                       Traceback (most recent call last)",
      "Cell \u001b[0;32mIn[5], line 3\u001b[0m\n\u001b[1;32m      1\u001b[0m \u001b[38;5;66;03m# Initializing libraries\u001b[39;00m\n\u001b[1;32m      2\u001b[0m \u001b[38;5;66;03m#from nsepy import get_history as gh\u001b[39;00m\n\u001b[0;32m----> 3\u001b[0m \u001b[38;5;28;01mimport\u001b[39;00m \u001b[38;5;21;01myfinance\u001b[39;00m \u001b[38;5;28;01mas\u001b[39;00m \u001b[38;5;21;01mgh\u001b[39;00m\n\u001b[1;32m      4\u001b[0m \u001b[38;5;28;01mimport\u001b[39;00m \u001b[38;5;21;01mdatetime\u001b[39;00m \u001b[38;5;28;01mas\u001b[39;00m \u001b[38;5;21;01mdt\u001b[39;00m\n\u001b[1;32m      5\u001b[0m \u001b[38;5;28;01mfrom\u001b[39;00m \u001b[38;5;21;01mmatplotlib\u001b[39;00m \u001b[38;5;28;01mimport\u001b[39;00m pyplot \u001b[38;5;28;01mas\u001b[39;00m plt\n",
      "\u001b[0;31mModuleNotFoundError\u001b[0m: No module named 'yfinance'"
     ]
    }
   ],
   "source": [
    "# Initializing libraries\n",
    "#from nsepy import get_history as gh\n",
    "import yfinance as gh\n",
    "import datetime as dt\n",
    "from matplotlib import pyplot as plt\n",
    "from sklearn import model_selection\n",
    "from sklearn.metrics import confusion_matrix\n",
    "from sklearn.preprocessing import StandardScaler\n",
    "from sklearn.model_selection import train_test_split\n",
    "import numpy as np\n",
    "import pandas as pd\n",
    "from sklearn.preprocessing import MinMaxScaler\n",
    "from keras.models import Sequential\n",
    "from keras.layers import Dense\n",
    "from keras.layers import LSTM\n",
    "from keras.layers import Dropout"
   ]
  },
  {
   "cell_type": "code",
   "execution_count": 21,
   "metadata": {},
   "outputs": [
    {
     "name": "stderr",
     "output_type": "stream",
     "text": [
      "\n",
      "1 Failed download:\n",
      "['SBIN.NS']: JSONDecodeError('Expecting value: line 1 column 1 (char 0)')\n"
     ]
    }
   ],
   "source": [
    "#We will fetch 6 years of historical prices (https://nsepy.xyz)\n",
    "#of SBIN from 01.01.2013 to 31.12.2018.\n",
    "#So we need to set the start and end dates and pass these parameters \n",
    "#to the function for fetching the data.\n",
    "start = dt.datetime(2013,1,1)\n",
    "end = dt.datetime(2018,12,31)\n",
    "stk_data = gh.download('SBIN.NS',start=start,end=end,progress=False,ignore_tz=True)"
   ]
  },
  {
   "cell_type": "code",
   "execution_count": 14,
   "metadata": {},
   "outputs": [
    {
     "name": "stdout",
     "output_type": "stream",
     "text": [
      "Attempting to download data for the successor company: AMBUJACEM.NS\n"
     ]
    },
    {
     "name": "stderr",
     "output_type": "stream",
     "text": [
      "Failed to get ticker 'AMBUJACEM.NS' reason: Expecting value: line 1 column 1 (char 0)\n",
      "[*********************100%***********************]  1 of 1 completed\n",
      "\n",
      "1 Failed download:\n",
      "['AMBUJACEM.NS']: YFTzMissingError('$%ticker%: possibly delisted; no timezone found')\n"
     ]
    },
    {
     "name": "stdout",
     "output_type": "stream",
     "text": [
      "No data was downloaded.\n"
     ]
    }
   ],
   "source": []
  },
  {
   "cell_type": "code",
   "execution_count": null,
   "metadata": {},
   "outputs": [],
   "source": [
    "stk_data.head()\n"
   ]
  },
  {
   "cell_type": "code",
   "execution_count": null,
   "metadata": {},
   "outputs": [],
   "source": [
    "#We can visualise the fetched data in the above step. \n",
    "#For simplicity, only the day-wise opening prices are visualised.\n",
    "plt.figure(figsize=(14,14))\n",
    "plt.plot(stk_data['Open'])\n",
    "plt.title('Historical Stock Value')\n",
    "plt.xlabel('Date')\n",
    "plt.ylabel('Stock Price')\n",
    "plt.show()\n"
   ]
  },
  {
   "cell_type": "code",
   "execution_count": null,
   "metadata": {},
   "outputs": [],
   "source": [
    "#There are 12 columns in the fetched data. Many of the columns are not of our interest \n",
    "#so only significant columns are selected to create the main dataset.\n",
    "stk_data['Date'] = stk_data.index\n",
    "data2 = pd.DataFrame(columns = ['Date', 'Open', 'High', 'Low', 'Close'])\n",
    "data2['Date'] = stk_data['Date']\n",
    "data2['Open'] = stk_data['Open']\n",
    "data2['High'] = stk_data['High']\n",
    "data2['Low'] = stk_data['Low']\n",
    "data2['Close'] = stk_data['Close']"
   ]
  },
  {
   "cell_type": "code",
   "execution_count": null,
   "metadata": {},
   "outputs": [],
   "source": [
    "data2.head()\n",
    "\n"
   ]
  },
  {
   "cell_type": "code",
   "execution_count": null,
   "metadata": {},
   "outputs": [],
   "source": [
    "data2.shape\n",
    "#data2.iloc[:, 1:2].values\n",
    "\n"
   ]
  },
  {
   "cell_type": "code",
   "execution_count": null,
   "metadata": {},
   "outputs": [],
   "source": [
    "# Preprocess the data in order to prepare it for the LSTM model. \n",
    "#The data fetched in step one is used for training purpose only.\n",
    "train_set = data2.iloc[:, 1:2].values\n",
    "sc = MinMaxScaler(feature_range = (0, 1))\n",
    "training_set_scaled = sc.fit_transform(train_set)\n",
    "X_train = []\n",
    "y_train = []\n",
    "for i in range(60, 1477):\n",
    "    X_train.append(training_set_scaled[i-60:i, 0])\n",
    "    y_train.append(training_set_scaled[i, 0]) \n",
    "X_train, y_train = np.array(X_train), np.array(y_train)\n",
    "X_train = np.reshape(X_train, (X_train.shape[0], X_train.shape[1], 1))"
   ]
  },
  {
   "cell_type": "code",
   "execution_count": null,
   "metadata": {},
   "outputs": [],
   "source": [
    "X_train.shape"
   ]
  },
  {
   "cell_type": "code",
   "execution_count": null,
   "metadata": {},
   "outputs": [],
   "source": [
    "y_train.shape"
   ]
  },
  {
   "cell_type": "code",
   "execution_count": null,
   "metadata": {},
   "outputs": [],
   "source": [
    "# Define the LSTM Recurrent Neural Network. \n",
    "regressor = Sequential()\n",
    "regressor.add(LSTM(units = 50, return_sequences = True, input_shape = (X_train.shape[1], 1)))\n",
    "regressor.add(Dropout(0.2))\n",
    "regressor.add(LSTM(units = 50, return_sequences = True))\n",
    "regressor.add(Dropout(0.2))\n",
    "regressor.add(LSTM(units = 50, return_sequences = True))\n",
    "regressor.add(Dropout(0.2))\n",
    "regressor.add(LSTM(units = 50))\n",
    "regressor.add(Dropout(0.2))\n",
    "regressor.add(Dense(units = 1))\n"
   ]
  },
  {
   "cell_type": "code",
   "execution_count": null,
   "metadata": {},
   "outputs": [],
   "source": [
    "#Compile and train the model \n",
    "regressor.compile(optimizer = 'adam', loss = 'mean_squared_error')\n",
    "regressor.fit(X_train, y_train, epochs = 10, batch_size = 32)\n"
   ]
  },
  {
   "cell_type": "code",
   "execution_count": null,
   "metadata": {},
   "outputs": [],
   "source": [
    "#Model needs to be tested on the testing data. \n",
    "#For this purpose, fetch the new data for a different period. \n",
    "testdataframe= gh.download('SBIN.NS',start=dt.datetime(2019,1,1),end=dt.datetime(2019,9,18))\n",
    "testdataframe['Date'] = testdataframe.index\n",
    "testdata = pd.DataFrame(columns = ['Date', 'Open', 'High', 'Low', 'Close'])\n",
    "testdata['Date'] = testdataframe['Date']\n",
    "testdata['Open'] = testdataframe['Open']\n",
    "testdata['High'] = testdataframe['High']\n",
    "testdata['Low'] = testdataframe['Low']\n",
    "testdata['Close'] = testdataframe['Close']\n",
    "real_stock_price = testdata.iloc[:, 1:2].values\n",
    "dataset_total = pd.concat((data2['Open'], testdata['Open']), axis = 0)\n",
    "inputs = dataset_total[len(dataset_total) - len(testdata) - 60:].values\n",
    "inputs = inputs.reshape(-1,1)\n",
    "inputs = sc.transform(inputs)\n",
    "X_test = []\n",
    "for i in range(60, 235):\n",
    "    X_test.append(inputs[i-60:i, 0])\n",
    "\n",
    "X_test = np.array(X_test)\n",
    "print(X_test.shape)\n",
    "# X_test = np.reshape(X_test, (X_test.shape[0], X_test.shape[1], 1))\n",
    "#X_test = np.reshape(X_test, (X_test.shape[0], 1, 1))\n"
   ]
  },
  {
   "cell_type": "code",
   "execution_count": null,
   "metadata": {},
   "outputs": [],
   "source": [
    "X_test = X_test[:-1]"
   ]
  },
  {
   "cell_type": "code",
   "execution_count": null,
   "metadata": {},
   "outputs": [],
   "source": [
    "# X_test.shape[1], type(X_test), X_train.shape, \n",
    "X_test_ = pd.DataFrame()\n",
    "i = 0\n",
    "# value of i define time span\n",
    "if i < 60:\n",
    "    for x in X_test:\n",
    "        temp = []\n",
    "        for x_ in x:\n",
    "            temp.append(x_)\n",
    "\n",
    "        X_test_[i] = temp\n",
    "        i = i+1\n",
    "        \n",
    "X_test = X_test_.T"
   ]
  },
  {
   "cell_type": "code",
   "execution_count": null,
   "metadata": {},
   "outputs": [],
   "source": [
    "X_test.shape"
   ]
  },
  {
   "cell_type": "code",
   "execution_count": null,
   "metadata": {},
   "outputs": [],
   "source": [
    "X_test = np.reshape(X_test.values, (X_test.shape[0], X_test.shape[1], 1))"
   ]
  },
  {
   "cell_type": "code",
   "execution_count": null,
   "metadata": {},
   "outputs": [],
   "source": [
    "predicted_stock_price = regressor.predict(X_test)\n",
    "predicted_stock_price = sc.inverse_transform(predicted_stock_price)"
   ]
  },
  {
   "cell_type": "code",
   "execution_count": null,
   "metadata": {},
   "outputs": [],
   "source": [
    "#plotting prediction\n",
    "plt.figure(figsize=(20,10))\n",
    "plt.plot(real_stock_price, color = 'green', label = 'SBI Stock Price')\n",
    "plt.plot(predicted_stock_price, color = 'red', label = 'Predicted SBI Stock Price')\n",
    "plt.title('SBI Stock Price Prediction')\n",
    "plt.xlabel('Trading Day')\n",
    "plt.ylabel('SBI Stock Price')\n",
    "plt.legend()\n",
    "plt.show()"
   ]
  },
  {
   "cell_type": "code",
   "execution_count": null,
   "metadata": {},
   "outputs": [],
   "source": []
  },
  {
   "cell_type": "code",
   "execution_count": null,
   "metadata": {},
   "outputs": [],
   "source": []
  }
 ],
 "metadata": {
  "kernelspec": {
   "display_name": "Python 3 (ipykernel)",
   "language": "python",
   "name": "python3"
  },
  "language_info": {
   "codemirror_mode": {
    "name": "ipython",
    "version": 3
   },
   "file_extension": ".py",
   "mimetype": "text/x-python",
   "name": "python",
   "nbconvert_exporter": "python",
   "pygments_lexer": "ipython3",
   "version": "3.12.2"
  }
 },
 "nbformat": 4,
 "nbformat_minor": 4
}
