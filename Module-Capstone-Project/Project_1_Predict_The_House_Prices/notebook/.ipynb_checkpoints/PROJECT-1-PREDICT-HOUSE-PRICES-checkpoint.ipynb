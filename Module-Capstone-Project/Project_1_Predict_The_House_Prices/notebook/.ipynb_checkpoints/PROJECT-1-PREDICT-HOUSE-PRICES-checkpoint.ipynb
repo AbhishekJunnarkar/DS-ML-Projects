{
 "cells": [
  {
   "cell_type": "markdown",
   "id": "b7cc5f2c-a292-4bff-a2de-0bb476bd9c08",
   "metadata": {},
   "source": [
    "# Project 1: Predicting the Housing Prices"
   ]
  },
  {
   "cell_type": "markdown",
   "id": "d0c90ea9-80aa-4ce6-aebc-3819f23a2fcf",
   "metadata": {},
   "source": [
    "## Step 1: Load and Clean the data"
   ]
  },
  {
   "cell_type": "markdown",
   "id": "a6eb773a-99c0-433e-9857-c7f0440e072b",
   "metadata": {},
   "source": [
    "### Step 1.1: Load the Data "
   ]
  },
  {
   "cell_type": "code",
   "execution_count": 16,
   "id": "65e5e425-7a0a-4b0f-a2af-c26d67519330",
   "metadata": {},
   "outputs": [],
   "source": [
    "import pandas as pd\n",
    "# Load the Excel file\n",
    "df = pd.read_excel(\"Dataset-1.xlsx\", engine='openpyxl')\n"
   ]
  },
  {
   "cell_type": "markdown",
   "id": "632995e8-f195-46d4-b80f-b2127fcd6b63",
   "metadata": {},
   "source": [
    "### Step 1.2: Describe the data - [head(), info() and describe()]"
   ]
  },
  {
   "cell_type": "code",
   "execution_count": 17,
   "id": "dc6c2dcb-a101-4e38-9b8d-e06a10ea3ced",
   "metadata": {},
   "outputs": [
    {
     "name": "stdout",
     "output_type": "stream",
     "text": [
      "   longitude  latitude  housing_median_age  total_rooms  total_bedrooms  \\\n",
      "0    -122.23     37.88                  41          880           129.0   \n",
      "1    -122.22     37.86                  21         7099          1106.0   \n",
      "2    -122.25     37.85                  52         1627           280.0   \n",
      "3    -122.25     37.85                  52          919           213.0   \n",
      "4    -122.25     37.84                  52         2535           489.0   \n",
      "\n",
      "   population  households  median_income  median_house_value ocean_proximity  \n",
      "0         322         126         8.3252              452600        NEAR BAY  \n",
      "1        2401        1138         8.3014              358500        NEAR BAY  \n",
      "2         565         259         3.8462              342200        NEAR BAY  \n",
      "3         413         193         4.0368              269700        NEAR BAY  \n",
      "4        1094         514         3.6591              299200        NEAR BAY  \n"
     ]
    }
   ],
   "source": [
    "# Display the first 5 rows\n",
    "print(df.head())"
   ]
  },
  {
   "cell_type": "code",
   "execution_count": 18,
   "id": "0d10812a-dac3-4721-bb57-042cb6af86c5",
   "metadata": {},
   "outputs": [
    {
     "name": "stdout",
     "output_type": "stream",
     "text": [
      "          longitude      latitude  housing_median_age   total_rooms  \\\n",
      "count  18565.000000  18565.000000        18565.000000  18565.000000   \n",
      "mean    -119.570116     35.633888           28.615890   2634.033827   \n",
      "std        2.002922      2.137014           12.564224   2195.915548   \n",
      "min     -124.350000     32.540000            1.000000      2.000000   \n",
      "25%     -121.800000     33.930000           18.000000   1442.000000   \n",
      "50%     -118.500000     34.260000           29.000000   2123.000000   \n",
      "75%     -118.010000     37.710000           37.000000   3141.000000   \n",
      "max     -114.310000     41.950000           52.000000  39320.000000   \n",
      "\n",
      "       total_bedrooms    population    households  median_income  \\\n",
      "count    18376.000000  18565.000000  18565.000000   18565.000000   \n",
      "mean       537.711199   1426.223108    499.450902       3.867012   \n",
      "std        424.125849   1142.570832    384.553175       1.895988   \n",
      "min          2.000000      3.000000      2.000000       0.499900   \n",
      "25%        295.000000    786.000000    279.000000       2.561200   \n",
      "50%        434.000000   1166.000000    408.000000       3.534100   \n",
      "75%        646.000000   1725.000000    603.000000       4.741100   \n",
      "max       6445.000000  35682.000000   6082.000000      15.000100   \n",
      "\n",
      "       median_house_value  \n",
      "count        18565.000000  \n",
      "mean        206617.794991  \n",
      "std         115447.104881  \n",
      "min          14999.000000  \n",
      "25%         119300.000000  \n",
      "50%         179400.000000  \n",
      "75%         264400.000000  \n",
      "max         500001.000000  \n"
     ]
    }
   ],
   "source": [
    "print(df.describe())"
   ]
  },
  {
   "cell_type": "code",
   "execution_count": 19,
   "id": "0e176646-05bc-4252-b713-86442539214c",
   "metadata": {},
   "outputs": [
    {
     "name": "stdout",
     "output_type": "stream",
     "text": [
      "<class 'pandas.core.frame.DataFrame'>\n",
      "RangeIndex: 18565 entries, 0 to 18564\n",
      "Data columns (total 10 columns):\n",
      " #   Column              Non-Null Count  Dtype  \n",
      "---  ------              --------------  -----  \n",
      " 0   longitude           18565 non-null  float64\n",
      " 1   latitude            18565 non-null  float64\n",
      " 2   housing_median_age  18565 non-null  int64  \n",
      " 3   total_rooms         18565 non-null  int64  \n",
      " 4   total_bedrooms      18376 non-null  float64\n",
      " 5   population          18565 non-null  int64  \n",
      " 6   households          18565 non-null  int64  \n",
      " 7   median_income       18565 non-null  float64\n",
      " 8   median_house_value  18565 non-null  int64  \n",
      " 9   ocean_proximity     18565 non-null  object \n",
      "dtypes: float64(4), int64(5), object(1)\n",
      "memory usage: 1.4+ MB\n",
      "None\n"
     ]
    }
   ],
   "source": [
    "print(df.info())"
   ]
  },
  {
   "cell_type": "markdown",
   "id": "f8951a49-d236-4185-87a6-5702b886fc28",
   "metadata": {},
   "source": [
    "### Step 1.3: Identify and handle missing values"
   ]
  },
  {
   "cell_type": "markdown",
   "id": "7c183eca-a5f7-4cb3-b2c9-226197aded78",
   "metadata": {},
   "source": [
    "Bedrooms column has empty data for 189 rows, replace with mean or median values"
   ]
  },
  {
   "cell_type": "markdown",
   "id": "5649c5f3-7adc-4d7f-beec-f61344bbbbda",
   "metadata": {},
   "source": [
    "## Step 2: Split the data - Test or Train"
   ]
  },
  {
   "cell_type": "code",
   "execution_count": null,
   "id": "45214b5e-2030-409f-8e0d-1111771da67a",
   "metadata": {},
   "outputs": [],
   "source": []
  },
  {
   "cell_type": "code",
   "execution_count": null,
   "id": "aa5ba62e-781c-40dc-9083-14555e4cd5f1",
   "metadata": {},
   "outputs": [],
   "source": []
  },
  {
   "cell_type": "code",
   "execution_count": null,
   "id": "05c2eb29-4c10-4045-b7b1-45a4cfce4a33",
   "metadata": {},
   "outputs": [],
   "source": []
  },
  {
   "cell_type": "code",
   "execution_count": null,
   "id": "970b4ec4-8810-47ba-9e37-4bd5893a7330",
   "metadata": {},
   "outputs": [],
   "source": []
  },
  {
   "cell_type": "markdown",
   "id": "ad0fe3c9-beba-4f57-a195-b8f343c73e9a",
   "metadata": {},
   "source": [
    "## Step 3: One hot encoding - Convert Categorical into Binary"
   ]
  },
  {
   "cell_type": "code",
   "execution_count": null,
   "id": "121c0120-47f5-490c-ab69-f9ebcda9e878",
   "metadata": {},
   "outputs": [],
   "source": []
  },
  {
   "cell_type": "code",
   "execution_count": null,
   "id": "4614aa26-9c2e-4b41-86a3-1486f997b232",
   "metadata": {},
   "outputs": [],
   "source": []
  },
  {
   "cell_type": "code",
   "execution_count": null,
   "id": "0a02b1be-a4aa-40c4-9634-30a1ba86f92c",
   "metadata": {},
   "outputs": [],
   "source": []
  },
  {
   "cell_type": "code",
   "execution_count": null,
   "id": "d0b5224b-8405-40af-bbf4-a22e9c21f468",
   "metadata": {},
   "outputs": [],
   "source": []
  },
  {
   "cell_type": "markdown",
   "id": "eb7f41d3-5ff0-411a-bd78-55b0fa55e457",
   "metadata": {},
   "source": [
    "## Step 4: Build the Model"
   ]
  },
  {
   "cell_type": "code",
   "execution_count": null,
   "id": "89f85a77-9f5a-4c01-ad90-81f888f5762d",
   "metadata": {},
   "outputs": [],
   "source": []
  },
  {
   "cell_type": "code",
   "execution_count": null,
   "id": "63854a24-a14c-4367-b9b1-1d91cb1cd156",
   "metadata": {},
   "outputs": [],
   "source": []
  },
  {
   "cell_type": "code",
   "execution_count": null,
   "id": "f917bbff-f5e0-4ec0-8cc6-59eee9fa15eb",
   "metadata": {},
   "outputs": [],
   "source": []
  },
  {
   "cell_type": "code",
   "execution_count": null,
   "id": "fcf9173d-a1e2-4209-86c7-a80b4aa7ee3c",
   "metadata": {},
   "outputs": [],
   "source": []
  },
  {
   "cell_type": "code",
   "execution_count": null,
   "id": "3c5d973c-e1f9-44ec-a0e1-9e40a27b92e4",
   "metadata": {},
   "outputs": [],
   "source": []
  },
  {
   "cell_type": "markdown",
   "id": "2042967c-42d9-44c8-9cad-6a729d5d9d34",
   "metadata": {},
   "source": [
    "## Step 5: Evaluate and Optimize the Performance"
   ]
  },
  {
   "cell_type": "code",
   "execution_count": null,
   "id": "3fa93f6c-fad7-4bdd-b8a8-03170118a9b8",
   "metadata": {},
   "outputs": [],
   "source": []
  },
  {
   "cell_type": "code",
   "execution_count": null,
   "id": "095b49b6-e9fe-4764-8c25-b70bf2cdf111",
   "metadata": {},
   "outputs": [],
   "source": []
  },
  {
   "cell_type": "code",
   "execution_count": null,
   "id": "9ff44b2f-78bd-45a5-b8bc-26f9581585b6",
   "metadata": {},
   "outputs": [],
   "source": []
  },
  {
   "cell_type": "code",
   "execution_count": null,
   "id": "895a4acc-f78b-4f8f-a18b-5416bf291474",
   "metadata": {},
   "outputs": [],
   "source": []
  },
  {
   "cell_type": "code",
   "execution_count": null,
   "id": "2442b559-d963-48f0-9238-9a5bf5ab5778",
   "metadata": {},
   "outputs": [],
   "source": []
  },
  {
   "cell_type": "code",
   "execution_count": null,
   "id": "952aaef1-955a-4b84-abc8-022bd3b42a2d",
   "metadata": {},
   "outputs": [],
   "source": []
  }
 ],
 "metadata": {
  "kernelspec": {
   "display_name": "Python 3 (ipykernel)",
   "language": "python",
   "name": "python3"
  },
  "language_info": {
   "codemirror_mode": {
    "name": "ipython",
    "version": 3
   },
   "file_extension": ".py",
   "mimetype": "text/x-python",
   "name": "python",
   "nbconvert_exporter": "python",
   "pygments_lexer": "ipython3",
   "version": "3.12.2"
  }
 },
 "nbformat": 4,
 "nbformat_minor": 5
}
