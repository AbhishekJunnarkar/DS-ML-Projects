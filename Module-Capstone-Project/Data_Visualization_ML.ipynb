{
 "cells": [
  {
   "cell_type": "markdown",
   "metadata": {},
   "source": [
    "# 📊 Data Visualization in Machine Learning
",
    "
",
    "This notebook explores different types of data visualizations categorized by their purposes in Machine Learning and Data Science.
",
    "
",
    "---"
   ]
  },
  {
   "cell_type": "markdown",
   "metadata": {},
   "source": [
    "## 🔷 1. Comparison Charts
",
    "**Purpose:** Compare values across categories or over time."
   ]
  },
  {
   "cell_type": "code",
   "execution_count": null,
   "metadata": {},
   "outputs": [],
   "source": [
    "import matplotlib.pyplot as plt
",
    "
",
    "# Line Chart Example: Sales Over Years
",
    "years = [2019, 2020, 2021]
",
    "sales = [100, 150, 200]
",
    "
",
    "plt.plot(years, sales, marker='o')
",
    "plt.title('Sales Over Years')
",
    "plt.xlabel('Year')
",
    "plt.ylabel('Sales')
",
    "plt.grid(True)
",
    "plt.show()"
   ]
  },
  {
   "cell_type": "markdown",
   "metadata": {},
   "source": [
    "## 🔷 2. Relationship Charts
",
    "**Purpose:** Show how two or more variables relate."
   ]
  },
  {
   "cell_type": "code",
   "execution_count": null,
   "metadata": {},
   "outputs": [],
   "source": [
    "import seaborn as sns
",
    "import pandas as pd
",
    "
",
    "# Example dataset
",
    "df = pd.DataFrame({
",
    "    'Age': [25, 30, 35, 40, 45],
",
    "    'Salary': [30000, 35000, 50000, 60000, 70000]
",
    "})
",
    "
",
    "# Scatter Plot: Age vs Salary
",
    "sns.scatterplot(x='Age', y='Salary', data=df)
",
    "plt.title('Age vs Salary')
",
    "plt.show()"
   ]
  },
  {
   "cell_type": "markdown",
   "metadata": {},
   "source": [
    "## 🔷 3. Distribution Charts
",
    "**Purpose:** Understand how data is spread or distributed."
   ]
  },
  {
   "cell_type": "code",
   "execution_count": null,
   "metadata": {},
   "outputs": [],
   "source": [
    "# Box Plot Example
",
    "df_box = pd.DataFrame({
",
    "    'Gender': ['M', 'F', 'M', 'F', 'M', 'F'],
",
    "    'Salary': [50000, 52000, 48000, 51000, 53000, 49500]
",
    "})
",
    "
",
    "sns.boxplot(x='Gender', y='Salary', data=df_box)
",
    "plt.title('Salary Distribution by Gender')
",
    "plt.show()"
   ]
  },
  {
   "cell_type": "markdown",
   "metadata": {},
   "source": [
    "## 🔷 4. Composition Charts
",
    "**Purpose:** Show part-to-whole relationships."
   ]
  },
  {
   "cell_type": "code",
   "execution_count": null,
   "metadata": {},
   "outputs": [],
   "source": [
    "# Pie Chart Example
",
    "labels = ['Product A', 'Product B', 'Product C']
",
    "sizes = [40, 35, 25]
",
    "
",
    "plt.pie(sizes, labels=labels, autopct='%1.1f%%', startangle=90)
",
    "plt.title('Market Share by Product')
",
    "plt.axis('equal')  # Equal aspect ratio ensures that pie is drawn as a circle.
",
    "plt.show()"
   ]
  },
  {
   "cell_type": "markdown",
   "metadata": {},
   "source": [
    "## ✅ Summary: When to Use What
",
    "
",
    "| Goal                  | Use                            |
",
    "|-----------------------|---------------------------------|
",
    "| Compare categories    | Bar, Column, Line               |
",
    "| See relationships     | Scatter, Pair Plot, Heatmap     |
",
    "| View distribution     | Histogram, Box, Violin          |
",
    "| Show composition      | Pie, Stacked Bar, Treemap       |
",
    "| Map-based patterns    | Choropleth, Scatter Map         |
",
    "| Time-based trend      | Line Chart, Area Chart          |"
   ]
  }
 ],
 "metadata": {
  "kernelspec": {
   "display_name": "Python 3",
   "language": "python",
   "name": "python3"
  },
  "language_info": {
   "name": "python",
   "version": ""
  }
 },
 "nbformat": 4,
 "nbformat_minor": 2
}
