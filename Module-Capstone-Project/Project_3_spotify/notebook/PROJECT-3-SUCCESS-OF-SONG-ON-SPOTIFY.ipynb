{
 "cells": [
  {
   "cell_type": "markdown",
   "id": "02f7d1f3-3c94-4b24-9417-a655d4825e69",
   "metadata": {},
   "source": [
    "# PROJECT 3 : SUCCESS OF SONG ON SPOTIFY"
   ]
  },
  {
   "cell_type": "markdown",
   "id": "841ab05b-b6a2-4fcd-9fd4-563ad1e06453",
   "metadata": {},
   "source": [
    "## Step 1: Load and Clean the data"
   ]
  },
  {
   "cell_type": "markdown",
   "id": "1409583a-fb38-429d-b2d4-46bbfefcb6b3",
   "metadata": {},
   "source": [
    "### Step 1.1: Load the Data "
   ]
  },
  {
   "cell_type": "code",
   "execution_count": 2,
   "id": "0c9f606e-5a22-4043-a962-663c23c78109",
   "metadata": {},
   "outputs": [],
   "source": [
    "import pandas as pd\n",
    "# Load the CSV file\n",
    "df = pd.read_csv(\"dataset 3-1.csv\")"
   ]
  },
  {
   "cell_type": "markdown",
   "id": "1abc51e1-ec65-4831-93a0-3b07de15051e",
   "metadata": {},
   "source": [
    "### Step 1.2: Describe the data - [head(), info() and describe()]"
   ]
  },
  {
   "cell_type": "code",
   "execution_count": 3,
   "id": "a68033d6-e6e6-4286-b4af-548b7591a835",
   "metadata": {},
   "outputs": [
    {
     "name": "stdout",
     "output_type": "stream",
     "text": [
      "   Unnamed: 0                track_id                 artists  \\\n",
      "0           0  5SuOikwiRyPMVoIQDJUgSV             Gen Hoshino   \n",
      "1           1  4qPNDBW1i3p13qLCt0Ki3A            Ben Woodward   \n",
      "2           2  1iJBSr7s7jYXzM8EGcbK5b  Ingrid Michaelson;ZAYN   \n",
      "3           3  6lfxq3CG4xtTiEg7opyCyx            Kina Grannis   \n",
      "4           4  5vjLSffimiIP26QG5WcN2K        Chord Overstreet   \n",
      "\n",
      "                                          album_name  \\\n",
      "0                                             Comedy   \n",
      "1                                   Ghost (Acoustic)   \n",
      "2                                     To Begin Again   \n",
      "3  Crazy Rich Asians (Original Motion Picture Sou...   \n",
      "4                                            Hold On   \n",
      "\n",
      "                   track_name  popularity  duration_ms  explicit  \\\n",
      "0                      Comedy          73       230666     False   \n",
      "1            Ghost - Acoustic          55       149610     False   \n",
      "2              To Begin Again          57       210826     False   \n",
      "3  Can't Help Falling In Love          71       201933     False   \n",
      "4                     Hold On          82       198853     False   \n",
      "\n",
      "   danceability  energy  ...  loudness  mode  speechiness  acousticness  \\\n",
      "0         0.676  0.4610  ...    -6.746     0       0.1430        0.0322   \n",
      "1         0.420  0.1660  ...   -17.235     1       0.0763        0.9240   \n",
      "2         0.438  0.3590  ...    -9.734     1       0.0557        0.2100   \n",
      "3         0.266  0.0596  ...   -18.515     1       0.0363        0.9050   \n",
      "4         0.618  0.4430  ...    -9.681     1       0.0526        0.4690   \n",
      "\n",
      "   instrumentalness  liveness  valence    tempo  time_signature  track_genre  \n",
      "0          0.000001    0.3580    0.715   87.917               4     acoustic  \n",
      "1          0.000006    0.1010    0.267   77.489               4     acoustic  \n",
      "2          0.000000    0.1170    0.120   76.332               4     acoustic  \n",
      "3          0.000071    0.1320    0.143  181.740               3     acoustic  \n",
      "4          0.000000    0.0829    0.167  119.949               4     acoustic  \n",
      "\n",
      "[5 rows x 21 columns]\n"
     ]
    }
   ],
   "source": [
    "# Display the first 5 rows\n",
    "print(df.head())"
   ]
  },
  {
   "cell_type": "code",
   "execution_count": 4,
   "id": "24bb5153-e9ca-4580-af56-66a62923f83b",
   "metadata": {},
   "outputs": [
    {
     "name": "stdout",
     "output_type": "stream",
     "text": [
      "<class 'pandas.core.frame.DataFrame'>\n",
      "RangeIndex: 114000 entries, 0 to 113999\n",
      "Data columns (total 21 columns):\n",
      " #   Column            Non-Null Count   Dtype  \n",
      "---  ------            --------------   -----  \n",
      " 0   Unnamed: 0        114000 non-null  int64  \n",
      " 1   track_id          114000 non-null  object \n",
      " 2   artists           113999 non-null  object \n",
      " 3   album_name        113999 non-null  object \n",
      " 4   track_name        113999 non-null  object \n",
      " 5   popularity        114000 non-null  int64  \n",
      " 6   duration_ms       114000 non-null  int64  \n",
      " 7   explicit          114000 non-null  bool   \n",
      " 8   danceability      114000 non-null  float64\n",
      " 9   energy            114000 non-null  float64\n",
      " 10  key               114000 non-null  int64  \n",
      " 11  loudness          114000 non-null  float64\n",
      " 12  mode              114000 non-null  int64  \n",
      " 13  speechiness       114000 non-null  float64\n",
      " 14  acousticness      114000 non-null  float64\n",
      " 15  instrumentalness  114000 non-null  float64\n",
      " 16  liveness          114000 non-null  float64\n",
      " 17  valence           114000 non-null  float64\n",
      " 18  tempo             114000 non-null  float64\n",
      " 19  time_signature    114000 non-null  int64  \n",
      " 20  track_genre       114000 non-null  object \n",
      "dtypes: bool(1), float64(9), int64(6), object(5)\n",
      "memory usage: 17.5+ MB\n",
      "None\n"
     ]
    }
   ],
   "source": [
    "print(df.info())"
   ]
  },
  {
   "cell_type": "code",
   "execution_count": 5,
   "id": "3c387a80-b9f4-4104-8177-e5b6a821e89a",
   "metadata": {},
   "outputs": [
    {
     "name": "stdout",
     "output_type": "stream",
     "text": [
      "          Unnamed: 0     popularity   duration_ms   danceability  \\\n",
      "count  114000.000000  114000.000000  1.140000e+05  114000.000000   \n",
      "mean    56999.500000      33.238535  2.280292e+05       0.566800   \n",
      "std     32909.109681      22.305078  1.072977e+05       0.173542   \n",
      "min         0.000000       0.000000  0.000000e+00       0.000000   \n",
      "25%     28499.750000      17.000000  1.740660e+05       0.456000   \n",
      "50%     56999.500000      35.000000  2.129060e+05       0.580000   \n",
      "75%     85499.250000      50.000000  2.615060e+05       0.695000   \n",
      "max    113999.000000     100.000000  5.237295e+06       0.985000   \n",
      "\n",
      "              energy            key       loudness           mode  \\\n",
      "count  114000.000000  114000.000000  114000.000000  114000.000000   \n",
      "mean        0.641383       5.309140      -8.258960       0.637553   \n",
      "std         0.251529       3.559987       5.029337       0.480709   \n",
      "min         0.000000       0.000000     -49.531000       0.000000   \n",
      "25%         0.472000       2.000000     -10.013000       0.000000   \n",
      "50%         0.685000       5.000000      -7.004000       1.000000   \n",
      "75%         0.854000       8.000000      -5.003000       1.000000   \n",
      "max         1.000000      11.000000       4.532000       1.000000   \n",
      "\n",
      "         speechiness   acousticness  instrumentalness       liveness  \\\n",
      "count  114000.000000  114000.000000     114000.000000  114000.000000   \n",
      "mean        0.084652       0.314910          0.156050       0.213553   \n",
      "std         0.105732       0.332523          0.309555       0.190378   \n",
      "min         0.000000       0.000000          0.000000       0.000000   \n",
      "25%         0.035900       0.016900          0.000000       0.098000   \n",
      "50%         0.048900       0.169000          0.000042       0.132000   \n",
      "75%         0.084500       0.598000          0.049000       0.273000   \n",
      "max         0.965000       0.996000          1.000000       1.000000   \n",
      "\n",
      "             valence          tempo  time_signature  \n",
      "count  114000.000000  114000.000000   114000.000000  \n",
      "mean        0.474068     122.147837        3.904035  \n",
      "std         0.259261      29.978197        0.432621  \n",
      "min         0.000000       0.000000        0.000000  \n",
      "25%         0.260000      99.218750        4.000000  \n",
      "50%         0.464000     122.017000        4.000000  \n",
      "75%         0.683000     140.071000        4.000000  \n",
      "max         0.995000     243.372000        5.000000  \n"
     ]
    }
   ],
   "source": [
    "print(df.describe())"
   ]
  },
  {
   "cell_type": "code",
   "execution_count": null,
   "id": "95c0b1f2-6088-4120-95bf-9d78f29d47ed",
   "metadata": {},
   "outputs": [],
   "source": []
  }
 ],
 "metadata": {
  "kernelspec": {
   "display_name": "Python 3 (ipykernel)",
   "language": "python",
   "name": "python3"
  },
  "language_info": {
   "codemirror_mode": {
    "name": "ipython",
    "version": 3
   },
   "file_extension": ".py",
   "mimetype": "text/x-python",
   "name": "python",
   "nbconvert_exporter": "python",
   "pygments_lexer": "ipython3",
   "version": "3.12.2"
  }
 },
 "nbformat": 4,
 "nbformat_minor": 5
}
