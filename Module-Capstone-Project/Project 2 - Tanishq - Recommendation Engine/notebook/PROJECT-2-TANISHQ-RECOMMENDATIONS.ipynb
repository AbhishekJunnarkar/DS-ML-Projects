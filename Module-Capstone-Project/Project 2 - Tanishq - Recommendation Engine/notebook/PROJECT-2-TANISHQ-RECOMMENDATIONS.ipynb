{
 "cells": [
  {
   "cell_type": "markdown",
   "id": "0f5cd2cf-9e53-438b-a126-8f4a289d7256",
   "metadata": {},
   "source": [
    "# PROJECT 2 : TANISHQ RECOMMENDATIONS"
   ]
  },
  {
   "cell_type": "markdown",
   "id": "b76f389b-293c-4690-b884-ab9e21a905a8",
   "metadata": {},
   "source": [
    "## Step 1: Load and Clean the data"
   ]
  },
  {
   "cell_type": "markdown",
   "id": "3bdce3d1-6d16-492d-9c3f-b5cda86e1df8",
   "metadata": {},
   "source": [
    "### Step 1.1: Load the Data "
   ]
  },
  {
   "cell_type": "code",
   "execution_count": 7,
   "id": "f82e18fc-3def-410f-ba6a-65e610d09489",
   "metadata": {},
   "outputs": [],
   "source": [
    "import pandas as pd\n",
    "# Load the CSV file\n",
    "# df = pd.read_csv(\"tanishq_final2.csv\")\n",
    "# df = pd.read_csv(\"X.csv\")\n",
    "#df = pd.read_csv(\"y.csv\")"
   ]
  },
  {
   "cell_type": "markdown",
   "id": "6db1144d-24be-4f3a-9387-4db020e4a72c",
   "metadata": {},
   "source": [
    "### Step 1.2: Describe the data - [head(), info() and describe()]"
   ]
  },
  {
   "cell_type": "code",
   "execution_count": null,
   "id": "d8dc63c7-08ad-446f-947f-26ef1f532aa7",
   "metadata": {},
   "outputs": [],
   "source": [
    "# Display the first 5 rows\n",
    "print(df.head())"
   ]
  },
  {
   "cell_type": "code",
   "execution_count": null,
   "id": "ac3389b9-b875-41da-81bb-0ba6f43909aa",
   "metadata": {},
   "outputs": [],
   "source": [
    "print(df.info())"
   ]
  },
  {
   "cell_type": "code",
   "execution_count": null,
   "id": "8f5c9b4f-c496-442e-b899-ea0922c6e284",
   "metadata": {},
   "outputs": [],
   "source": [
    "print(df.describe())"
   ]
  },
  {
   "cell_type": "code",
   "execution_count": null,
   "id": "6ebf8921-2b69-4919-8840-0d69d0e1b08a",
   "metadata": {},
   "outputs": [],
   "source": []
  },
  {
   "cell_type": "code",
   "execution_count": null,
   "id": "9cd5c1d2-beea-41a4-b161-2768c866a55f",
   "metadata": {},
   "outputs": [],
   "source": []
  }
 ],
 "metadata": {
  "kernelspec": {
   "display_name": "Python 3 (ipykernel)",
   "language": "python",
   "name": "python3"
  },
  "language_info": {
   "codemirror_mode": {
    "name": "ipython",
    "version": 3
   },
   "file_extension": ".py",
   "mimetype": "text/x-python",
   "name": "python",
   "nbconvert_exporter": "python",
   "pygments_lexer": "ipython3",
   "version": "3.12.2"
  }
 },
 "nbformat": 4,
 "nbformat_minor": 5
}
