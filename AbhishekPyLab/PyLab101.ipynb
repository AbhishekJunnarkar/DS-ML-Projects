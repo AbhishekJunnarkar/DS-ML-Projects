{
 "cells": [
  {
   "cell_type": "code",
   "execution_count": 20,
   "id": "a4619d26-7d67-4312-9243-3e1867994da6",
   "metadata": {},
   "outputs": [
    {
     "name": "stdout",
     "output_type": "stream",
     "text": [
      "Hello world\n",
      "10\n",
      "<class 'int'>\n",
      "10.5\n",
      "<class 'float'>\n",
      "abhi\n",
      "<class 'str'>\n",
      "6 5 8 9 2 9\n",
      "1 1 1 3 7 1\n",
      "0 0 4 3 5 3\n",
      "5 3 5 2 8 0\n",
      "0 3 4 0 7 3\n",
      "3 8 0 3 1 1\n",
      "2 5 6 2 2 5\n",
      "5 7 6 3 6 7\n",
      "3 7 0 6 1 9\n",
      "0 2 2 2 5 4\n",
      "sun\n",
      "mon\n",
      "day\n",
      "Wednesday\n"
     ]
    }
   ],
   "source": [
    "## 1. Print hello world\n",
    "print(\"Hello world\")\n",
    "\n",
    "# Basic Examples\n",
    "\n",
    "## 2. Print and value and its type\n",
    "\n",
    "a=10\n",
    "print(a)\n",
    "print(type(a))\n",
    "\n",
    "## 3. Print a float value and its type\n",
    "\n",
    "b=10.5\n",
    "print(b)\n",
    "print(type(b))\n",
    "\n",
    "## 4. Print a string and its type\n",
    "\n",
    "c='abhi'\n",
    "print(c)\n",
    "print(type(c))\n",
    "\n",
    "## 5. WAP to generate a 6 digit otp number\n",
    "\n",
    "from random import randint\n",
    "for i in range (10):\n",
    "  print(randint(0,9),randint(0,9),randint(0,9),randint(0,9),randint(0,9),randint(0,9))\n",
    "\n",
    "## 6. WAP to print all the keywords in Python\n",
    "import keyword\n",
    "keyword.kwlist\n",
    "\n",
    "## 7. WAP to use slice operator with begin and end index\n",
    "s = 'sunday'\n",
    "slice_str = s[0:3]\n",
    "print(slice_str)\n",
    "\n",
    "## 8. WAP to use slice operator with end index only\n",
    "\n",
    "s='monday'\n",
    "sl=s[:3]\n",
    "print(sl)\n",
    "\n",
    "## 9. WAP to use the slice operator with start index only\n",
    "s='Tuesday'\n",
    "sl=s[4:]\n",
    "print(sl)\n",
    "\n",
    "## 10. WAP to print whole string given that both starting and ending index are not given\n",
    "s='Wednesday'\n",
    "sl=s[:]\n",
    "print(sl)\n",
    "\n"
   ]
  },
  {
   "cell_type": "code",
   "execution_count": null,
   "id": "fd28166f-6028-4067-8c3d-78a849f8fcaf",
   "metadata": {},
   "outputs": [],
   "source": []
  },
  {
   "cell_type": "code",
   "execution_count": 19,
   "id": "dec6c52e-cedf-4197-8c00-28410a5ccfd4",
   "metadata": {},
   "outputs": [
    {
     "name": "stdout",
     "output_type": "stream",
     "text": [
      "[2, 3, 4]\n",
      "['c', 'd', 'e']\n",
      "[20, 40, 60, 80]\n",
      "[5, 4, 3, 2, 1]\n",
      "[100, 200, 300]\n",
      "[400, 500]\n",
      "cde\n",
      "geca\n",
      "(20, 30, 40)\n",
      "[]\n",
      "[1, 20, 30, 5]\n",
      "[100]\n"
     ]
    }
   ],
   "source": [
    "# Examples of slicing operator  \n",
    "\n",
    "## 11. WAP to showcase basic slicing of a list \n",
    "lst = [0, 1, 2, 3, 4, 5, 6, 7, 8, 9]\n",
    "print(lst[2:5])  # [2, 3, 4]\n",
    "\n",
    "## 12. WAP to showcase slicing with negative indexes\n",
    "\n",
    "lst = ['a', 'b', 'c', 'd', 'e', 'f']\n",
    "print(lst[-4:-1])  # ['c', 'd', 'e']\n",
    "\n",
    "## 13. WAP to showcase slicing with step\n",
    "\n",
    "lst = [10, 20, 30, 40, 50, 60, 70, 80, 90]\n",
    "print(lst[1:8:2])  # [20, 40, 60, 80]\n",
    "\n",
    "## 14. WAP to reverse a list\n",
    "\n",
    "lst = [1, 2, 3, 4, 5]\n",
    "print(lst[::-1])  # [5, 4, 3, 2, 1]\n",
    "\n",
    "## 15. WAP to omit starting and ending indexes of a string\n",
    "\n",
    "lst = [100, 200, 300, 400, 500]\n",
    "print(lst[:3])  # [100, 200, 300]\n",
    "print(lst[3:])  # [400, 500]\n",
    "\n",
    "## 16. WAP to showcase string slicing\n",
    "\n",
    "text = \"abcdefg\"\n",
    "print(text[2:5])  # \"cde\"\n",
    "print(text[::-2])  # \"geca\"\n",
    "\n",
    "## 17. WAP to showcase slicing a tuple\n",
    "\n",
    "tup = (10, 20, 30, 40, 50, 60)\n",
    "print(tup[1:4])  # (20, 30, 40)\n",
    "\n",
    "## 18. WAP to showcase empty slicing result for longer indexes\n",
    "\n",
    "lst = [1, 2, 3, 4, 5]\n",
    "print(lst[10:15])  # []\n",
    "\n",
    "## 19. WAP to showcase modifying a list using a slicing operator\n",
    "\n",
    "lst = [1, 2, 3, 4, 5]\n",
    "lst[1:4] = [20, 30]\n",
    "print(lst)  # [1, 20, 30, 5]\n",
    "\n",
    "## 20. WAP to showcase the result when a list is stepped more then its length\n",
    "\n",
    "lst = [100, 200, 300]\n",
    "print(lst[::4])  # [100]\n"
   ]
  },
  {
   "cell_type": "raw",
   "id": "9cbcfc81-d7fb-47c5-9e25-8b584c1331f4",
   "metadata": {},
   "source": []
  },
  {
   "cell_type": "code",
   "execution_count": 21,
   "id": "740e0179-fae1-4bc6-be96-0618447459fa",
   "metadata": {},
   "outputs": [
    {
     "name": "stdout",
     "output_type": "stream",
     "text": [
      "frozenset({50, 20, 40, 10, 30})\n",
      "<class 'frozenset'>\n"
     ]
    }
   ],
   "source": [
    "# Examples of Frozen Set\n",
    "## 21. WAP to create a Frozenset from a set\n",
    "s={10,20,30,40,50}\n",
    "fs=frozenset(s)\n",
    "print(fs)\n",
    "print(type(fs))"
   ]
  },
  {
   "cell_type": "code",
   "execution_count": 23,
   "id": "202ac52a-ae58-45d8-b198-d94c5c67eaf3",
   "metadata": {},
   "outputs": [
    {
     "name": "stdout",
     "output_type": "stream",
     "text": [
      "frozenset({40, 10, 50, 20, 60, 30})\n",
      "<class 'frozenset'>\n"
     ]
    }
   ],
   "source": [
    "## 22. WAP to create a Frozenset from scratch\n",
    "fs=frozenset([10,20,30,40,50,60])\n",
    "print(fs)\n",
    "print(type(fs))"
   ]
  },
  {
   "cell_type": "code",
   "execution_count": 30,
   "id": "f3caf4c1-31cc-44fc-82ae-4d5139598359",
   "metadata": {},
   "outputs": [
    {
     "name": "stdout",
     "output_type": "stream",
     "text": [
      "frozenset({'o', 'e', 'h', 'l'})\n",
      "<class 'frozenset'>\n",
      "Notice the duplicate \"l\" is gone and the order is gone as well\n"
     ]
    }
   ],
   "source": [
    "## 23. WAP to print a frozenset from a string\n",
    "s=frozenset('hello')\n",
    "fs=frozenset(s)\n",
    "print(fs)\n",
    "print(type(fs))\n",
    "print('Notice the duplicate \"l\" is gone and the order is gone as well')"
   ]
  },
  {
   "cell_type": "code",
   "execution_count": 31,
   "id": "846e92d7-90ee-4a35-8698-dd3539b6180b",
   "metadata": {},
   "outputs": [
    {
     "name": "stdout",
     "output_type": "stream",
     "text": [
      "frozenset({40, 10, 20, 30})\n"
     ]
    }
   ],
   "source": [
    "## 24. WAP to Print Frozenset from a Tuple\n",
    "fs = frozenset((10, 20, 30, 40))\n",
    "print(fs)  # frozenset({10, 20, 30, 40})"
   ]
  },
  {
   "cell_type": "code",
   "execution_count": 32,
   "id": "ad46f71b-2eed-46e3-98c2-a6cee4ef1bd3",
   "metadata": {},
   "outputs": [
    {
     "name": "stdout",
     "output_type": "stream",
     "text": [
      "True\n",
      "False\n"
     ]
    }
   ],
   "source": [
    "## 25. WAP to test if a value is part of a frozenset\n",
    "fs = frozenset([1, 2, 3])\n",
    "print(2 in fs)  # True\n",
    "print(4 in fs)  # False"
   ]
  },
  {
   "cell_type": "code",
   "execution_count": 35,
   "id": "965b5794-38db-4d77-80f4-39000e8f97a5",
   "metadata": {},
   "outputs": [
    {
     "name": "stdout",
     "output_type": "stream",
     "text": [
      "value1\n"
     ]
    }
   ],
   "source": [
    "## 26. WAP to use frozen set as dictionary keys\n",
    "my_dict = {frozenset([1,2]):'value1',frozenset([3,4]):'value2'}\n",
    "print(my_dict[frozenset([1,2])])"
   ]
  },
  {
   "cell_type": "code",
   "execution_count": 36,
   "id": "2ca709eb-7e39-4256-a3d0-6c835e3126d0",
   "metadata": {},
   "outputs": [
    {
     "name": "stdout",
     "output_type": "stream",
     "text": [
      "frozenset({1, 2, 3, 4, 5})\n"
     ]
    }
   ],
   "source": [
    "## 27. WAP to perform union of two frozensets\n",
    "fs1 = frozenset([1, 2, 3])\n",
    "fs2 = frozenset([3, 4, 5])\n",
    "union = fs1 | fs2\n",
    "print(union)  # frozenset({1, 2, 3, 4, 5})"
   ]
  },
  {
   "cell_type": "code",
   "execution_count": 37,
   "id": "00702539-e0a5-4ffa-be3d-c4b8631b53c6",
   "metadata": {},
   "outputs": [
    {
     "name": "stdout",
     "output_type": "stream",
     "text": [
      "frozenset({2, 3})\n"
     ]
    }
   ],
   "source": [
    "## 28. WAP to perform intersection of two frozensets\n",
    "fs1 = frozenset([1, 2, 3])\n",
    "fs2 = frozenset([2, 3, 4])\n",
    "intersection = fs1 & fs2\n",
    "print(intersection)  # frozenset({2, 3})"
   ]
  },
  {
   "cell_type": "code",
   "execution_count": 38,
   "id": "a6a3231e-d784-4900-b030-0bc7b1d53d02",
   "metadata": {},
   "outputs": [
    {
     "name": "stdout",
     "output_type": "stream",
     "text": [
      "frozenset({1, 2})\n"
     ]
    }
   ],
   "source": [
    "## 29. WAP to find difference between two frozen sets\n",
    "fs1 = frozenset([1, 2, 3, 4])\n",
    "fs2 = frozenset([3, 4, 5])\n",
    "difference = fs1 - fs2\n",
    "print(difference)  # frozenset({1, 2})"
   ]
  },
  {
   "cell_type": "code",
   "execution_count": 39,
   "id": "47a5c0d6-cd02-4817-8067-78b127eeb6a4",
   "metadata": {},
   "outputs": [
    {
     "name": "stdout",
     "output_type": "stream",
     "text": [
      "frozenset({1, 4})\n"
     ]
    }
   ],
   "source": [
    "## 30. WAP to find symmetric difference between two frozen sets\n",
    "fs1 = frozenset([1, 2, 3])\n",
    "fs2 = frozenset([2, 3, 4])\n",
    "sym_diff = fs1 ^ fs2\n",
    "print(sym_diff)  # frozenset({1, 4})"
   ]
  },
  {
   "cell_type": "code",
   "execution_count": 40,
   "id": "1ed81171-2ba6-4f85-b4e4-0c0787cc659a",
   "metadata": {},
   "outputs": [
    {
     "name": "stdout",
     "output_type": "stream",
     "text": [
      "{frozenset({3, 4}), frozenset({1, 2}), frozenset({5})}\n"
     ]
    }
   ],
   "source": [
    "## 31. WAP to show drozen set as elements of a set\n",
    "set_of_fs = {frozenset([1, 2]), frozenset([3, 4]), frozenset([5])}\n",
    "print(set_of_fs)\n",
    "# {frozenset({1, 2}), frozenset({3, 4}), frozenset({5})}"
   ]
  }
 ],
 "metadata": {
  "kernelspec": {
   "display_name": "Python 3 (ipykernel)",
   "language": "python",
   "name": "python3"
  },
  "language_info": {
   "codemirror_mode": {
    "name": "ipython",
    "version": 3
   },
   "file_extension": ".py",
   "mimetype": "text/x-python",
   "name": "python",
   "nbconvert_exporter": "python",
   "pygments_lexer": "ipython3",
   "version": "3.12.2"
  }
 },
 "nbformat": 4,
 "nbformat_minor": 5
}
