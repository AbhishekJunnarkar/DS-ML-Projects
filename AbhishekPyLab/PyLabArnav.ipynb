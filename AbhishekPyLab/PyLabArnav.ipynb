{
 "cells": [
  {
   "cell_type": "code",
   "execution_count": 10,
   "id": "57b1b3be-29da-40b3-a759-eaa6f06aeeda",
   "metadata": {},
   "outputs": [
    {
     "name": "stdout",
     "output_type": "stream",
     "text": [
      "hello !! This is Arnav\n",
      "5\n",
      "<class 'int'>\n",
      "5.2\n",
      "<class 'float'>\n",
      "Arnav\n",
      "<class 'str'>\n",
      "6 2 4 9 5 5\n",
      "7 2 8 3 5 3\n",
      "6 8 7 9 7 4\n",
      "3 8 8 4 3 3\n",
      "9 7 7 0 7 9\n",
      "4 5 1 7 8 3\n",
      "1 0 8 5 9 9\n",
      "8 9 5 4 3 7\n",
      "3 4 8 0 0 8\n",
      "0 1 9 5 5 9\n"
     ]
    },
    {
     "data": {
      "text/plain": [
       "['False',\n",
       " 'None',\n",
       " 'True',\n",
       " 'and',\n",
       " 'as',\n",
       " 'assert',\n",
       " 'async',\n",
       " 'await',\n",
       " 'break',\n",
       " 'class',\n",
       " 'continue',\n",
       " 'def',\n",
       " 'del',\n",
       " 'elif',\n",
       " 'else',\n",
       " 'except',\n",
       " 'finally',\n",
       " 'for',\n",
       " 'from',\n",
       " 'global',\n",
       " 'if',\n",
       " 'import',\n",
       " 'in',\n",
       " 'is',\n",
       " 'lambda',\n",
       " 'nonlocal',\n",
       " 'not',\n",
       " 'or',\n",
       " 'pass',\n",
       " 'raise',\n",
       " 'return',\n",
       " 'try',\n",
       " 'while',\n",
       " 'with',\n",
       " 'yield']"
      ]
     },
     "execution_count": 10,
     "metadata": {},
     "output_type": "execute_result"
    }
   ],
   "source": [
    "# Print hello world\n",
    "print('hello !! This is Arnav')\n",
    "\n",
    "## 2. Print a int value and its type\n",
    "\n",
    "a=5\n",
    "print(a)\n",
    "print(type(a))\n",
    "\n",
    "## 3. Print a float value and its type\n",
    "\n",
    "b=5.2\n",
    "print(b)\n",
    "print(type(b))\n",
    "\n",
    "## 4. Print a word and its type\n",
    "\n",
    "name='Arnav'\n",
    "print(name)\n",
    "print(type(name))\n",
    "\n",
    "## 5. Print a 6 digit random number\n",
    "from random import randint\n",
    "for i in range(10):\n",
    "    print(randint(0,9),randint(0,9),randint(0,9),randint(0,9),randint(0,9),randint(0,9))\n",
    "\n",
    "## 6. List all the keywords in Python\n",
    "import keyword\n",
    "keyword.kwlist\n",
    "\n",
    "\n"
   ]
  }
 ],
 "metadata": {
  "kernelspec": {
   "display_name": "Python 3 (ipykernel)",
   "language": "python",
   "name": "python3"
  },
  "language_info": {
   "codemirror_mode": {
    "name": "ipython",
    "version": 3
   },
   "file_extension": ".py",
   "mimetype": "text/x-python",
   "name": "python",
   "nbconvert_exporter": "python",
   "pygments_lexer": "ipython3",
   "version": "3.12.2"
  }
 },
 "nbformat": 4,
 "nbformat_minor": 5
}
